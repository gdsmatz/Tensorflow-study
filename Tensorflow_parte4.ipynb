{
  "nbformat": 4,
  "nbformat_minor": 0,
  "metadata": {
    "colab": {
      "provenance": [],
      "gpuType": "T4"
    },
    "kernelspec": {
      "name": "python3",
      "display_name": "Python 3"
    },
    "language_info": {
      "name": "python"
    },
    "accelerator": "GPU"
  },
  "cells": [
    {
      "cell_type": "markdown",
      "source": [
        "  # Introdução"
      ],
      "metadata": {
        "id": "BVZ6uns1yR3V"
      }
    },
    {
      "cell_type": "markdown",
      "source": [
        "Este notebook foi feito por Gabriel Matz visando o estudo dirigido para a prova de certificação oficial para o Tensorflow. A descrição da prova está no seguinte link:\n",
        "https://www.tensorflow.org/certificate?hl=pt-br.\n",
        "\n",
        "Utilizei como base os seguintes notebooks(além de sites variados e stack overflow para pequenas consultas):\n",
        "\n",
        "1- https://github.com/mrdbourke/tensorflow-deep-learning\n",
        "\n",
        "2-https://github.com/williamcwi/DeepLearning.AI-TensorFlow-Developer-Professional-Certificate"
      ],
      "metadata": {
        "id": "fkoP8fIRybRc"
      }
    },
    {
      "cell_type": "markdown",
      "source": [
        "O conteúdo deste terceiro notebook engloba a quarta parte de exigências da prova do Tensorflow, que estão descritas abaixo:\n",
        "\n",
        "\"\n",
        "(4) Processamento de Linguagem Natural (PLN)\n",
        "\n",
        "Você precisa entender como usar redes neurais para resolver problemas de processamento de linguagem natural usando o TensorFlow. Você precisa saber como:\n",
        "\n",
        "❏ Construir sistemas de processamento de linguagem natural usando TensorFlow.\n",
        "\n",
        "❏ Preparar texto para usar em modelos TensorFlow.\n",
        "\n",
        "❏ Construir modelos que identificam a categoria de um pedaço de texto usando categorização binária.\n",
        "\n",
        "❏ Construir modelos que identificam a categoria de um pedaço de texto usando categorização multi-classe.\n",
        "\n",
        "❏ Utilizar incorporações de palavras em seu modelo TensorFlow.\n",
        "\n",
        "❏ Utilizar LSTMs em seu modelo para classificar texto para categorização binária ou multi-classe.\n",
        "\n",
        "❏ Adicionar camadas RNN e GRU ao seu modelo.\n",
        "\n",
        "❏ Utilizar RNNS, LSTMs, GRUs e CNNs em modelos que lidam com texto.\n",
        "\n",
        "❏ Treinar LSTMs em texto existente para gerar texto (como músicas e poesias).\""
      ],
      "metadata": {
        "id": "cJ6_E6C6y8eX"
      }
    },
    {
      "cell_type": "markdown",
      "source": [
        "# Desenvolvimento"
      ],
      "metadata": {
        "id": "VIx1u53U0Me6"
      }
    },
    {
      "cell_type": "markdown",
      "source": [
        "**❏ Construir sistemas de processamento de linguagem natural usando TensorFlow.**"
      ],
      "metadata": {
        "id": "0NtqEOocKhyO"
      }
    },
    {
      "cell_type": "markdown",
      "source": [
        "Para esse notebook será usado primeiramente o conjunto de dados de detecção de sarcasmo como visto em:\n",
        "\n",
        "https://www.kaggle.com/code/pedrohft/nlp-tutorial-for-beginners-with-tensorflow/input"
      ],
      "metadata": {
        "id": "yA05vmibLSDu"
      }
    },
    {
      "cell_type": "code",
      "source": [
        "import tensorflow as tf"
      ],
      "metadata": {
        "id": "qyWkxVXdLjxz"
      },
      "execution_count": null,
      "outputs": []
    },
    {
      "cell_type": "code",
      "source": [
        "!nvidia-smi -L"
      ],
      "metadata": {
        "colab": {
          "base_uri": "https://localhost:8080/"
        },
        "id": "Vtb_ZGMdLt4a",
        "outputId": "3989e0ca-a974-4f47-935f-261b04703ddb"
      },
      "execution_count": null,
      "outputs": [
        {
          "output_type": "stream",
          "name": "stdout",
          "text": [
            "GPU 0: Tesla T4 (UUID: GPU-884a60e2-ccee-ebba-bbd1-4396930d1363)\n"
          ]
        }
      ]
    },
    {
      "cell_type": "markdown",
      "source": [
        "**❏ Preparar texto para usar em modelos TensorFlow.**"
      ],
      "metadata": {
        "id": "mD-xYeLPKjd1"
      }
    },
    {
      "cell_type": "code",
      "source": [
        "import pandas as pd\n",
        "datastore = pd.read_json('/content/Sarcasm_Headlines_Dataset.json.zip', lines = True)\n",
        "\n",
        "sentences = datastore['headline'].tolist()\n",
        "labels = datastore['is_sarcastic'].tolist()\n",
        "urls = datastore['article_link'].tolist()"
      ],
      "metadata": {
        "id": "9wLO3eIeL6Vw"
      },
      "execution_count": null,
      "outputs": []
    },
    {
      "cell_type": "code",
      "source": [
        "datastore.head()"
      ],
      "metadata": {
        "colab": {
          "base_uri": "https://localhost:8080/",
          "height": 206
        },
        "id": "KllvObozMH_t",
        "outputId": "655587ef-de69-4581-f551-014b9dd85f14"
      },
      "execution_count": null,
      "outputs": [
        {
          "output_type": "execute_result",
          "data": {
            "text/plain": [
              "                                        article_link  \\\n",
              "0  https://www.huffingtonpost.com/entry/versace-b...   \n",
              "1  https://www.huffingtonpost.com/entry/roseanne-...   \n",
              "2  https://local.theonion.com/mom-starting-to-fea...   \n",
              "3  https://politics.theonion.com/boehner-just-wan...   \n",
              "4  https://www.huffingtonpost.com/entry/jk-rowlin...   \n",
              "\n",
              "                                            headline  is_sarcastic  \n",
              "0  former versace store clerk sues over secret 'b...             0  \n",
              "1  the 'roseanne' revival catches up to our thorn...             0  \n",
              "2  mom starting to fear son's web series closest ...             1  \n",
              "3  boehner just wants wife to listen, not come up...             1  \n",
              "4  j.k. rowling wishes snape happy birthday in th...             0  "
            ],
            "text/html": [
              "\n",
              "  <div id=\"df-fe529351-9cc1-4070-9dd4-a72febee738d\" class=\"colab-df-container\">\n",
              "    <div>\n",
              "<style scoped>\n",
              "    .dataframe tbody tr th:only-of-type {\n",
              "        vertical-align: middle;\n",
              "    }\n",
              "\n",
              "    .dataframe tbody tr th {\n",
              "        vertical-align: top;\n",
              "    }\n",
              "\n",
              "    .dataframe thead th {\n",
              "        text-align: right;\n",
              "    }\n",
              "</style>\n",
              "<table border=\"1\" class=\"dataframe\">\n",
              "  <thead>\n",
              "    <tr style=\"text-align: right;\">\n",
              "      <th></th>\n",
              "      <th>article_link</th>\n",
              "      <th>headline</th>\n",
              "      <th>is_sarcastic</th>\n",
              "    </tr>\n",
              "  </thead>\n",
              "  <tbody>\n",
              "    <tr>\n",
              "      <th>0</th>\n",
              "      <td>https://www.huffingtonpost.com/entry/versace-b...</td>\n",
              "      <td>former versace store clerk sues over secret 'b...</td>\n",
              "      <td>0</td>\n",
              "    </tr>\n",
              "    <tr>\n",
              "      <th>1</th>\n",
              "      <td>https://www.huffingtonpost.com/entry/roseanne-...</td>\n",
              "      <td>the 'roseanne' revival catches up to our thorn...</td>\n",
              "      <td>0</td>\n",
              "    </tr>\n",
              "    <tr>\n",
              "      <th>2</th>\n",
              "      <td>https://local.theonion.com/mom-starting-to-fea...</td>\n",
              "      <td>mom starting to fear son's web series closest ...</td>\n",
              "      <td>1</td>\n",
              "    </tr>\n",
              "    <tr>\n",
              "      <th>3</th>\n",
              "      <td>https://politics.theonion.com/boehner-just-wan...</td>\n",
              "      <td>boehner just wants wife to listen, not come up...</td>\n",
              "      <td>1</td>\n",
              "    </tr>\n",
              "    <tr>\n",
              "      <th>4</th>\n",
              "      <td>https://www.huffingtonpost.com/entry/jk-rowlin...</td>\n",
              "      <td>j.k. rowling wishes snape happy birthday in th...</td>\n",
              "      <td>0</td>\n",
              "    </tr>\n",
              "  </tbody>\n",
              "</table>\n",
              "</div>\n",
              "    <div class=\"colab-df-buttons\">\n",
              "\n",
              "  <div class=\"colab-df-container\">\n",
              "    <button class=\"colab-df-convert\" onclick=\"convertToInteractive('df-fe529351-9cc1-4070-9dd4-a72febee738d')\"\n",
              "            title=\"Convert this dataframe to an interactive table.\"\n",
              "            style=\"display:none;\">\n",
              "\n",
              "  <svg xmlns=\"http://www.w3.org/2000/svg\" height=\"24px\" viewBox=\"0 -960 960 960\">\n",
              "    <path d=\"M120-120v-720h720v720H120Zm60-500h600v-160H180v160Zm220 220h160v-160H400v160Zm0 220h160v-160H400v160ZM180-400h160v-160H180v160Zm440 0h160v-160H620v160ZM180-180h160v-160H180v160Zm440 0h160v-160H620v160Z\"/>\n",
              "  </svg>\n",
              "    </button>\n",
              "\n",
              "  <style>\n",
              "    .colab-df-container {\n",
              "      display:flex;\n",
              "      gap: 12px;\n",
              "    }\n",
              "\n",
              "    .colab-df-convert {\n",
              "      background-color: #E8F0FE;\n",
              "      border: none;\n",
              "      border-radius: 50%;\n",
              "      cursor: pointer;\n",
              "      display: none;\n",
              "      fill: #1967D2;\n",
              "      height: 32px;\n",
              "      padding: 0 0 0 0;\n",
              "      width: 32px;\n",
              "    }\n",
              "\n",
              "    .colab-df-convert:hover {\n",
              "      background-color: #E2EBFA;\n",
              "      box-shadow: 0px 1px 2px rgba(60, 64, 67, 0.3), 0px 1px 3px 1px rgba(60, 64, 67, 0.15);\n",
              "      fill: #174EA6;\n",
              "    }\n",
              "\n",
              "    .colab-df-buttons div {\n",
              "      margin-bottom: 4px;\n",
              "    }\n",
              "\n",
              "    [theme=dark] .colab-df-convert {\n",
              "      background-color: #3B4455;\n",
              "      fill: #D2E3FC;\n",
              "    }\n",
              "\n",
              "    [theme=dark] .colab-df-convert:hover {\n",
              "      background-color: #434B5C;\n",
              "      box-shadow: 0px 1px 3px 1px rgba(0, 0, 0, 0.15);\n",
              "      filter: drop-shadow(0px 1px 2px rgba(0, 0, 0, 0.3));\n",
              "      fill: #FFFFFF;\n",
              "    }\n",
              "  </style>\n",
              "\n",
              "    <script>\n",
              "      const buttonEl =\n",
              "        document.querySelector('#df-fe529351-9cc1-4070-9dd4-a72febee738d button.colab-df-convert');\n",
              "      buttonEl.style.display =\n",
              "        google.colab.kernel.accessAllowed ? 'block' : 'none';\n",
              "\n",
              "      async function convertToInteractive(key) {\n",
              "        const element = document.querySelector('#df-fe529351-9cc1-4070-9dd4-a72febee738d');\n",
              "        const dataTable =\n",
              "          await google.colab.kernel.invokeFunction('convertToInteractive',\n",
              "                                                    [key], {});\n",
              "        if (!dataTable) return;\n",
              "\n",
              "        const docLinkHtml = 'Like what you see? Visit the ' +\n",
              "          '<a target=\"_blank\" href=https://colab.research.google.com/notebooks/data_table.ipynb>data table notebook</a>'\n",
              "          + ' to learn more about interactive tables.';\n",
              "        element.innerHTML = '';\n",
              "        dataTable['output_type'] = 'display_data';\n",
              "        await google.colab.output.renderOutput(dataTable, element);\n",
              "        const docLink = document.createElement('div');\n",
              "        docLink.innerHTML = docLinkHtml;\n",
              "        element.appendChild(docLink);\n",
              "      }\n",
              "    </script>\n",
              "  </div>\n",
              "\n",
              "\n",
              "<div id=\"df-1b163bda-0786-458d-8ca6-aac4372c980f\">\n",
              "  <button class=\"colab-df-quickchart\" onclick=\"quickchart('df-1b163bda-0786-458d-8ca6-aac4372c980f')\"\n",
              "            title=\"Suggest charts\"\n",
              "            style=\"display:none;\">\n",
              "\n",
              "<svg xmlns=\"http://www.w3.org/2000/svg\" height=\"24px\"viewBox=\"0 0 24 24\"\n",
              "     width=\"24px\">\n",
              "    <g>\n",
              "        <path d=\"M19 3H5c-1.1 0-2 .9-2 2v14c0 1.1.9 2 2 2h14c1.1 0 2-.9 2-2V5c0-1.1-.9-2-2-2zM9 17H7v-7h2v7zm4 0h-2V7h2v10zm4 0h-2v-4h2v4z\"/>\n",
              "    </g>\n",
              "</svg>\n",
              "  </button>\n",
              "\n",
              "<style>\n",
              "  .colab-df-quickchart {\n",
              "      --bg-color: #E8F0FE;\n",
              "      --fill-color: #1967D2;\n",
              "      --hover-bg-color: #E2EBFA;\n",
              "      --hover-fill-color: #174EA6;\n",
              "      --disabled-fill-color: #AAA;\n",
              "      --disabled-bg-color: #DDD;\n",
              "  }\n",
              "\n",
              "  [theme=dark] .colab-df-quickchart {\n",
              "      --bg-color: #3B4455;\n",
              "      --fill-color: #D2E3FC;\n",
              "      --hover-bg-color: #434B5C;\n",
              "      --hover-fill-color: #FFFFFF;\n",
              "      --disabled-bg-color: #3B4455;\n",
              "      --disabled-fill-color: #666;\n",
              "  }\n",
              "\n",
              "  .colab-df-quickchart {\n",
              "    background-color: var(--bg-color);\n",
              "    border: none;\n",
              "    border-radius: 50%;\n",
              "    cursor: pointer;\n",
              "    display: none;\n",
              "    fill: var(--fill-color);\n",
              "    height: 32px;\n",
              "    padding: 0;\n",
              "    width: 32px;\n",
              "  }\n",
              "\n",
              "  .colab-df-quickchart:hover {\n",
              "    background-color: var(--hover-bg-color);\n",
              "    box-shadow: 0 1px 2px rgba(60, 64, 67, 0.3), 0 1px 3px 1px rgba(60, 64, 67, 0.15);\n",
              "    fill: var(--button-hover-fill-color);\n",
              "  }\n",
              "\n",
              "  .colab-df-quickchart-complete:disabled,\n",
              "  .colab-df-quickchart-complete:disabled:hover {\n",
              "    background-color: var(--disabled-bg-color);\n",
              "    fill: var(--disabled-fill-color);\n",
              "    box-shadow: none;\n",
              "  }\n",
              "\n",
              "  .colab-df-spinner {\n",
              "    border: 2px solid var(--fill-color);\n",
              "    border-color: transparent;\n",
              "    border-bottom-color: var(--fill-color);\n",
              "    animation:\n",
              "      spin 1s steps(1) infinite;\n",
              "  }\n",
              "\n",
              "  @keyframes spin {\n",
              "    0% {\n",
              "      border-color: transparent;\n",
              "      border-bottom-color: var(--fill-color);\n",
              "      border-left-color: var(--fill-color);\n",
              "    }\n",
              "    20% {\n",
              "      border-color: transparent;\n",
              "      border-left-color: var(--fill-color);\n",
              "      border-top-color: var(--fill-color);\n",
              "    }\n",
              "    30% {\n",
              "      border-color: transparent;\n",
              "      border-left-color: var(--fill-color);\n",
              "      border-top-color: var(--fill-color);\n",
              "      border-right-color: var(--fill-color);\n",
              "    }\n",
              "    40% {\n",
              "      border-color: transparent;\n",
              "      border-right-color: var(--fill-color);\n",
              "      border-top-color: var(--fill-color);\n",
              "    }\n",
              "    60% {\n",
              "      border-color: transparent;\n",
              "      border-right-color: var(--fill-color);\n",
              "    }\n",
              "    80% {\n",
              "      border-color: transparent;\n",
              "      border-right-color: var(--fill-color);\n",
              "      border-bottom-color: var(--fill-color);\n",
              "    }\n",
              "    90% {\n",
              "      border-color: transparent;\n",
              "      border-bottom-color: var(--fill-color);\n",
              "    }\n",
              "  }\n",
              "</style>\n",
              "\n",
              "  <script>\n",
              "    async function quickchart(key) {\n",
              "      const quickchartButtonEl =\n",
              "        document.querySelector('#' + key + ' button');\n",
              "      quickchartButtonEl.disabled = true;  // To prevent multiple clicks.\n",
              "      quickchartButtonEl.classList.add('colab-df-spinner');\n",
              "      try {\n",
              "        const charts = await google.colab.kernel.invokeFunction(\n",
              "            'suggestCharts', [key], {});\n",
              "      } catch (error) {\n",
              "        console.error('Error during call to suggestCharts:', error);\n",
              "      }\n",
              "      quickchartButtonEl.classList.remove('colab-df-spinner');\n",
              "      quickchartButtonEl.classList.add('colab-df-quickchart-complete');\n",
              "    }\n",
              "    (() => {\n",
              "      let quickchartButtonEl =\n",
              "        document.querySelector('#df-1b163bda-0786-458d-8ca6-aac4372c980f button');\n",
              "      quickchartButtonEl.style.display =\n",
              "        google.colab.kernel.accessAllowed ? 'block' : 'none';\n",
              "    })();\n",
              "  </script>\n",
              "</div>\n",
              "\n",
              "    </div>\n",
              "  </div>\n"
            ],
            "application/vnd.google.colaboratory.intrinsic+json": {
              "type": "dataframe",
              "variable_name": "datastore",
              "summary": "{\n  \"name\": \"datastore\",\n  \"rows\": 26709,\n  \"fields\": [\n    {\n      \"column\": \"article_link\",\n      \"properties\": {\n        \"dtype\": \"string\",\n        \"num_unique_values\": 26708,\n        \"samples\": [\n          \"https://www.theonion.com/isis-recruiter-excited-to-be-talking-to-popular-high-sc-1819579508\",\n          \"https://www.huffingtonpost.com/entry/jimmy-fallon-could-barely-keep-it-together-during-this-cardi-b-interview_us_5a3c01aae4b06d1621b2de98\",\n          \"https://www.huffingtonpost.com/entry/4-ways-to-support-farmtos_b_5906452.html\"\n        ],\n        \"semantic_type\": \"\",\n        \"description\": \"\"\n      }\n    },\n    {\n      \"column\": \"headline\",\n      \"properties\": {\n        \"dtype\": \"string\",\n        \"num_unique_values\": 26602,\n        \"samples\": [\n          \"departing employee not quite important enough for send-off\",\n          \"college student still managing to look like asshole in picture of village he helped build\",\n          \"fun sticker placed on child's ventilator\"\n        ],\n        \"semantic_type\": \"\",\n        \"description\": \"\"\n      }\n    },\n    {\n      \"column\": \"is_sarcastic\",\n      \"properties\": {\n        \"dtype\": \"number\",\n        \"std\": 0,\n        \"min\": 0,\n        \"max\": 1,\n        \"num_unique_values\": 2,\n        \"samples\": [\n          1,\n          0\n        ],\n        \"semantic_type\": \"\",\n        \"description\": \"\"\n      }\n    }\n  ]\n}"
            }
          },
          "metadata": {},
          "execution_count": 8
        }
      ]
    },
    {
      "cell_type": "markdown",
      "source": [
        "Tirando dados inúteis"
      ],
      "metadata": {
        "id": "VWZSSbD_pB0T"
      }
    },
    {
      "cell_type": "code",
      "source": [
        "from sklearn.model_selection import train_test_split\n",
        "train_sentences, val_sentences, train_labels, val_labels = train_test_split(datastore[\"headline\"].to_numpy(),\n",
        "                                                                            datastore[\"is_sarcastic\"].to_numpy(),\n",
        "                                                                            test_size=0.2,\n",
        "                                                                            random_state=1)"
      ],
      "metadata": {
        "id": "q82kfZGbMoG3"
      },
      "execution_count": null,
      "outputs": []
    },
    {
      "cell_type": "code",
      "source": [
        "len(train_sentences), len(train_labels), len(val_sentences), len(val_labels)"
      ],
      "metadata": {
        "colab": {
          "base_uri": "https://localhost:8080/"
        },
        "id": "4vfDze1QOKLh",
        "outputId": "91b45473-d95f-474b-ebec-6b05c44182ea"
      },
      "execution_count": null,
      "outputs": [
        {
          "output_type": "execute_result",
          "data": {
            "text/plain": [
              "(21367, 21367, 5342, 5342)"
            ]
          },
          "metadata": {},
          "execution_count": 10
        }
      ]
    },
    {
      "cell_type": "markdown",
      "source": [
        "**❏ Utilizar incorporações de palavras(embeddings) em seu modelo TensorFlow.**"
      ],
      "metadata": {
        "id": "Cm0D_dYTKqVD"
      }
    },
    {
      "cell_type": "markdown",
      "source": [
        "Passo 1: Tokenização\n",
        "\n",
        "Transforma palavras em algo interpretável pela rede"
      ],
      "metadata": {
        "id": "0nhnyEx2OcCc"
      }
    },
    {
      "cell_type": "code",
      "source": [
        "from tensorflow.keras.layers import TextVectorization\n",
        "text_vectorizer = TextVectorization(max_tokens=10000, # palavras diferentes no texto\n",
        "                                    standardize=\"lower_and_strip_punctuation\", # método de normalização\n",
        "                                    split=\"whitespace\", # aonde separa os tokens\n",
        "                                    ngrams=None, # grupo de n palavras\n",
        "                                    output_mode=\"int\", # tokens são inteiros\n",
        "                                    output_sequence_length=15) # tamanho da seq de output\n",
        "                                    # pad_to_max_tokens=True) # Se usar max_tokens faz o padding"
      ],
      "metadata": {
        "id": "-S1Blyh4ObHt"
      },
      "execution_count": null,
      "outputs": []
    },
    {
      "cell_type": "code",
      "source": [
        "text_vectorizer.adapt(train_sentences)"
      ],
      "metadata": {
        "id": "TQAbAxt-PfDZ"
      },
      "execution_count": null,
      "outputs": []
    },
    {
      "cell_type": "code",
      "source": [
        "# Vizualizando resultado\n",
        "words_in_vocab = text_vectorizer.get_vocabulary()\n",
        "top_5_words = words_in_vocab[:5] # mais comuns\n",
        "bottom_5_words = words_in_vocab[-5:] # menos comuns\n",
        "print(f\"Quantidade de palavras: {len(words_in_vocab)}\")\n",
        "print(f\"Top 5 mais comum: {top_5_words}\")\n",
        "print(f\"5 menos comuns: {bottom_5_words}\")"
      ],
      "metadata": {
        "colab": {
          "base_uri": "https://localhost:8080/"
        },
        "id": "98Xpzi39Pq8H",
        "outputId": "dbfe3b71-c648-409f-8ce8-8751182a2a73"
      },
      "execution_count": null,
      "outputs": [
        {
          "output_type": "stream",
          "name": "stdout",
          "text": [
            "Quantidade de palavras: 10000\n",
            "Top 5 mais comum: ['', '[UNK]', 'to', 'of', 'the']\n",
            "5 menos comuns: ['scolded', 'scientology', 'sciencebacked', 'schoolhouse', 'schooler']\n"
          ]
        }
      ]
    },
    {
      "cell_type": "markdown",
      "source": [
        "Passo 2: Camada de embedding\n",
        "\n",
        "Camada a ser treinada que carrega o sentido entendido das palavras."
      ],
      "metadata": {
        "id": "RIlewIbVQDHt"
      }
    },
    {
      "cell_type": "code",
      "source": [
        "embedding = tf.keras.layers.Embedding(input_dim=10000, # dimensão input\n",
        "                                      output_dim=128, # dimensão de output\n",
        "                                      embeddings_initializer=\"uniform\", # Distribuição dos valores iniciais\n",
        "                                      input_length=15, # tamanho input\n",
        "                                      name=\"embedding_1\")\n",
        "\n",
        "embedding"
      ],
      "metadata": {
        "colab": {
          "base_uri": "https://localhost:8080/"
        },
        "id": "5U9nKqiyQS-K",
        "outputId": "82885a2b-b58b-489f-e215-866246c633af"
      },
      "execution_count": null,
      "outputs": [
        {
          "output_type": "execute_result",
          "data": {
            "text/plain": [
              "<keras.src.layers.core.embedding.Embedding at 0x7ec911fbae00>"
            ]
          },
          "metadata": {},
          "execution_count": 31
        }
      ]
    },
    {
      "cell_type": "markdown",
      "source": [
        "**❏ Construir modelos que identificam a categoria de um pedaço de texto usando categorização binária.**"
      ],
      "metadata": {
        "id": "kOaPHaFhKmol"
      }
    },
    {
      "cell_type": "markdown",
      "source": [
        "Abaixo veremos vários exemplos"
      ],
      "metadata": {
        "id": "JVHl3H9HUQyg"
      }
    },
    {
      "cell_type": "markdown",
      "source": [
        "**Baseline**"
      ],
      "metadata": {
        "id": "puJJQf9MRyva"
      }
    },
    {
      "cell_type": "markdown",
      "source": [
        "Sem muita coisa."
      ],
      "metadata": {
        "id": "oJeJ7mHqqh8T"
      }
    },
    {
      "cell_type": "code",
      "source": [
        "from tensorflow.keras import layers\n",
        "inputs = layers.Input(shape=(1,), dtype=\"string\") # input são strings\n",
        "x = text_vectorizer(inputs) # vetoriza\n",
        "x = embedding(x) # adiciona o embedding\n",
        "x = layers.GlobalAveragePooling1D()(x) # diminui a dimensionalidade do embedding\n",
        "outputs = layers.Dense(1, activation=\"sigmoid\")(x) # output\n",
        "model_1 = tf.keras.Model(inputs, outputs, name=\"model_1_dense\")"
      ],
      "metadata": {
        "id": "ZdqXdH1pRUzW"
      },
      "execution_count": null,
      "outputs": []
    },
    {
      "cell_type": "code",
      "source": [
        "model_1.compile(loss=\"binary_crossentropy\",\n",
        "                optimizer=tf.keras.optimizers.Adam(),\n",
        "                metrics=[\"accuracy\"])"
      ],
      "metadata": {
        "id": "MWYLp__sRZhW"
      },
      "execution_count": null,
      "outputs": []
    },
    {
      "cell_type": "code",
      "source": [
        "model_1_history = model_1.fit(train_sentences,\n",
        "                              train_labels,\n",
        "                              epochs=5,\n",
        "                              validation_data=(val_sentences, val_labels))"
      ],
      "metadata": {
        "colab": {
          "base_uri": "https://localhost:8080/"
        },
        "id": "uDMGt5ZCRcSM",
        "outputId": "fa953e22-f62e-4998-96e1-dc6d788a9d12"
      },
      "execution_count": null,
      "outputs": [
        {
          "output_type": "stream",
          "name": "stdout",
          "text": [
            "Epoch 1/5\n",
            "668/668 [==============================] - 14s 20ms/step - loss: 0.4924 - accuracy: 0.7765 - val_loss: 0.3727 - val_accuracy: 0.8458\n",
            "Epoch 2/5\n",
            "668/668 [==============================] - 4s 5ms/step - loss: 0.2971 - accuracy: 0.8826 - val_loss: 0.3316 - val_accuracy: 0.8585\n",
            "Epoch 3/5\n",
            "668/668 [==============================] - 3s 5ms/step - loss: 0.2305 - accuracy: 0.9111 - val_loss: 0.3281 - val_accuracy: 0.8622\n",
            "Epoch 4/5\n",
            "668/668 [==============================] - 5s 7ms/step - loss: 0.1884 - accuracy: 0.9300 - val_loss: 0.3486 - val_accuracy: 0.8557\n",
            "Epoch 5/5\n",
            "668/668 [==============================] - 3s 5ms/step - loss: 0.1595 - accuracy: 0.9414 - val_loss: 0.3791 - val_accuracy: 0.8525\n"
          ]
        }
      ]
    },
    {
      "cell_type": "markdown",
      "source": [
        "**❏ Utilizar LSTMs em seu modelo para classificar texto para categorização binária ou multi-classe.**"
      ],
      "metadata": {
        "id": "saHGA792KrCE"
      }
    },
    {
      "cell_type": "code",
      "source": [
        "inputs = layers.Input(shape=(1,), dtype=\"string\")\n",
        "x = text_vectorizer(inputs)\n",
        "x = embedding(x)\n",
        "x = layers.LSTM(64)(x)\n",
        "outputs = layers.Dense(1, activation=\"sigmoid\")(x)\n",
        "model_2 = tf.keras.Model(inputs, outputs, name=\"model_2_dense\")"
      ],
      "metadata": {
        "id": "e8xPcghmSjeT"
      },
      "execution_count": null,
      "outputs": []
    },
    {
      "cell_type": "code",
      "source": [
        "model_2.compile(loss=\"binary_crossentropy\",\n",
        "                optimizer=tf.keras.optimizers.Adam(),\n",
        "                metrics=[\"accuracy\"])"
      ],
      "metadata": {
        "id": "p974ZLTtSl3y"
      },
      "execution_count": null,
      "outputs": []
    },
    {
      "cell_type": "code",
      "source": [
        "model_2_history = model_2.fit(train_sentences, # input sentences can be a list of strings due to text preprocessing layer built-in model\n",
        "                              train_labels,\n",
        "                              epochs=5,\n",
        "                              validation_data=(val_sentences, val_labels))"
      ],
      "metadata": {
        "colab": {
          "base_uri": "https://localhost:8080/"
        },
        "outputId": "b1e665f5-602a-4829-bfc4-b9a7670815a8",
        "id": "3CwRYklqSn7a"
      },
      "execution_count": null,
      "outputs": [
        {
          "output_type": "stream",
          "name": "stdout",
          "text": [
            "Epoch 1/5\n",
            "668/668 [==============================] - 15s 20ms/step - loss: 0.1537 - accuracy: 0.9459 - val_loss: 0.4140 - val_accuracy: 0.8521\n",
            "Epoch 2/5\n",
            "668/668 [==============================] - 7s 10ms/step - loss: 0.1141 - accuracy: 0.9580 - val_loss: 0.4737 - val_accuracy: 0.8444\n",
            "Epoch 3/5\n",
            "668/668 [==============================] - 8s 12ms/step - loss: 0.0876 - accuracy: 0.9694 - val_loss: 0.5764 - val_accuracy: 0.8416\n",
            "Epoch 4/5\n",
            "668/668 [==============================] - 5s 8ms/step - loss: 0.0602 - accuracy: 0.9771 - val_loss: 0.5525 - val_accuracy: 0.8409\n",
            "Epoch 5/5\n",
            "668/668 [==============================] - 5s 7ms/step - loss: 0.0436 - accuracy: 0.9827 - val_loss: 0.8048 - val_accuracy: 0.8428\n"
          ]
        }
      ]
    },
    {
      "cell_type": "markdown",
      "source": [
        "**❏ Adicionar camadas RNN e GRU ao seu modelo.**"
      ],
      "metadata": {
        "id": "tkqXh5WZKuKr"
      }
    },
    {
      "cell_type": "code",
      "source": [
        "inputs = layers.Input(shape=(1,), dtype=\"string\")\n",
        "x = text_vectorizer(inputs)\n",
        "x = embedding(x)\n",
        "x = layers.GRU(64)(x)\n",
        "outputs = layers.Dense(1, activation=\"sigmoid\")(x)\n",
        "model_3 = tf.keras.Model(inputs, outputs, name=\"model_2_dense\")"
      ],
      "metadata": {
        "id": "d_8_eoqOT4L0"
      },
      "execution_count": null,
      "outputs": []
    },
    {
      "cell_type": "code",
      "source": [
        "model_3.compile(loss=\"binary_crossentropy\",\n",
        "                optimizer=tf.keras.optimizers.Adam(),\n",
        "                metrics=[\"accuracy\"])"
      ],
      "metadata": {
        "id": "BfjVWI3HT4L0"
      },
      "execution_count": null,
      "outputs": []
    },
    {
      "cell_type": "code",
      "source": [
        "model_3_history = model_3.fit(train_sentences, # input sentences can be a list of strings due to text preprocessing layer built-in model\n",
        "                              train_labels,\n",
        "                              epochs=5,\n",
        "                              validation_data=(val_sentences, val_labels))"
      ],
      "metadata": {
        "colab": {
          "base_uri": "https://localhost:8080/",
          "height": 519
        },
        "outputId": "eac92c4e-c1e4-4f10-ec7a-4efcac240524",
        "id": "MM2J2TddT4L1"
      },
      "execution_count": null,
      "outputs": [
        {
          "output_type": "stream",
          "name": "stdout",
          "text": [
            "Epoch 1/5\n",
            "668/668 [==============================] - 15s 19ms/step - loss: 0.1038 - accuracy: 0.9599 - val_loss: 0.6885 - val_accuracy: 0.8396\n",
            "Epoch 2/5\n",
            "668/668 [==============================] - 5s 8ms/step - loss: 0.0432 - accuracy: 0.9849 - val_loss: 0.7374 - val_accuracy: 0.8411\n",
            "Epoch 3/5\n",
            "339/668 [==============>...............] - ETA: 1s - loss: 0.0305 - accuracy: 0.9888"
          ]
        },
        {
          "output_type": "error",
          "ename": "KeyboardInterrupt",
          "evalue": "",
          "traceback": [
            "\u001b[0;31m---------------------------------------------------------------------------\u001b[0m",
            "\u001b[0;31mKeyboardInterrupt\u001b[0m                         Traceback (most recent call last)",
            "\u001b[0;32m<ipython-input-40-c26576ddfc98>\u001b[0m in \u001b[0;36m<cell line: 1>\u001b[0;34m()\u001b[0m\n\u001b[0;32m----> 1\u001b[0;31m model_3_history = model_3.fit(train_sentences, # input sentences can be a list of strings due to text preprocessing layer built-in model\n\u001b[0m\u001b[1;32m      2\u001b[0m                               \u001b[0mtrain_labels\u001b[0m\u001b[0;34m,\u001b[0m\u001b[0;34m\u001b[0m\u001b[0;34m\u001b[0m\u001b[0m\n\u001b[1;32m      3\u001b[0m                               \u001b[0mepochs\u001b[0m\u001b[0;34m=\u001b[0m\u001b[0;36m5\u001b[0m\u001b[0;34m,\u001b[0m\u001b[0;34m\u001b[0m\u001b[0;34m\u001b[0m\u001b[0m\n\u001b[1;32m      4\u001b[0m                               validation_data=(val_sentences, val_labels))\n",
            "\u001b[0;32m/usr/local/lib/python3.10/dist-packages/keras/src/utils/traceback_utils.py\u001b[0m in \u001b[0;36merror_handler\u001b[0;34m(*args, **kwargs)\u001b[0m\n\u001b[1;32m     63\u001b[0m         \u001b[0mfiltered_tb\u001b[0m \u001b[0;34m=\u001b[0m \u001b[0;32mNone\u001b[0m\u001b[0;34m\u001b[0m\u001b[0;34m\u001b[0m\u001b[0m\n\u001b[1;32m     64\u001b[0m         \u001b[0;32mtry\u001b[0m\u001b[0;34m:\u001b[0m\u001b[0;34m\u001b[0m\u001b[0;34m\u001b[0m\u001b[0m\n\u001b[0;32m---> 65\u001b[0;31m             \u001b[0;32mreturn\u001b[0m \u001b[0mfn\u001b[0m\u001b[0;34m(\u001b[0m\u001b[0;34m*\u001b[0m\u001b[0margs\u001b[0m\u001b[0;34m,\u001b[0m \u001b[0;34m**\u001b[0m\u001b[0mkwargs\u001b[0m\u001b[0;34m)\u001b[0m\u001b[0;34m\u001b[0m\u001b[0;34m\u001b[0m\u001b[0m\n\u001b[0m\u001b[1;32m     66\u001b[0m         \u001b[0;32mexcept\u001b[0m \u001b[0mException\u001b[0m \u001b[0;32mas\u001b[0m \u001b[0me\u001b[0m\u001b[0;34m:\u001b[0m\u001b[0;34m\u001b[0m\u001b[0;34m\u001b[0m\u001b[0m\n\u001b[1;32m     67\u001b[0m             \u001b[0mfiltered_tb\u001b[0m \u001b[0;34m=\u001b[0m \u001b[0m_process_traceback_frames\u001b[0m\u001b[0;34m(\u001b[0m\u001b[0me\u001b[0m\u001b[0;34m.\u001b[0m\u001b[0m__traceback__\u001b[0m\u001b[0;34m)\u001b[0m\u001b[0;34m\u001b[0m\u001b[0;34m\u001b[0m\u001b[0m\n",
            "\u001b[0;32m/usr/local/lib/python3.10/dist-packages/keras/src/engine/training.py\u001b[0m in \u001b[0;36mfit\u001b[0;34m(self, x, y, batch_size, epochs, verbose, callbacks, validation_split, validation_data, shuffle, class_weight, sample_weight, initial_epoch, steps_per_epoch, validation_steps, validation_batch_size, validation_freq, max_queue_size, workers, use_multiprocessing)\u001b[0m\n\u001b[1;32m   1805\u001b[0m                         ):\n\u001b[1;32m   1806\u001b[0m                             \u001b[0mcallbacks\u001b[0m\u001b[0;34m.\u001b[0m\u001b[0mon_train_batch_begin\u001b[0m\u001b[0;34m(\u001b[0m\u001b[0mstep\u001b[0m\u001b[0;34m)\u001b[0m\u001b[0;34m\u001b[0m\u001b[0;34m\u001b[0m\u001b[0m\n\u001b[0;32m-> 1807\u001b[0;31m                             \u001b[0mtmp_logs\u001b[0m \u001b[0;34m=\u001b[0m \u001b[0mself\u001b[0m\u001b[0;34m.\u001b[0m\u001b[0mtrain_function\u001b[0m\u001b[0;34m(\u001b[0m\u001b[0miterator\u001b[0m\u001b[0;34m)\u001b[0m\u001b[0;34m\u001b[0m\u001b[0;34m\u001b[0m\u001b[0m\n\u001b[0m\u001b[1;32m   1808\u001b[0m                             \u001b[0;32mif\u001b[0m \u001b[0mdata_handler\u001b[0m\u001b[0;34m.\u001b[0m\u001b[0mshould_sync\u001b[0m\u001b[0;34m:\u001b[0m\u001b[0;34m\u001b[0m\u001b[0;34m\u001b[0m\u001b[0m\n\u001b[1;32m   1809\u001b[0m                                 \u001b[0mcontext\u001b[0m\u001b[0;34m.\u001b[0m\u001b[0masync_wait\u001b[0m\u001b[0;34m(\u001b[0m\u001b[0;34m)\u001b[0m\u001b[0;34m\u001b[0m\u001b[0;34m\u001b[0m\u001b[0m\n",
            "\u001b[0;32m/usr/local/lib/python3.10/dist-packages/tensorflow/python/util/traceback_utils.py\u001b[0m in \u001b[0;36merror_handler\u001b[0;34m(*args, **kwargs)\u001b[0m\n\u001b[1;32m    148\u001b[0m     \u001b[0mfiltered_tb\u001b[0m \u001b[0;34m=\u001b[0m \u001b[0;32mNone\u001b[0m\u001b[0;34m\u001b[0m\u001b[0;34m\u001b[0m\u001b[0m\n\u001b[1;32m    149\u001b[0m     \u001b[0;32mtry\u001b[0m\u001b[0;34m:\u001b[0m\u001b[0;34m\u001b[0m\u001b[0;34m\u001b[0m\u001b[0m\n\u001b[0;32m--> 150\u001b[0;31m       \u001b[0;32mreturn\u001b[0m \u001b[0mfn\u001b[0m\u001b[0;34m(\u001b[0m\u001b[0;34m*\u001b[0m\u001b[0margs\u001b[0m\u001b[0;34m,\u001b[0m \u001b[0;34m**\u001b[0m\u001b[0mkwargs\u001b[0m\u001b[0;34m)\u001b[0m\u001b[0;34m\u001b[0m\u001b[0;34m\u001b[0m\u001b[0m\n\u001b[0m\u001b[1;32m    151\u001b[0m     \u001b[0;32mexcept\u001b[0m \u001b[0mException\u001b[0m \u001b[0;32mas\u001b[0m \u001b[0me\u001b[0m\u001b[0;34m:\u001b[0m\u001b[0;34m\u001b[0m\u001b[0;34m\u001b[0m\u001b[0m\n\u001b[1;32m    152\u001b[0m       \u001b[0mfiltered_tb\u001b[0m \u001b[0;34m=\u001b[0m \u001b[0m_process_traceback_frames\u001b[0m\u001b[0;34m(\u001b[0m\u001b[0me\u001b[0m\u001b[0;34m.\u001b[0m\u001b[0m__traceback__\u001b[0m\u001b[0;34m)\u001b[0m\u001b[0;34m\u001b[0m\u001b[0;34m\u001b[0m\u001b[0m\n",
            "\u001b[0;32m/usr/local/lib/python3.10/dist-packages/tensorflow/python/eager/polymorphic_function/polymorphic_function.py\u001b[0m in \u001b[0;36m__call__\u001b[0;34m(self, *args, **kwds)\u001b[0m\n\u001b[1;32m    830\u001b[0m \u001b[0;34m\u001b[0m\u001b[0m\n\u001b[1;32m    831\u001b[0m       \u001b[0;32mwith\u001b[0m \u001b[0mOptionalXlaContext\u001b[0m\u001b[0;34m(\u001b[0m\u001b[0mself\u001b[0m\u001b[0;34m.\u001b[0m\u001b[0m_jit_compile\u001b[0m\u001b[0;34m)\u001b[0m\u001b[0;34m:\u001b[0m\u001b[0;34m\u001b[0m\u001b[0;34m\u001b[0m\u001b[0m\n\u001b[0;32m--> 832\u001b[0;31m         \u001b[0mresult\u001b[0m \u001b[0;34m=\u001b[0m \u001b[0mself\u001b[0m\u001b[0;34m.\u001b[0m\u001b[0m_call\u001b[0m\u001b[0;34m(\u001b[0m\u001b[0;34m*\u001b[0m\u001b[0margs\u001b[0m\u001b[0;34m,\u001b[0m \u001b[0;34m**\u001b[0m\u001b[0mkwds\u001b[0m\u001b[0;34m)\u001b[0m\u001b[0;34m\u001b[0m\u001b[0;34m\u001b[0m\u001b[0m\n\u001b[0m\u001b[1;32m    833\u001b[0m \u001b[0;34m\u001b[0m\u001b[0m\n\u001b[1;32m    834\u001b[0m       \u001b[0mnew_tracing_count\u001b[0m \u001b[0;34m=\u001b[0m \u001b[0mself\u001b[0m\u001b[0;34m.\u001b[0m\u001b[0mexperimental_get_tracing_count\u001b[0m\u001b[0;34m(\u001b[0m\u001b[0;34m)\u001b[0m\u001b[0;34m\u001b[0m\u001b[0;34m\u001b[0m\u001b[0m\n",
            "\u001b[0;32m/usr/local/lib/python3.10/dist-packages/tensorflow/python/eager/polymorphic_function/polymorphic_function.py\u001b[0m in \u001b[0;36m_call\u001b[0;34m(self, *args, **kwds)\u001b[0m\n\u001b[1;32m    866\u001b[0m       \u001b[0;31m# In this case we have created variables on the first call, so we run the\u001b[0m\u001b[0;34m\u001b[0m\u001b[0;34m\u001b[0m\u001b[0m\n\u001b[1;32m    867\u001b[0m       \u001b[0;31m# defunned version which is guaranteed to never create variables.\u001b[0m\u001b[0;34m\u001b[0m\u001b[0;34m\u001b[0m\u001b[0m\n\u001b[0;32m--> 868\u001b[0;31m       return tracing_compilation.call_function(\n\u001b[0m\u001b[1;32m    869\u001b[0m           \u001b[0margs\u001b[0m\u001b[0;34m,\u001b[0m \u001b[0mkwds\u001b[0m\u001b[0;34m,\u001b[0m \u001b[0mself\u001b[0m\u001b[0;34m.\u001b[0m\u001b[0m_no_variable_creation_config\u001b[0m\u001b[0;34m\u001b[0m\u001b[0;34m\u001b[0m\u001b[0m\n\u001b[1;32m    870\u001b[0m       )\n",
            "\u001b[0;32m/usr/local/lib/python3.10/dist-packages/tensorflow/python/eager/polymorphic_function/tracing_compilation.py\u001b[0m in \u001b[0;36mcall_function\u001b[0;34m(args, kwargs, tracing_options)\u001b[0m\n\u001b[1;32m    137\u001b[0m   \u001b[0mbound_args\u001b[0m \u001b[0;34m=\u001b[0m \u001b[0mfunction\u001b[0m\u001b[0;34m.\u001b[0m\u001b[0mfunction_type\u001b[0m\u001b[0;34m.\u001b[0m\u001b[0mbind\u001b[0m\u001b[0;34m(\u001b[0m\u001b[0;34m*\u001b[0m\u001b[0margs\u001b[0m\u001b[0;34m,\u001b[0m \u001b[0;34m**\u001b[0m\u001b[0mkwargs\u001b[0m\u001b[0;34m)\u001b[0m\u001b[0;34m\u001b[0m\u001b[0;34m\u001b[0m\u001b[0m\n\u001b[1;32m    138\u001b[0m   \u001b[0mflat_inputs\u001b[0m \u001b[0;34m=\u001b[0m \u001b[0mfunction\u001b[0m\u001b[0;34m.\u001b[0m\u001b[0mfunction_type\u001b[0m\u001b[0;34m.\u001b[0m\u001b[0munpack_inputs\u001b[0m\u001b[0;34m(\u001b[0m\u001b[0mbound_args\u001b[0m\u001b[0;34m)\u001b[0m\u001b[0;34m\u001b[0m\u001b[0;34m\u001b[0m\u001b[0m\n\u001b[0;32m--> 139\u001b[0;31m   return function._call_flat(  # pylint: disable=protected-access\n\u001b[0m\u001b[1;32m    140\u001b[0m       \u001b[0mflat_inputs\u001b[0m\u001b[0;34m,\u001b[0m \u001b[0mcaptured_inputs\u001b[0m\u001b[0;34m=\u001b[0m\u001b[0mfunction\u001b[0m\u001b[0;34m.\u001b[0m\u001b[0mcaptured_inputs\u001b[0m\u001b[0;34m\u001b[0m\u001b[0;34m\u001b[0m\u001b[0m\n\u001b[1;32m    141\u001b[0m   )\n",
            "\u001b[0;32m/usr/local/lib/python3.10/dist-packages/tensorflow/python/eager/polymorphic_function/concrete_function.py\u001b[0m in \u001b[0;36m_call_flat\u001b[0;34m(self, tensor_inputs, captured_inputs)\u001b[0m\n\u001b[1;32m   1321\u001b[0m         and executing_eagerly):\n\u001b[1;32m   1322\u001b[0m       \u001b[0;31m# No tape is watching; skip to running the function.\u001b[0m\u001b[0;34m\u001b[0m\u001b[0;34m\u001b[0m\u001b[0m\n\u001b[0;32m-> 1323\u001b[0;31m       \u001b[0;32mreturn\u001b[0m \u001b[0mself\u001b[0m\u001b[0;34m.\u001b[0m\u001b[0m_inference_function\u001b[0m\u001b[0;34m.\u001b[0m\u001b[0mcall_preflattened\u001b[0m\u001b[0;34m(\u001b[0m\u001b[0margs\u001b[0m\u001b[0;34m)\u001b[0m\u001b[0;34m\u001b[0m\u001b[0;34m\u001b[0m\u001b[0m\n\u001b[0m\u001b[1;32m   1324\u001b[0m     forward_backward = self._select_forward_and_backward_functions(\n\u001b[1;32m   1325\u001b[0m         \u001b[0margs\u001b[0m\u001b[0;34m,\u001b[0m\u001b[0;34m\u001b[0m\u001b[0;34m\u001b[0m\u001b[0m\n",
            "\u001b[0;32m/usr/local/lib/python3.10/dist-packages/tensorflow/python/eager/polymorphic_function/atomic_function.py\u001b[0m in \u001b[0;36mcall_preflattened\u001b[0;34m(self, args)\u001b[0m\n\u001b[1;32m    214\u001b[0m   \u001b[0;32mdef\u001b[0m \u001b[0mcall_preflattened\u001b[0m\u001b[0;34m(\u001b[0m\u001b[0mself\u001b[0m\u001b[0;34m,\u001b[0m \u001b[0margs\u001b[0m\u001b[0;34m:\u001b[0m \u001b[0mSequence\u001b[0m\u001b[0;34m[\u001b[0m\u001b[0mcore\u001b[0m\u001b[0;34m.\u001b[0m\u001b[0mTensor\u001b[0m\u001b[0;34m]\u001b[0m\u001b[0;34m)\u001b[0m \u001b[0;34m->\u001b[0m \u001b[0mAny\u001b[0m\u001b[0;34m:\u001b[0m\u001b[0;34m\u001b[0m\u001b[0;34m\u001b[0m\u001b[0m\n\u001b[1;32m    215\u001b[0m     \u001b[0;34m\"\"\"Calls with flattened tensor inputs and returns the structured output.\"\"\"\u001b[0m\u001b[0;34m\u001b[0m\u001b[0;34m\u001b[0m\u001b[0m\n\u001b[0;32m--> 216\u001b[0;31m     \u001b[0mflat_outputs\u001b[0m \u001b[0;34m=\u001b[0m \u001b[0mself\u001b[0m\u001b[0;34m.\u001b[0m\u001b[0mcall_flat\u001b[0m\u001b[0;34m(\u001b[0m\u001b[0;34m*\u001b[0m\u001b[0margs\u001b[0m\u001b[0;34m)\u001b[0m\u001b[0;34m\u001b[0m\u001b[0;34m\u001b[0m\u001b[0m\n\u001b[0m\u001b[1;32m    217\u001b[0m     \u001b[0;32mreturn\u001b[0m \u001b[0mself\u001b[0m\u001b[0;34m.\u001b[0m\u001b[0mfunction_type\u001b[0m\u001b[0;34m.\u001b[0m\u001b[0mpack_output\u001b[0m\u001b[0;34m(\u001b[0m\u001b[0mflat_outputs\u001b[0m\u001b[0;34m)\u001b[0m\u001b[0;34m\u001b[0m\u001b[0;34m\u001b[0m\u001b[0m\n\u001b[1;32m    218\u001b[0m \u001b[0;34m\u001b[0m\u001b[0m\n",
            "\u001b[0;32m/usr/local/lib/python3.10/dist-packages/tensorflow/python/eager/polymorphic_function/atomic_function.py\u001b[0m in \u001b[0;36mcall_flat\u001b[0;34m(self, *args)\u001b[0m\n\u001b[1;32m    249\u001b[0m         \u001b[0;32mwith\u001b[0m \u001b[0mrecord\u001b[0m\u001b[0;34m.\u001b[0m\u001b[0mstop_recording\u001b[0m\u001b[0;34m(\u001b[0m\u001b[0;34m)\u001b[0m\u001b[0;34m:\u001b[0m\u001b[0;34m\u001b[0m\u001b[0;34m\u001b[0m\u001b[0m\n\u001b[1;32m    250\u001b[0m           \u001b[0;32mif\u001b[0m \u001b[0mself\u001b[0m\u001b[0;34m.\u001b[0m\u001b[0m_bound_context\u001b[0m\u001b[0;34m.\u001b[0m\u001b[0mexecuting_eagerly\u001b[0m\u001b[0;34m(\u001b[0m\u001b[0;34m)\u001b[0m\u001b[0;34m:\u001b[0m\u001b[0;34m\u001b[0m\u001b[0;34m\u001b[0m\u001b[0m\n\u001b[0;32m--> 251\u001b[0;31m             outputs = self._bound_context.call_function(\n\u001b[0m\u001b[1;32m    252\u001b[0m                 \u001b[0mself\u001b[0m\u001b[0;34m.\u001b[0m\u001b[0mname\u001b[0m\u001b[0;34m,\u001b[0m\u001b[0;34m\u001b[0m\u001b[0;34m\u001b[0m\u001b[0m\n\u001b[1;32m    253\u001b[0m                 \u001b[0mlist\u001b[0m\u001b[0;34m(\u001b[0m\u001b[0margs\u001b[0m\u001b[0;34m)\u001b[0m\u001b[0;34m,\u001b[0m\u001b[0;34m\u001b[0m\u001b[0;34m\u001b[0m\u001b[0m\n",
            "\u001b[0;32m/usr/local/lib/python3.10/dist-packages/tensorflow/python/eager/context.py\u001b[0m in \u001b[0;36mcall_function\u001b[0;34m(self, name, tensor_inputs, num_outputs)\u001b[0m\n\u001b[1;32m   1484\u001b[0m     \u001b[0mcancellation_context\u001b[0m \u001b[0;34m=\u001b[0m \u001b[0mcancellation\u001b[0m\u001b[0;34m.\u001b[0m\u001b[0mcontext\u001b[0m\u001b[0;34m(\u001b[0m\u001b[0;34m)\u001b[0m\u001b[0;34m\u001b[0m\u001b[0;34m\u001b[0m\u001b[0m\n\u001b[1;32m   1485\u001b[0m     \u001b[0;32mif\u001b[0m \u001b[0mcancellation_context\u001b[0m \u001b[0;32mis\u001b[0m \u001b[0;32mNone\u001b[0m\u001b[0;34m:\u001b[0m\u001b[0;34m\u001b[0m\u001b[0;34m\u001b[0m\u001b[0m\n\u001b[0;32m-> 1486\u001b[0;31m       outputs = execute.execute(\n\u001b[0m\u001b[1;32m   1487\u001b[0m           \u001b[0mname\u001b[0m\u001b[0;34m.\u001b[0m\u001b[0mdecode\u001b[0m\u001b[0;34m(\u001b[0m\u001b[0;34m\"utf-8\"\u001b[0m\u001b[0;34m)\u001b[0m\u001b[0;34m,\u001b[0m\u001b[0;34m\u001b[0m\u001b[0;34m\u001b[0m\u001b[0m\n\u001b[1;32m   1488\u001b[0m           \u001b[0mnum_outputs\u001b[0m\u001b[0;34m=\u001b[0m\u001b[0mnum_outputs\u001b[0m\u001b[0;34m,\u001b[0m\u001b[0;34m\u001b[0m\u001b[0;34m\u001b[0m\u001b[0m\n",
            "\u001b[0;32m/usr/local/lib/python3.10/dist-packages/tensorflow/python/eager/execute.py\u001b[0m in \u001b[0;36mquick_execute\u001b[0;34m(op_name, num_outputs, inputs, attrs, ctx, name)\u001b[0m\n\u001b[1;32m     51\u001b[0m   \u001b[0;32mtry\u001b[0m\u001b[0;34m:\u001b[0m\u001b[0;34m\u001b[0m\u001b[0;34m\u001b[0m\u001b[0m\n\u001b[1;32m     52\u001b[0m     \u001b[0mctx\u001b[0m\u001b[0;34m.\u001b[0m\u001b[0mensure_initialized\u001b[0m\u001b[0;34m(\u001b[0m\u001b[0;34m)\u001b[0m\u001b[0;34m\u001b[0m\u001b[0;34m\u001b[0m\u001b[0m\n\u001b[0;32m---> 53\u001b[0;31m     tensors = pywrap_tfe.TFE_Py_Execute(ctx._handle, device_name, op_name,\n\u001b[0m\u001b[1;32m     54\u001b[0m                                         inputs, attrs, num_outputs)\n\u001b[1;32m     55\u001b[0m   \u001b[0;32mexcept\u001b[0m \u001b[0mcore\u001b[0m\u001b[0;34m.\u001b[0m\u001b[0m_NotOkStatusException\u001b[0m \u001b[0;32mas\u001b[0m \u001b[0me\u001b[0m\u001b[0;34m:\u001b[0m\u001b[0;34m\u001b[0m\u001b[0;34m\u001b[0m\u001b[0m\n",
            "\u001b[0;31mKeyboardInterrupt\u001b[0m: "
          ]
        }
      ]
    },
    {
      "cell_type": "markdown",
      "source": [
        "**❏ Utilizar RNNS, LSTMs, GRUs e CNNs em modelos que lidam com texto.**\n"
      ],
      "metadata": {
        "id": "K1FbBbWeKvuj"
      }
    },
    {
      "cell_type": "markdown",
      "source": [
        "**Bidirecional**"
      ],
      "metadata": {
        "id": "P4uGzTbIVC87"
      }
    },
    {
      "cell_type": "code",
      "source": [
        "inputs = layers.Input(shape=(1,), dtype=\"string\")\n",
        "x = text_vectorizer(inputs)\n",
        "x = embedding(x)\n",
        "x = layers.Bidirectional(layers.LSTM(64))(x)\n",
        "outputs = layers.Dense(1, activation=\"sigmoid\")(x)\n",
        "model_4 = tf.keras.Model(inputs, outputs, name=\"model_2_dense\")"
      ],
      "metadata": {
        "id": "htWqeShIUrJt"
      },
      "execution_count": null,
      "outputs": []
    },
    {
      "cell_type": "code",
      "source": [
        "model_4.compile(loss=\"binary_crossentropy\",\n",
        "                optimizer=tf.keras.optimizers.Adam(),\n",
        "                metrics=[\"accuracy\"])"
      ],
      "metadata": {
        "id": "ikwO5XuZUrJu"
      },
      "execution_count": null,
      "outputs": []
    },
    {
      "cell_type": "code",
      "source": [
        "model_4_history = model_4.fit(train_sentences, # input sentences can be a list of strings due to text preprocessing layer built-in model\n",
        "                              train_labels,\n",
        "                              epochs=5,\n",
        "                              validation_data=(val_sentences, val_labels))"
      ],
      "metadata": {
        "id": "G05wy0H7UrJu"
      },
      "execution_count": null,
      "outputs": []
    },
    {
      "cell_type": "markdown",
      "source": [
        "**CNN**"
      ],
      "metadata": {
        "id": "KPErfAjJVJNm"
      }
    },
    {
      "cell_type": "code",
      "source": [
        "inputs = layers.Input(shape=(1,), dtype=\"string\")\n",
        "x = text_vectorizer(inputs)\n",
        "x = embedding(x)\n",
        "x = layers.Conv1D(filters=32, kernel_size=5, activation=\"relu\")(x)\n",
        "x = layers.GlobalMaxPool1D()(x)\n",
        "outputs = layers.Dense(1, activation=\"sigmoid\")(x)\n",
        "model_5 = tf.keras.Model(inputs, outputs, name=\"model_5_dense\")"
      ],
      "metadata": {
        "id": "iuzzZfzHVN83"
      },
      "execution_count": null,
      "outputs": []
    },
    {
      "cell_type": "code",
      "source": [
        "model_5.compile(loss=\"binary_crossentropy\",\n",
        "                optimizer=tf.keras.optimizers.Adam(),\n",
        "                metrics=[\"accuracy\"])"
      ],
      "metadata": {
        "id": "SvT9n1Z7VN83"
      },
      "execution_count": null,
      "outputs": []
    },
    {
      "cell_type": "code",
      "source": [
        "model_5_history = model_5.fit(train_sentences, # input sentences can be a list of strings due to text preprocessing layer built-in model\n",
        "                              train_labels,\n",
        "                              epochs=5,\n",
        "                              validation_data=(val_sentences, val_labels))"
      ],
      "metadata": {
        "id": "2KbLHTVNVN83"
      },
      "execution_count": null,
      "outputs": []
    },
    {
      "cell_type": "markdown",
      "source": [
        "**❏ Construir modelos que identificam a categoria de um pedaço de texto usando categorização multi-classe.**"
      ],
      "metadata": {
        "id": "VqFrFs1WKoeE"
      }
    },
    {
      "cell_type": "markdown",
      "source": [
        "Baseado no problema:\n",
        "\n",
        "https://www.kaggle.com/code/john77eipe/multi-class-text-classification-with-scikit-learn/notebook\n",
        "\n",
        "Temos que classificar a categoria da reclamação baseada no texto."
      ],
      "metadata": {
        "id": "ZxKdmzwYvwnK"
      }
    },
    {
      "cell_type": "code",
      "source": [
        "import pandas as pd\n",
        "import csv\n",
        "df = pd.read_csv('/content/rows.csv', header = 0, quoting=csv.QUOTE_NONE, encoding='utf-8', on_bad_lines='skip')\n",
        "df.head()"
      ],
      "metadata": {
        "colab": {
          "base_uri": "https://localhost:8080/",
          "height": 521
        },
        "id": "VMPr2Yk7wFOP",
        "outputId": "ed8a8bee-c3c6-408f-8f85-61d67f730254"
      },
      "execution_count": null,
      "outputs": [
        {
          "output_type": "execute_result",
          "data": {
            "text/plain": [
              "  Date received                      Product  \\\n",
              "0    05/10/2019  Checking or savings account   \n",
              "1    05/10/2019  Checking or savings account   \n",
              "2    05/10/2019              Debt collection   \n",
              "3    05/10/2019  Checking or savings account   \n",
              "4    05/10/2019                     Mortgage   \n",
              "\n",
              "                        Sub-product                  Issue  \\\n",
              "0                  Checking account    Managing an account   \n",
              "1  Other banking product or service    Managing an account   \n",
              "2                  Payday loan debt  Communication tactics   \n",
              "3                  Checking account    Managing an account   \n",
              "4            Other type of mortgage  Closing on a mortgage   \n",
              "\n",
              "                           Sub-issue Consumer complaint narrative  \\\n",
              "0  Problem using a debit or ATM card                          NaN   \n",
              "1           Deposits and withdrawals                          NaN   \n",
              "2         Frequent or repeated calls                          NaN   \n",
              "3                     Banking errors                          NaN   \n",
              "4                                NaN                          NaN   \n",
              "\n",
              "  Company public response                        Company State ZIP code  \\\n",
              "0                     NaN      NAVY FEDERAL CREDIT UNION    FL    328XX   \n",
              "1                     NaN  BOEING EMPLOYEES CREDIT UNION    WA    98204   \n",
              "2                     NaN     CURO Intermediate Holdings    TX    751XX   \n",
              "3                     NaN            ALLY FINANCIAL INC.    AZ    85205   \n",
              "4                     NaN            Statebridge Company    NJ    08302   \n",
              "\n",
              "             Tags Consumer consent provided? Submitted via  \\\n",
              "0  Older American                        NaN           Web   \n",
              "1             NaN                        NaN      Referral   \n",
              "2             NaN                        NaN           Web   \n",
              "3             NaN                        NaN   Postal mail   \n",
              "4             NaN                        NaN           Web   \n",
              "\n",
              "  Date sent to company Company response to consumer Timely response?  \\\n",
              "0           05/10/2019                  In progress              Yes   \n",
              "1           05/10/2019      Closed with explanation              Yes   \n",
              "2           05/10/2019      Closed with explanation              Yes   \n",
              "3           05/10/2019                  In progress              Yes   \n",
              "4           05/10/2019      Closed with explanation              Yes   \n",
              "\n",
              "  Consumer disputed? Complaint ID  \n",
              "0                NaN      3238275  \n",
              "1                NaN      3238228  \n",
              "2                NaN      3237964  \n",
              "3                NaN      3238460  \n",
              "4                NaN      3237885  "
            ],
            "text/html": [
              "\n",
              "  <div id=\"df-142a4c53-af5a-451d-aaae-71779872d8ff\" class=\"colab-df-container\">\n",
              "    <div>\n",
              "<style scoped>\n",
              "    .dataframe tbody tr th:only-of-type {\n",
              "        vertical-align: middle;\n",
              "    }\n",
              "\n",
              "    .dataframe tbody tr th {\n",
              "        vertical-align: top;\n",
              "    }\n",
              "\n",
              "    .dataframe thead th {\n",
              "        text-align: right;\n",
              "    }\n",
              "</style>\n",
              "<table border=\"1\" class=\"dataframe\">\n",
              "  <thead>\n",
              "    <tr style=\"text-align: right;\">\n",
              "      <th></th>\n",
              "      <th>Date received</th>\n",
              "      <th>Product</th>\n",
              "      <th>Sub-product</th>\n",
              "      <th>Issue</th>\n",
              "      <th>Sub-issue</th>\n",
              "      <th>Consumer complaint narrative</th>\n",
              "      <th>Company public response</th>\n",
              "      <th>Company</th>\n",
              "      <th>State</th>\n",
              "      <th>ZIP code</th>\n",
              "      <th>Tags</th>\n",
              "      <th>Consumer consent provided?</th>\n",
              "      <th>Submitted via</th>\n",
              "      <th>Date sent to company</th>\n",
              "      <th>Company response to consumer</th>\n",
              "      <th>Timely response?</th>\n",
              "      <th>Consumer disputed?</th>\n",
              "      <th>Complaint ID</th>\n",
              "    </tr>\n",
              "  </thead>\n",
              "  <tbody>\n",
              "    <tr>\n",
              "      <th>0</th>\n",
              "      <td>05/10/2019</td>\n",
              "      <td>Checking or savings account</td>\n",
              "      <td>Checking account</td>\n",
              "      <td>Managing an account</td>\n",
              "      <td>Problem using a debit or ATM card</td>\n",
              "      <td>NaN</td>\n",
              "      <td>NaN</td>\n",
              "      <td>NAVY FEDERAL CREDIT UNION</td>\n",
              "      <td>FL</td>\n",
              "      <td>328XX</td>\n",
              "      <td>Older American</td>\n",
              "      <td>NaN</td>\n",
              "      <td>Web</td>\n",
              "      <td>05/10/2019</td>\n",
              "      <td>In progress</td>\n",
              "      <td>Yes</td>\n",
              "      <td>NaN</td>\n",
              "      <td>3238275</td>\n",
              "    </tr>\n",
              "    <tr>\n",
              "      <th>1</th>\n",
              "      <td>05/10/2019</td>\n",
              "      <td>Checking or savings account</td>\n",
              "      <td>Other banking product or service</td>\n",
              "      <td>Managing an account</td>\n",
              "      <td>Deposits and withdrawals</td>\n",
              "      <td>NaN</td>\n",
              "      <td>NaN</td>\n",
              "      <td>BOEING EMPLOYEES CREDIT UNION</td>\n",
              "      <td>WA</td>\n",
              "      <td>98204</td>\n",
              "      <td>NaN</td>\n",
              "      <td>NaN</td>\n",
              "      <td>Referral</td>\n",
              "      <td>05/10/2019</td>\n",
              "      <td>Closed with explanation</td>\n",
              "      <td>Yes</td>\n",
              "      <td>NaN</td>\n",
              "      <td>3238228</td>\n",
              "    </tr>\n",
              "    <tr>\n",
              "      <th>2</th>\n",
              "      <td>05/10/2019</td>\n",
              "      <td>Debt collection</td>\n",
              "      <td>Payday loan debt</td>\n",
              "      <td>Communication tactics</td>\n",
              "      <td>Frequent or repeated calls</td>\n",
              "      <td>NaN</td>\n",
              "      <td>NaN</td>\n",
              "      <td>CURO Intermediate Holdings</td>\n",
              "      <td>TX</td>\n",
              "      <td>751XX</td>\n",
              "      <td>NaN</td>\n",
              "      <td>NaN</td>\n",
              "      <td>Web</td>\n",
              "      <td>05/10/2019</td>\n",
              "      <td>Closed with explanation</td>\n",
              "      <td>Yes</td>\n",
              "      <td>NaN</td>\n",
              "      <td>3237964</td>\n",
              "    </tr>\n",
              "    <tr>\n",
              "      <th>3</th>\n",
              "      <td>05/10/2019</td>\n",
              "      <td>Checking or savings account</td>\n",
              "      <td>Checking account</td>\n",
              "      <td>Managing an account</td>\n",
              "      <td>Banking errors</td>\n",
              "      <td>NaN</td>\n",
              "      <td>NaN</td>\n",
              "      <td>ALLY FINANCIAL INC.</td>\n",
              "      <td>AZ</td>\n",
              "      <td>85205</td>\n",
              "      <td>NaN</td>\n",
              "      <td>NaN</td>\n",
              "      <td>Postal mail</td>\n",
              "      <td>05/10/2019</td>\n",
              "      <td>In progress</td>\n",
              "      <td>Yes</td>\n",
              "      <td>NaN</td>\n",
              "      <td>3238460</td>\n",
              "    </tr>\n",
              "    <tr>\n",
              "      <th>4</th>\n",
              "      <td>05/10/2019</td>\n",
              "      <td>Mortgage</td>\n",
              "      <td>Other type of mortgage</td>\n",
              "      <td>Closing on a mortgage</td>\n",
              "      <td>NaN</td>\n",
              "      <td>NaN</td>\n",
              "      <td>NaN</td>\n",
              "      <td>Statebridge Company</td>\n",
              "      <td>NJ</td>\n",
              "      <td>08302</td>\n",
              "      <td>NaN</td>\n",
              "      <td>NaN</td>\n",
              "      <td>Web</td>\n",
              "      <td>05/10/2019</td>\n",
              "      <td>Closed with explanation</td>\n",
              "      <td>Yes</td>\n",
              "      <td>NaN</td>\n",
              "      <td>3237885</td>\n",
              "    </tr>\n",
              "  </tbody>\n",
              "</table>\n",
              "</div>\n",
              "    <div class=\"colab-df-buttons\">\n",
              "\n",
              "  <div class=\"colab-df-container\">\n",
              "    <button class=\"colab-df-convert\" onclick=\"convertToInteractive('df-142a4c53-af5a-451d-aaae-71779872d8ff')\"\n",
              "            title=\"Convert this dataframe to an interactive table.\"\n",
              "            style=\"display:none;\">\n",
              "\n",
              "  <svg xmlns=\"http://www.w3.org/2000/svg\" height=\"24px\" viewBox=\"0 -960 960 960\">\n",
              "    <path d=\"M120-120v-720h720v720H120Zm60-500h600v-160H180v160Zm220 220h160v-160H400v160Zm0 220h160v-160H400v160ZM180-400h160v-160H180v160Zm440 0h160v-160H620v160ZM180-180h160v-160H180v160Zm440 0h160v-160H620v160Z\"/>\n",
              "  </svg>\n",
              "    </button>\n",
              "\n",
              "  <style>\n",
              "    .colab-df-container {\n",
              "      display:flex;\n",
              "      gap: 12px;\n",
              "    }\n",
              "\n",
              "    .colab-df-convert {\n",
              "      background-color: #E8F0FE;\n",
              "      border: none;\n",
              "      border-radius: 50%;\n",
              "      cursor: pointer;\n",
              "      display: none;\n",
              "      fill: #1967D2;\n",
              "      height: 32px;\n",
              "      padding: 0 0 0 0;\n",
              "      width: 32px;\n",
              "    }\n",
              "\n",
              "    .colab-df-convert:hover {\n",
              "      background-color: #E2EBFA;\n",
              "      box-shadow: 0px 1px 2px rgba(60, 64, 67, 0.3), 0px 1px 3px 1px rgba(60, 64, 67, 0.15);\n",
              "      fill: #174EA6;\n",
              "    }\n",
              "\n",
              "    .colab-df-buttons div {\n",
              "      margin-bottom: 4px;\n",
              "    }\n",
              "\n",
              "    [theme=dark] .colab-df-convert {\n",
              "      background-color: #3B4455;\n",
              "      fill: #D2E3FC;\n",
              "    }\n",
              "\n",
              "    [theme=dark] .colab-df-convert:hover {\n",
              "      background-color: #434B5C;\n",
              "      box-shadow: 0px 1px 3px 1px rgba(0, 0, 0, 0.15);\n",
              "      filter: drop-shadow(0px 1px 2px rgba(0, 0, 0, 0.3));\n",
              "      fill: #FFFFFF;\n",
              "    }\n",
              "  </style>\n",
              "\n",
              "    <script>\n",
              "      const buttonEl =\n",
              "        document.querySelector('#df-142a4c53-af5a-451d-aaae-71779872d8ff button.colab-df-convert');\n",
              "      buttonEl.style.display =\n",
              "        google.colab.kernel.accessAllowed ? 'block' : 'none';\n",
              "\n",
              "      async function convertToInteractive(key) {\n",
              "        const element = document.querySelector('#df-142a4c53-af5a-451d-aaae-71779872d8ff');\n",
              "        const dataTable =\n",
              "          await google.colab.kernel.invokeFunction('convertToInteractive',\n",
              "                                                    [key], {});\n",
              "        if (!dataTable) return;\n",
              "\n",
              "        const docLinkHtml = 'Like what you see? Visit the ' +\n",
              "          '<a target=\"_blank\" href=https://colab.research.google.com/notebooks/data_table.ipynb>data table notebook</a>'\n",
              "          + ' to learn more about interactive tables.';\n",
              "        element.innerHTML = '';\n",
              "        dataTable['output_type'] = 'display_data';\n",
              "        await google.colab.output.renderOutput(dataTable, element);\n",
              "        const docLink = document.createElement('div');\n",
              "        docLink.innerHTML = docLinkHtml;\n",
              "        element.appendChild(docLink);\n",
              "      }\n",
              "    </script>\n",
              "  </div>\n",
              "\n",
              "\n",
              "<div id=\"df-78884a49-2dcc-4402-8dfd-166d58ff7562\">\n",
              "  <button class=\"colab-df-quickchart\" onclick=\"quickchart('df-78884a49-2dcc-4402-8dfd-166d58ff7562')\"\n",
              "            title=\"Suggest charts\"\n",
              "            style=\"display:none;\">\n",
              "\n",
              "<svg xmlns=\"http://www.w3.org/2000/svg\" height=\"24px\"viewBox=\"0 0 24 24\"\n",
              "     width=\"24px\">\n",
              "    <g>\n",
              "        <path d=\"M19 3H5c-1.1 0-2 .9-2 2v14c0 1.1.9 2 2 2h14c1.1 0 2-.9 2-2V5c0-1.1-.9-2-2-2zM9 17H7v-7h2v7zm4 0h-2V7h2v10zm4 0h-2v-4h2v4z\"/>\n",
              "    </g>\n",
              "</svg>\n",
              "  </button>\n",
              "\n",
              "<style>\n",
              "  .colab-df-quickchart {\n",
              "      --bg-color: #E8F0FE;\n",
              "      --fill-color: #1967D2;\n",
              "      --hover-bg-color: #E2EBFA;\n",
              "      --hover-fill-color: #174EA6;\n",
              "      --disabled-fill-color: #AAA;\n",
              "      --disabled-bg-color: #DDD;\n",
              "  }\n",
              "\n",
              "  [theme=dark] .colab-df-quickchart {\n",
              "      --bg-color: #3B4455;\n",
              "      --fill-color: #D2E3FC;\n",
              "      --hover-bg-color: #434B5C;\n",
              "      --hover-fill-color: #FFFFFF;\n",
              "      --disabled-bg-color: #3B4455;\n",
              "      --disabled-fill-color: #666;\n",
              "  }\n",
              "\n",
              "  .colab-df-quickchart {\n",
              "    background-color: var(--bg-color);\n",
              "    border: none;\n",
              "    border-radius: 50%;\n",
              "    cursor: pointer;\n",
              "    display: none;\n",
              "    fill: var(--fill-color);\n",
              "    height: 32px;\n",
              "    padding: 0;\n",
              "    width: 32px;\n",
              "  }\n",
              "\n",
              "  .colab-df-quickchart:hover {\n",
              "    background-color: var(--hover-bg-color);\n",
              "    box-shadow: 0 1px 2px rgba(60, 64, 67, 0.3), 0 1px 3px 1px rgba(60, 64, 67, 0.15);\n",
              "    fill: var(--button-hover-fill-color);\n",
              "  }\n",
              "\n",
              "  .colab-df-quickchart-complete:disabled,\n",
              "  .colab-df-quickchart-complete:disabled:hover {\n",
              "    background-color: var(--disabled-bg-color);\n",
              "    fill: var(--disabled-fill-color);\n",
              "    box-shadow: none;\n",
              "  }\n",
              "\n",
              "  .colab-df-spinner {\n",
              "    border: 2px solid var(--fill-color);\n",
              "    border-color: transparent;\n",
              "    border-bottom-color: var(--fill-color);\n",
              "    animation:\n",
              "      spin 1s steps(1) infinite;\n",
              "  }\n",
              "\n",
              "  @keyframes spin {\n",
              "    0% {\n",
              "      border-color: transparent;\n",
              "      border-bottom-color: var(--fill-color);\n",
              "      border-left-color: var(--fill-color);\n",
              "    }\n",
              "    20% {\n",
              "      border-color: transparent;\n",
              "      border-left-color: var(--fill-color);\n",
              "      border-top-color: var(--fill-color);\n",
              "    }\n",
              "    30% {\n",
              "      border-color: transparent;\n",
              "      border-left-color: var(--fill-color);\n",
              "      border-top-color: var(--fill-color);\n",
              "      border-right-color: var(--fill-color);\n",
              "    }\n",
              "    40% {\n",
              "      border-color: transparent;\n",
              "      border-right-color: var(--fill-color);\n",
              "      border-top-color: var(--fill-color);\n",
              "    }\n",
              "    60% {\n",
              "      border-color: transparent;\n",
              "      border-right-color: var(--fill-color);\n",
              "    }\n",
              "    80% {\n",
              "      border-color: transparent;\n",
              "      border-right-color: var(--fill-color);\n",
              "      border-bottom-color: var(--fill-color);\n",
              "    }\n",
              "    90% {\n",
              "      border-color: transparent;\n",
              "      border-bottom-color: var(--fill-color);\n",
              "    }\n",
              "  }\n",
              "</style>\n",
              "\n",
              "  <script>\n",
              "    async function quickchart(key) {\n",
              "      const quickchartButtonEl =\n",
              "        document.querySelector('#' + key + ' button');\n",
              "      quickchartButtonEl.disabled = true;  // To prevent multiple clicks.\n",
              "      quickchartButtonEl.classList.add('colab-df-spinner');\n",
              "      try {\n",
              "        const charts = await google.colab.kernel.invokeFunction(\n",
              "            'suggestCharts', [key], {});\n",
              "      } catch (error) {\n",
              "        console.error('Error during call to suggestCharts:', error);\n",
              "      }\n",
              "      quickchartButtonEl.classList.remove('colab-df-spinner');\n",
              "      quickchartButtonEl.classList.add('colab-df-quickchart-complete');\n",
              "    }\n",
              "    (() => {\n",
              "      let quickchartButtonEl =\n",
              "        document.querySelector('#df-78884a49-2dcc-4402-8dfd-166d58ff7562 button');\n",
              "      quickchartButtonEl.style.display =\n",
              "        google.colab.kernel.accessAllowed ? 'block' : 'none';\n",
              "    })();\n",
              "  </script>\n",
              "</div>\n",
              "\n",
              "    </div>\n",
              "  </div>\n"
            ],
            "application/vnd.google.colaboratory.intrinsic+json": {
              "type": "dataframe",
              "variable_name": "df",
              "summary": "{\n  \"name\": \"df\",\n  \"rows\": 34633,\n  \"fields\": [\n    {\n      \"column\": \"Date received\",\n      \"properties\": {\n        \"dtype\": \"category\",\n        \"num_unique_values\": 11765,\n        \"samples\": [\n          \"After still being unable to subscribe to a new cell phone provided ( my original reason for the lift ) I called Equifax and was told to fax documents confirming my identity. \",\n          \"Everything went so well\",\n          \"3. No reason was provided for the refusal of increasing the credit line.\"\n        ],\n        \"semantic_type\": \"\",\n        \"description\": \"\"\n      }\n    },\n    {\n      \"column\": \"Product\",\n      \"properties\": {\n        \"dtype\": \"category\",\n        \"num_unique_values\": 6885,\n        \"samples\": [\n          \" the guest communicated to us that he had changed his plans and demanded a refund of his deposit from us. Unaware that he had already received a refund\",\n          \" but not XX/XX/XXXX. I paid less on the Cash and XXXX cards in XXXX and XX/XX/XXXX. \",\n          \" in which I informed the agency that I have never enjoyed a XXXX account. XXXX did not contact me further\"\n        ],\n        \"semantic_type\": \"\",\n        \"description\": \"\"\n      }\n    },\n    {\n      \"column\": \"Sub-product\",\n      \"properties\": {\n        \"dtype\": \"category\",\n        \"num_unique_values\": 4713,\n        \"samples\": [\n          \" with an assist from U.S. Customs and Border Protection and U.S. Postal Inspection Service\",\n          \" and have a response in a timely manner that is told at the start\",\n          \" Vanderbilt excepted this 18 years ago\"\n        ],\n        \"semantic_type\": \"\",\n        \"description\": \"\"\n      }\n    },\n    {\n      \"column\": \"Issue\",\n      \"properties\": {\n        \"dtype\": \"category\",\n        \"num_unique_values\": 3061,\n        \"samples\": [\n          \" are required to deal with them. Yet\",\n          \"\\\"Total Card\",\n          \" and they still call you a dozen times a day. It is not necessary if they update their system. I have told them repeatedly you do not have to call me 10 times a day about this loan. They continue to do so. On XX/XX/XXXX XXXX did not read me the mini-miranda because at that time she was attempting to collect a date and any information I provided to her was suppose to be used for that purpose. This young violated my rights. harassed me when I explained to her payment arrangements had been made already. and embarrassed me.\\\"\"\n        ],\n        \"semantic_type\": \"\",\n        \"description\": \"\"\n      }\n    },\n    {\n      \"column\": \"Sub-issue\",\n      \"properties\": {\n        \"dtype\": \"category\",\n        \"num_unique_values\": 2427,\n        \"samples\": [\n          \" credits\",\n          \" of not my responsibility\",\n          \"\\\"CAVALRY INVESTMENTS\"\n        ],\n        \"semantic_type\": \"\",\n        \"description\": \"\"\n      }\n    },\n    {\n      \"column\": \"Consumer complaint narrative\",\n      \"properties\": {\n        \"dtype\": \"category\",\n        \"num_unique_values\": 4234,\n        \"samples\": [\n          \"221XX\",\n          \" and written testimonies to my accounts of this. \",\n          \" it must send you a written explanation of the amount you owe\"\n        ],\n        \"semantic_type\": \"\",\n        \"description\": \"\"\n      }\n    },\n    {\n      \"column\": \"Company public response\",\n      \"properties\": {\n        \"dtype\": \"category\",\n        \"num_unique_values\": 2546,\n        \"samples\": [\n          \"275XX\",\n          \" I received a postcard saying I recently closed on a mortgage with Suntrust Bk. There was a mortgage number id that didn't match my mortgage number\",\n          \" GA in XXXX. I told the hospital I had insurance through XXXX. XXXX XXXX XXXX ( XXXX ) is claiming I didn't tell the hospital. It makes no sense for me to have gone to a hospital and not tell anyone I had health insurance.. \"\n        ],\n        \"semantic_type\": \"\",\n        \"description\": \"\"\n      }\n    },\n    {\n      \"column\": \"Company\",\n      \"properties\": {\n        \"dtype\": \"category\",\n        \"num_unique_values\": 3666,\n        \"samples\": [\n          \"Edmonds & Logue PC\",\n          \" and an application for Public Service Loan Forgiveness\",\n          \" rent having been paid through the end of the month and owing no money as per the lease agreement provided to us by them. On XX/XX/XXXX I get a credit alert that they have put in a claim to collections for {$630.00} with no supporting documentation or reasons as to why or how the debt is supposedly ours. \"\n        ],\n        \"semantic_type\": \"\",\n        \"description\": \"\"\n      }\n    },\n    {\n      \"column\": \"State\",\n      \"properties\": {\n        \"dtype\": \"category\",\n        \"num_unique_values\": 2026,\n        \"samples\": [\n          \" XXXX has maliciously thru deceptive practices hidden the identity of their public records vendor in an effort to harm consumers ( ( XXXX PUBLIC RECORD SETTLEMENT Case No. XXXX ( XXXX XXXX ) and Case No. XXXX ( XXXX XXXX ) United States District Court for the XXXX District of Virginia ) ) I am requesting CFPB investigates these matters ... \",\n          \" I called and asked XXXX XXXX XXXX XXXX XXXX XXXX XXXX XXXX credit card to stop allowing XXXX XXXX to bill the credit card. I disputed the charge\",\n          \" The below inquiries were made without my permission and have been affecting my credit score for the past year and a half. \"\n        ],\n        \"semantic_type\": \"\",\n        \"description\": \"\"\n      }\n    },\n    {\n      \"column\": \"ZIP code\",\n      \"properties\": {\n        \"dtype\": \"category\",\n        \"num_unique_values\": 6260,\n        \"samples\": [\n          \"373XX\",\n          \"050XX\",\n          \"49684\"\n        ],\n        \"semantic_type\": \"\",\n        \"description\": \"\"\n      }\n    },\n    {\n      \"column\": \"Tags\",\n      \"properties\": {\n        \"dtype\": \"category\",\n        \"num_unique_values\": 936,\n        \"samples\": [\n          \" and never rendering a decision\",\n          \" thus causing credit score fluctuations and concerns. \",\n          \" I just wanted to know how much. XXXX said well l get all sorts of discounts and coupons because I'm the lead salesman and we can get you a really good price. I said howmuch\"\n        ],\n        \"semantic_type\": \"\",\n        \"description\": \"\"\n      }\n    },\n    {\n      \"column\": \"Consumer consent provided?\",\n      \"properties\": {\n        \"dtype\": \"category\",\n        \"num_unique_values\": 658,\n        \"samples\": [\n          \" and USPS Tracking # XXXX. Below is the qualified written complaint letter.\",\n          \" the caller hangs up before I can even say hello. These calls are not meant to be answered but are meant to harass. Attempting to answer my phone is especially difficult for me because I am a senior citizen recovering from XXXX  XXXX. With my XXXX XXXX these constant calls are nerve-racking and harassing. I realize that Navient is attempting to collect a debt however they should not be able to call and not be on the line when the call is answered. \",\n          \" and agreed to being transferred over to my new card number ending in XXXX was {$74.00}\"\n        ],\n        \"semantic_type\": \"\",\n        \"description\": \"\"\n      }\n    },\n    {\n      \"column\": \"Submitted via\",\n      \"properties\": {\n        \"dtype\": \"category\",\n        \"num_unique_values\": 1517,\n        \"samples\": [\n          \" and other charges. \",\n          \" paid in full\",\n          \"3134064\"\n        ],\n        \"semantic_type\": \"\",\n        \"description\": \"\"\n      }\n    },\n    {\n      \"column\": \"Date sent to company\",\n      \"properties\": {\n        \"dtype\": \"category\",\n        \"num_unique_values\": 1793,\n        \"samples\": [\n          \"3146088\",\n          \"3168731\",\n          \"3132110\"\n        ],\n        \"semantic_type\": \"\",\n        \"description\": \"\"\n      }\n    },\n    {\n      \"column\": \"Company response to consumer\",\n      \"properties\": {\n        \"dtype\": \"category\",\n        \"num_unique_values\": 876,\n        \"samples\": [\n          \"3154209\",\n          \"3141501\",\n          \"3135247\"\n        ],\n        \"semantic_type\": \"\",\n        \"description\": \"\"\n      }\n    },\n    {\n      \"column\": \"Timely response?\",\n      \"properties\": {\n        \"dtype\": \"category\",\n        \"num_unique_values\": 470,\n        \"samples\": [\n          \"3167713\",\n          \"3166967\",\n          \"3169420\"\n        ],\n        \"semantic_type\": \"\",\n        \"description\": \"\"\n      }\n    },\n    {\n      \"column\": \"Consumer disputed?\",\n      \"properties\": {\n        \"dtype\": \"category\",\n        \"num_unique_values\": 272,\n        \"samples\": [\n          \"3166273\",\n          \"3155362\",\n          \" Another Advertisement for Nest\"\n        ],\n        \"semantic_type\": \"\",\n        \"description\": \"\"\n      }\n    },\n    {\n      \"column\": \"Complaint ID\",\n      \"properties\": {\n        \"dtype\": \"category\",\n        \"num_unique_values\": 16676,\n        \"samples\": [\n          \"3202630\",\n          \"3208790\",\n          \"3169048\"\n        ],\n        \"semantic_type\": \"\",\n        \"description\": \"\"\n      }\n    }\n  ]\n}"
            }
          },
          "metadata": {},
          "execution_count": 42
        }
      ]
    },
    {
      "cell_type": "code",
      "source": [
        "df.size"
      ],
      "metadata": {
        "colab": {
          "base_uri": "https://localhost:8080/"
        },
        "id": "z6sJyBnl0iVq",
        "outputId": "3258f015-8a1e-4461-e4dd-a642c3e98e24"
      },
      "execution_count": null,
      "outputs": [
        {
          "output_type": "execute_result",
          "data": {
            "text/plain": [
              "623394"
            ]
          },
          "metadata": {},
          "execution_count": 43
        }
      ]
    },
    {
      "cell_type": "code",
      "source": [
        "col = ['Product', 'Consumer complaint narrative']\n",
        "df = df[col].dropna()\n",
        "df.head()"
      ],
      "metadata": {
        "colab": {
          "base_uri": "https://localhost:8080/",
          "height": 206
        },
        "id": "Zsj0bMcfz8Vw",
        "outputId": "070fd7ea-f883-4b90-9e5e-8b3e1b04833f"
      },
      "execution_count": null,
      "outputs": [
        {
          "output_type": "execute_result",
          "data": {
            "text/plain": [
              "                                                Product  \\\n",
              "8806                                  \"Credit reporting   \n",
              "8808                                  \"Credit reporting   \n",
              "8809  Company has responded to the consumer and the ...   \n",
              "8864                                    Debt collection   \n",
              "8891                                  \"Credit reporting   \n",
              "\n",
              "                           Consumer complaint narrative  \n",
              "8806               Incorrect information on your report  \n",
              "8808               Incorrect information on your report  \n",
              "8809                                              292XX  \n",
              "8864  i never received anything stating that i owed ...  \n",
              "8891               Incorrect information on your report  "
            ],
            "text/html": [
              "\n",
              "  <div id=\"df-c0f5933b-662f-44d2-a687-1c441ebbb2d9\" class=\"colab-df-container\">\n",
              "    <div>\n",
              "<style scoped>\n",
              "    .dataframe tbody tr th:only-of-type {\n",
              "        vertical-align: middle;\n",
              "    }\n",
              "\n",
              "    .dataframe tbody tr th {\n",
              "        vertical-align: top;\n",
              "    }\n",
              "\n",
              "    .dataframe thead th {\n",
              "        text-align: right;\n",
              "    }\n",
              "</style>\n",
              "<table border=\"1\" class=\"dataframe\">\n",
              "  <thead>\n",
              "    <tr style=\"text-align: right;\">\n",
              "      <th></th>\n",
              "      <th>Product</th>\n",
              "      <th>Consumer complaint narrative</th>\n",
              "    </tr>\n",
              "  </thead>\n",
              "  <tbody>\n",
              "    <tr>\n",
              "      <th>8806</th>\n",
              "      <td>\"Credit reporting</td>\n",
              "      <td>Incorrect information on your report</td>\n",
              "    </tr>\n",
              "    <tr>\n",
              "      <th>8808</th>\n",
              "      <td>\"Credit reporting</td>\n",
              "      <td>Incorrect information on your report</td>\n",
              "    </tr>\n",
              "    <tr>\n",
              "      <th>8809</th>\n",
              "      <td>Company has responded to the consumer and the ...</td>\n",
              "      <td>292XX</td>\n",
              "    </tr>\n",
              "    <tr>\n",
              "      <th>8864</th>\n",
              "      <td>Debt collection</td>\n",
              "      <td>i never received anything stating that i owed ...</td>\n",
              "    </tr>\n",
              "    <tr>\n",
              "      <th>8891</th>\n",
              "      <td>\"Credit reporting</td>\n",
              "      <td>Incorrect information on your report</td>\n",
              "    </tr>\n",
              "  </tbody>\n",
              "</table>\n",
              "</div>\n",
              "    <div class=\"colab-df-buttons\">\n",
              "\n",
              "  <div class=\"colab-df-container\">\n",
              "    <button class=\"colab-df-convert\" onclick=\"convertToInteractive('df-c0f5933b-662f-44d2-a687-1c441ebbb2d9')\"\n",
              "            title=\"Convert this dataframe to an interactive table.\"\n",
              "            style=\"display:none;\">\n",
              "\n",
              "  <svg xmlns=\"http://www.w3.org/2000/svg\" height=\"24px\" viewBox=\"0 -960 960 960\">\n",
              "    <path d=\"M120-120v-720h720v720H120Zm60-500h600v-160H180v160Zm220 220h160v-160H400v160Zm0 220h160v-160H400v160ZM180-400h160v-160H180v160Zm440 0h160v-160H620v160ZM180-180h160v-160H180v160Zm440 0h160v-160H620v160Z\"/>\n",
              "  </svg>\n",
              "    </button>\n",
              "\n",
              "  <style>\n",
              "    .colab-df-container {\n",
              "      display:flex;\n",
              "      gap: 12px;\n",
              "    }\n",
              "\n",
              "    .colab-df-convert {\n",
              "      background-color: #E8F0FE;\n",
              "      border: none;\n",
              "      border-radius: 50%;\n",
              "      cursor: pointer;\n",
              "      display: none;\n",
              "      fill: #1967D2;\n",
              "      height: 32px;\n",
              "      padding: 0 0 0 0;\n",
              "      width: 32px;\n",
              "    }\n",
              "\n",
              "    .colab-df-convert:hover {\n",
              "      background-color: #E2EBFA;\n",
              "      box-shadow: 0px 1px 2px rgba(60, 64, 67, 0.3), 0px 1px 3px 1px rgba(60, 64, 67, 0.15);\n",
              "      fill: #174EA6;\n",
              "    }\n",
              "\n",
              "    .colab-df-buttons div {\n",
              "      margin-bottom: 4px;\n",
              "    }\n",
              "\n",
              "    [theme=dark] .colab-df-convert {\n",
              "      background-color: #3B4455;\n",
              "      fill: #D2E3FC;\n",
              "    }\n",
              "\n",
              "    [theme=dark] .colab-df-convert:hover {\n",
              "      background-color: #434B5C;\n",
              "      box-shadow: 0px 1px 3px 1px rgba(0, 0, 0, 0.15);\n",
              "      filter: drop-shadow(0px 1px 2px rgba(0, 0, 0, 0.3));\n",
              "      fill: #FFFFFF;\n",
              "    }\n",
              "  </style>\n",
              "\n",
              "    <script>\n",
              "      const buttonEl =\n",
              "        document.querySelector('#df-c0f5933b-662f-44d2-a687-1c441ebbb2d9 button.colab-df-convert');\n",
              "      buttonEl.style.display =\n",
              "        google.colab.kernel.accessAllowed ? 'block' : 'none';\n",
              "\n",
              "      async function convertToInteractive(key) {\n",
              "        const element = document.querySelector('#df-c0f5933b-662f-44d2-a687-1c441ebbb2d9');\n",
              "        const dataTable =\n",
              "          await google.colab.kernel.invokeFunction('convertToInteractive',\n",
              "                                                    [key], {});\n",
              "        if (!dataTable) return;\n",
              "\n",
              "        const docLinkHtml = 'Like what you see? Visit the ' +\n",
              "          '<a target=\"_blank\" href=https://colab.research.google.com/notebooks/data_table.ipynb>data table notebook</a>'\n",
              "          + ' to learn more about interactive tables.';\n",
              "        element.innerHTML = '';\n",
              "        dataTable['output_type'] = 'display_data';\n",
              "        await google.colab.output.renderOutput(dataTable, element);\n",
              "        const docLink = document.createElement('div');\n",
              "        docLink.innerHTML = docLinkHtml;\n",
              "        element.appendChild(docLink);\n",
              "      }\n",
              "    </script>\n",
              "  </div>\n",
              "\n",
              "\n",
              "<div id=\"df-db53580e-314e-43fa-902f-2968f6a6f0ae\">\n",
              "  <button class=\"colab-df-quickchart\" onclick=\"quickchart('df-db53580e-314e-43fa-902f-2968f6a6f0ae')\"\n",
              "            title=\"Suggest charts\"\n",
              "            style=\"display:none;\">\n",
              "\n",
              "<svg xmlns=\"http://www.w3.org/2000/svg\" height=\"24px\"viewBox=\"0 0 24 24\"\n",
              "     width=\"24px\">\n",
              "    <g>\n",
              "        <path d=\"M19 3H5c-1.1 0-2 .9-2 2v14c0 1.1.9 2 2 2h14c1.1 0 2-.9 2-2V5c0-1.1-.9-2-2-2zM9 17H7v-7h2v7zm4 0h-2V7h2v10zm4 0h-2v-4h2v4z\"/>\n",
              "    </g>\n",
              "</svg>\n",
              "  </button>\n",
              "\n",
              "<style>\n",
              "  .colab-df-quickchart {\n",
              "      --bg-color: #E8F0FE;\n",
              "      --fill-color: #1967D2;\n",
              "      --hover-bg-color: #E2EBFA;\n",
              "      --hover-fill-color: #174EA6;\n",
              "      --disabled-fill-color: #AAA;\n",
              "      --disabled-bg-color: #DDD;\n",
              "  }\n",
              "\n",
              "  [theme=dark] .colab-df-quickchart {\n",
              "      --bg-color: #3B4455;\n",
              "      --fill-color: #D2E3FC;\n",
              "      --hover-bg-color: #434B5C;\n",
              "      --hover-fill-color: #FFFFFF;\n",
              "      --disabled-bg-color: #3B4455;\n",
              "      --disabled-fill-color: #666;\n",
              "  }\n",
              "\n",
              "  .colab-df-quickchart {\n",
              "    background-color: var(--bg-color);\n",
              "    border: none;\n",
              "    border-radius: 50%;\n",
              "    cursor: pointer;\n",
              "    display: none;\n",
              "    fill: var(--fill-color);\n",
              "    height: 32px;\n",
              "    padding: 0;\n",
              "    width: 32px;\n",
              "  }\n",
              "\n",
              "  .colab-df-quickchart:hover {\n",
              "    background-color: var(--hover-bg-color);\n",
              "    box-shadow: 0 1px 2px rgba(60, 64, 67, 0.3), 0 1px 3px 1px rgba(60, 64, 67, 0.15);\n",
              "    fill: var(--button-hover-fill-color);\n",
              "  }\n",
              "\n",
              "  .colab-df-quickchart-complete:disabled,\n",
              "  .colab-df-quickchart-complete:disabled:hover {\n",
              "    background-color: var(--disabled-bg-color);\n",
              "    fill: var(--disabled-fill-color);\n",
              "    box-shadow: none;\n",
              "  }\n",
              "\n",
              "  .colab-df-spinner {\n",
              "    border: 2px solid var(--fill-color);\n",
              "    border-color: transparent;\n",
              "    border-bottom-color: var(--fill-color);\n",
              "    animation:\n",
              "      spin 1s steps(1) infinite;\n",
              "  }\n",
              "\n",
              "  @keyframes spin {\n",
              "    0% {\n",
              "      border-color: transparent;\n",
              "      border-bottom-color: var(--fill-color);\n",
              "      border-left-color: var(--fill-color);\n",
              "    }\n",
              "    20% {\n",
              "      border-color: transparent;\n",
              "      border-left-color: var(--fill-color);\n",
              "      border-top-color: var(--fill-color);\n",
              "    }\n",
              "    30% {\n",
              "      border-color: transparent;\n",
              "      border-left-color: var(--fill-color);\n",
              "      border-top-color: var(--fill-color);\n",
              "      border-right-color: var(--fill-color);\n",
              "    }\n",
              "    40% {\n",
              "      border-color: transparent;\n",
              "      border-right-color: var(--fill-color);\n",
              "      border-top-color: var(--fill-color);\n",
              "    }\n",
              "    60% {\n",
              "      border-color: transparent;\n",
              "      border-right-color: var(--fill-color);\n",
              "    }\n",
              "    80% {\n",
              "      border-color: transparent;\n",
              "      border-right-color: var(--fill-color);\n",
              "      border-bottom-color: var(--fill-color);\n",
              "    }\n",
              "    90% {\n",
              "      border-color: transparent;\n",
              "      border-bottom-color: var(--fill-color);\n",
              "    }\n",
              "  }\n",
              "</style>\n",
              "\n",
              "  <script>\n",
              "    async function quickchart(key) {\n",
              "      const quickchartButtonEl =\n",
              "        document.querySelector('#' + key + ' button');\n",
              "      quickchartButtonEl.disabled = true;  // To prevent multiple clicks.\n",
              "      quickchartButtonEl.classList.add('colab-df-spinner');\n",
              "      try {\n",
              "        const charts = await google.colab.kernel.invokeFunction(\n",
              "            'suggestCharts', [key], {});\n",
              "      } catch (error) {\n",
              "        console.error('Error during call to suggestCharts:', error);\n",
              "      }\n",
              "      quickchartButtonEl.classList.remove('colab-df-spinner');\n",
              "      quickchartButtonEl.classList.add('colab-df-quickchart-complete');\n",
              "    }\n",
              "    (() => {\n",
              "      let quickchartButtonEl =\n",
              "        document.querySelector('#df-db53580e-314e-43fa-902f-2968f6a6f0ae button');\n",
              "      quickchartButtonEl.style.display =\n",
              "        google.colab.kernel.accessAllowed ? 'block' : 'none';\n",
              "    })();\n",
              "  </script>\n",
              "</div>\n",
              "\n",
              "    </div>\n",
              "  </div>\n"
            ],
            "application/vnd.google.colaboratory.intrinsic+json": {
              "type": "dataframe",
              "variable_name": "df",
              "summary": "{\n  \"name\": \"df\",\n  \"rows\": 7990,\n  \"fields\": [\n    {\n      \"column\": \"Product\",\n      \"properties\": {\n        \"dtype\": \"category\",\n        \"num_unique_values\": 2245,\n        \"samples\": [\n          \" I received an Occupancy Survey Form from my Homeowners Insurance\",\n          \" in order not to lose thousands of loans\",\n          \" I remain frustrated that XXXX XXXX and Sychrony Bank allowed this to happen in the first place. Protocol would have been to see the credit alert and not open the account without contacting me and verifying my identity and that I made the request. This issue has led to me spending a considerable amount of time speaking with Synchrony Bank and my credit protection service\"\n        ],\n        \"semantic_type\": \"\",\n        \"description\": \"\"\n      }\n    },\n    {\n      \"column\": \"Consumer complaint narrative\",\n      \"properties\": {\n        \"dtype\": \"string\",\n        \"num_unique_values\": 4161,\n        \"samples\": [\n          \"\\\"I noticed when checking my credit report that I have a collection from LVNV Funding I reached out to them asking what this was for\",\n          \"\\\"A debt for {$780.00} has been on my credit report since XX/XX/2018 from COLLECTION company called CREDIT MANAGEMENT LP XXXX XXXX XXXX XXXX\",\n          \"AZ\"\n        ],\n        \"semantic_type\": \"\",\n        \"description\": \"\"\n      }\n    }\n  ]\n}"
            }
          },
          "metadata": {},
          "execution_count": 44
        }
      ]
    },
    {
      "cell_type": "code",
      "source": [
        "df.size"
      ],
      "metadata": {
        "colab": {
          "base_uri": "https://localhost:8080/"
        },
        "id": "_828Ldu_0kuI",
        "outputId": "0db05756-e3df-4923-9a61-0e2c56959a61"
      },
      "execution_count": null,
      "outputs": [
        {
          "output_type": "execute_result",
          "data": {
            "text/plain": [
              "15980"
            ]
          },
          "metadata": {},
          "execution_count": 45
        }
      ]
    },
    {
      "cell_type": "code",
      "source": [
        "from sklearn.model_selection import train_test_split\n",
        "train, test= train_test_split(df, test_size=0.20, shuffle=True)\n",
        "test.head(), train.head()"
      ],
      "metadata": {
        "colab": {
          "base_uri": "https://localhost:8080/"
        },
        "id": "QuMCfFAH1VnS",
        "outputId": "256b7a54-d4e8-44e1-99b0-6c89df6b80ba"
      },
      "execution_count": null,
      "outputs": [
        {
          "output_type": "execute_result",
          "data": {
            "text/plain": [
              "(                                                 Product  \\\n",
              " 31722                        Credit card or prepaid card   \n",
              " 25188   but their voice recorder says they will not t...   \n",
              " 13795                                           Mortgage   \n",
              " 19455                        Credit card or prepaid card   \n",
              " 23376                                 however inaccurate   \n",
              " \n",
              "                             Consumer complaint narrative  \n",
              " 31722  \"Membership Fee issue with Citibank Membership...  \n",
              " 25188   just refuse the shipment when it comes. I ALS...  \n",
              " 13795  \"I got my home in XXXX with a 30 year mortgage...  \n",
              " 19455  \"An unauthorized Amex card was taken in my nam...  \n",
              " 23376                                               FSB\"  ,\n",
              "                                                  Product  \\\n",
              " 29515         and provided a copy of our payment receipt   \n",
              " 29040  Company has responded to the consumer and the ...   \n",
              " 33383   I received an email from Equifax with a confi...   \n",
              " 26665                                  \"Credit reporting   \n",
              " 28413   I need : ( 1 ) copies of all documents pertai...   \n",
              " \n",
              "                 Consumer complaint narrative  \n",
              " 29515                                   XXXX  \n",
              " 29040                                  112XX  \n",
              " 33383   confirmation # XXXX dated XX/XX/XXXX  \n",
              " 26665   Incorrect information on your report  \n",
              " 28413                   adjustable rate note  )"
            ]
          },
          "metadata": {},
          "execution_count": 46
        }
      ]
    },
    {
      "cell_type": "code",
      "source": [
        "train.size, test.size"
      ],
      "metadata": {
        "colab": {
          "base_uri": "https://localhost:8080/"
        },
        "id": "5TiU_w-U1dIa",
        "outputId": "9710dfac-4203-41f0-cccf-9e8e9a79fa59"
      },
      "execution_count": null,
      "outputs": [
        {
          "output_type": "execute_result",
          "data": {
            "text/plain": [
              "(12784, 3196)"
            ]
          },
          "metadata": {},
          "execution_count": 47
        }
      ]
    },
    {
      "cell_type": "code",
      "source": [
        "from sklearn.preprocessing import OneHotEncoder\n",
        "one_hot_encoder = OneHotEncoder(sparse_output=False)\n",
        "train_labels_one_hot = one_hot_encoder.fit_transform(train[\"Product\"].to_numpy().reshape(-1, 1))\n",
        "test_labels_one_hot = one_hot_encoder.transform(test[\"Product\"].to_numpy().reshape(-1, 1))"
      ],
      "metadata": {
        "colab": {
          "base_uri": "https://localhost:8080/",
          "height": 609
        },
        "id": "9ZPvKaFU1oTn",
        "outputId": "2e233383-d054-44dc-8af6-3fb25c76bd41"
      },
      "execution_count": null,
      "outputs": [
        {
          "output_type": "error",
          "ename": "ValueError",
          "evalue": "Found unknown categories [' I realized that my XXXX-brand washing machine was no longer draining properly', ' Mr XXXX', ' XXXX XXXX and XXXX XXXX XXXX both continue to report these accounts negatively. The negative reporting is driving my credit score down and I need the information to be updated with the CRAs to reflect that these disputes have been settled and paid in full.\"', ' but that he would send it to the dealership directly so they could contact me. No one from the dealership ever reached out for resolution.\"', ' you charge a significant fee for anyone to make a payment online or by phone', ' Georgia law ( Official Code of Georgia', ' this shipment came in TWO packages on different days. I was not home so XXXX dropped both shipments off at my doorstep ( 2 consecutive days ). I never opened them', ' then cancelled the ( 2 ) online \"\" classes. \\'\\' There were NO \"\" classes \\'\\' it was a total scam. There was NOTHING of value provided to me at all or in anyway', ' which warning that it was really 6 months minus one day.\"', ' PA XXXX XXXX\"', ' if i weren\\'t dirt poor then I guess they might care. They took a month to reissue me a replacement card ; two weeks later i finally got paperwork which i returned on the same day. On the last hour of tje tenth business day they denied my disputes on both occasions Something needs to be done.\"', ' dated 1XX/XX/XXXX2018 was received on XX/XX/XXXX2018 stating the dispute was closed. I called in the next business day. I talked to one of your Card Member Service staff explained to her I was out of the Country and request reopening of the dispute and requested an email address to provide addition information. The reasons were I have to send in color photos to show the item specification which the item shipped did not meet. She promised to reopen the case and she further agreed to provide an email address so I could use. She also told me that a letter would be sent to confirmed. I waited several days', ' XXXX {$11000.00} Closed XXXX Reported : XXXX. XXXX', ' Enclosures : Identity Theft Report Proof of identity : a copy of my drivers license/other government-issued identification card/other Copy of Credit Report Fair Credit Reporting Act Section 605B [ PDF ]\"', ' I asked for an account audit and was told No and finally received a letter stating my payoff balance was {$5300.00} and because I had already paid {$2600.00} but was told I only had {$2500.00} available after {$100.00} had been taken as a fee on top of the {$9.00} fee I pay monthly so I sent a Cashiers Check for the balance owed on XXXX/XXXX/19 of  {$2700.00} which should have paid my balance in full', ' repeating various times that our call was being recorded for \"\" quality assurance. \\'\\' 3. It took many weary', ' My cosigner received a letter of default. I in fact have not received any letter or email stating that I was going back into charge back. How is this possible I did everything right yet Navient continues to ruin my credit?\"', ' when I decided to use a different lender', ' you\\'re my only hope\"', ' but offered a card with lesser value.\"', ' involved in the fraud. There is more than can be read on this issue', ' but yet again', ' all of which is paid on time. However', ' ... \"\" we buy thousands and thousands of loan / portafolios \\'\\' stated the previous rep', ' and that this was why I had not been notified of any changes. Therefore nothing had been filed', ' they would not give me their address', ' finally', ' my escrow analysis date has changed to XX/XX/XXXX which means I would be out {$1500.00} for almost a year I had not received any information from Shellpoint even with corresponding with their General Counsel I just received a letter today XX/XX/XXXX that says Shellpoint is re-analyzing my escrow account. There is no commitment to when the escrow analysis will be completed other than the appropriate department will process the escrow analysis.\"', ' FL XXXX IS NOT MINE XXXX XXXX XXXX XXXX XXXX XXXX XXXX', ' I want my accounts fix. DELETE ALL ISSUES. Or I will be force to seek out legal council and seek out 100 % of my remedies.\"', ' but my pleas fell to deaf ears. The bank manager nor the customer care helpline were of any use. They kept talking to me as if I am the culprit in this scenario. I have been a loyal customer all these years and have used the pay by cellphone - remote pay check deposit option - all these years. I consider myself to have been cheated by theft and later by non-cooperation by my own bank. One', ' I purchased a XXXX XXXX XXXX', ' XXXX and XXXX  appear not to care ... ...\"', ' over 50 days after I sent my paperwork in ) Towards the end of XX/XX/XXXX', ' and NYS DTF copies of the cashed joint refund checks : XXXX NYS joint refund of {$32000.00} ; XXXX NYS joint refund of {$57000.00} ; XXXX NYS joint refund for {$120000.00}.\"', ' I off work early and went to the XXXX XXXX XXXX store in XXXX', ' you must : write to the credit card issuer at the address given for billing inquiries', ' illegal document. I placed 6 separate calls to XXXX', ' all of Flagstars correspondence and my response to Flagstar.\"', ' TX XXXX XXXX ( XXXX ) XXXX They are the same company that tried to collect in XXXX and XXXX. Ive sent the documentation showing that I paid the debt in full to both XXXX and Synergetic. Neither entity acknowledges the information Ive provided', ' in part : \"\" Fraud vitiates every transaction and all contracts. Indeed', ' but I never received any letter. In speaking with XXXX ( Mr. XXXX )', ' please investigate what has been reported on XXXX XXXX XXXX reports and background and inquiries that are actually mine and were caused to be there by USAA & XXXX. It if vitally important to me that my sister NOT HAVE my background information or any current or future information.\"', ' did I receive some degree of solution to the problem.\"', ' XXXX will not allow me to log in to view the dispute from this that I filed several weeks ago stating that the dispute is still in progress.\"', ' and it continues to be a problem with multiple companies selling off a debt not owed and ruining my credit history', ' but I paid off a medical collection bill with them quite some time ago that still remains on my report after I was promised it would be removed.\"', ' I HAVE A HIGH CREDIT SCORE', ' email address', ' willful acts that are and were malicious', ' National Credit Systems', ' per Section 807 ( 11 ) & FDCPA 809', ' I would not have enrolled where I did.\"', ' 3.XXXX XXXX XXXX XX/XX/XXXX 4.XXXX XXXX XXXX XX/XX/XXXX 5.XXXX XXXX XXXX XXXX XX/XX/XXXX 6.XXXX   XX/XX/XXXX 7.XXXX/XXXX XXXX XXXX XX/XX/XXXX 8.XXXX XXXX   XX/XX/XXXX XXXX  1.XXXX/XXXX  XX/XX/XXXX XXXX   1.XXXX/XXXX  XX/XX/XXXX and XX/XX/XXXX and XX/XX/XXXX\"', ' serious delinquincy', ' or about', ' they have no compunction about hurting my credit score on  the way to doing so. I am writing the Consumer Finance Protection Bureau to assist me in getting this demerit off of my credit report. My account number with XXXX XXXX is XXXX. Thank you', ' I was charged another annual fee because it is a new contract. XXXX', ' one representative queried me about the real source of the letter. I read it to her and she concurred it was authentic', ' instead of one', ' quote Security Ref : XXXX as subject of your email to me. I may also be reached on XXXX Regards XXXX XXXX Chief Financial Officer PNC  Financial Services Group XXXX\"', ' regarding the fact that they acknowledge quote/unquote', ' I agreed to let Discover extract $ XXXX/mo directly from my credit union account on the XXXX of each month', ' I saw someone came to the store all the time', ' down from over 800 to now XXXX.\"', ' it was overdrawn. I have transferred {$120.00} to cover it. However', ' yet innovis reporting closed and negative with no positive months XXXX XXXX XXXX is being reported on legitimate credit report agencies as paid in good standing WITH ALL MONTHS REPORTED POSITIVE AND INNOVIS IS NOT I NEVER OPENED XXXX XXXX IT IS FRAUD XXXX IS NOT LATE FULLY PAID XXXX XXXX XXXX  IS FRAUD NEVER MAINTAINED ACCOUNT I DO NOT USE XXXX XXXX IT IS FRAUD REMOVE XXXX XXXX XXXXXXXX is being reported I don\\'t care if it says requests I can only see I HAVE A XXXX XXXX AND U R LETTING XXXX XXXX ALONG WITH XXXX XXXX   REMOVE IT XXXX XXXX Report # XXXX And XXXX Social sec XXXX - XXXX - XXXX\"', ' my mother', ' XX/XX/XXXX and XX/XX/XXXX\"', ' when I was an XXXX', ' on XXXX my purchases were shown as pending : XXXX XXXX : {$9.00} ; XXXX XXXX : {$2.00} ; and XXXX XXXX : {$77.00}. Then the following day', ' they are refusing to let me used my earned points by all means please help to stand against this unfair bank who his dealt with with nothing but rudeness and unjustness every time I called them to seek for my stolen points by them and ask them for explanation why did they closed my account but they never wanted to help or answer any of my question .nevertheless', \" XXXX XXXX/XXXX  XXXX 's representative XXXX\", ' we were told to contact XXXX XXXX XXXX who never responds to out faxes', ' and have shared the police case number with the bank.\"', ' TransUnion and XXXX on XX/XX/XXXX. Today XX/XX/XXXX all three credit reporting agencies refused to open another dispute or correct the error.\"', ' they advertise this on their website and send us promotional emails to invite people to apply to American Express Cards in return of a Referral Bonus and when we do', ' my account still requested that I owed {$1100.00}. I called back on XX/XX/2019. I was told that whoever I spoke with forgot to submit the request', ' VA XXXX ( XXXX ) XXXX Payment History XXXX XXXX XXXX XXXX XXXX XXXX XXXX XXXX XXXX XXXX XXXX XXXX XX/XX/XXXX XXXX XXXX XXXX XXXX XXXX XXXX XXXX XXXX XXXX XXXX XXXX XX/XX/XXXX XXXX XXXX XXXX XXXX XXXX XXXX XXXX XXXX XXXX XXXX XXXX XX/XX/XXXX XXXX XXXX XXXX XXXX XXXX XXXX XXXX XXXX XXXX XX/XX/XXXX XXXX XX/XX/XXXX XX/XX/XXXX XXXX XXXX XXXX XX/XX/XXXX XX/XX/XXXX XX/XX/XXXX XX/XX/XXXX XX/XX/XXXX XXXX FP XXXX FP XXXX FP XXXX XXXX FP XXXX FP XXXX FP Apr FP XXXX FP XXXX FP XXXX FP XXXX FP XXXX FP XXXX FP XXXX FP XXXX FP XXXX XXXX FP XXXX FP XXXX FP Apr FP XXXX FP XXXX FP XXXX FP XXXX FP XXXX FP XXXX FP XXXX FP XXXX FP\"', ' with intent to defraud', ' but my concern is that unaware users are getting charged late fees with no notification or transparency. Cancelling your existing payment without notification and then charging a late fee is a very concerning business model.\"', \" I did not see any warning and I can't see a reason why I would not be able to get the new card member bonus. Forward to today\", ' as it was refinanced with a new XXXX account', ' XXXX XXXX and Wells Fargo.\"', ' but IQ Data International had other thoughts', ' but I also had a XXXX  XXXX  XXXX card', ' that XXXX has never made any attempt to send a first bill to begin with. Simply went straight to the harassing phone calls at work.\"', ' I respectfully request Convergent Outsourcing remove all active', \" and tell me to call support. I call support again and they tell me I need to put in my social security number in order to view my balance history. That seems VERY sketchy so I do a XXXX search and see warnings about that. I put it in temporarily and it has no impact. You can't remove it\", ' XXXX XXXX XXXX SOC SEC # XXXX DOB XX/XX/XXXX ADDRESS XXXX XXXX XXXX', ' I have maybe been able to watch a single movie. I do not think it is fair to charge for this service as I can not use it and even when I try to use it', ' and prioritizing the simple interest & penalizing me the consumer for additional payments by applying additional principal payment funds to the daily simple compound interest. This practice was outlawed in XXXX in USA', ' after re-applying for income sensitive repayment again', ' the incorrect reporting would be deleted. This account fails to research and delete the inaccurate information from my reports.\"', ' explained my situation and asked for one NSF fee to be waved. He told me that the bank refused the request. Then I spoke to his supervisor and she told me the same thing.\"', ' escalate the call to a manager', \" they are not looking at the details as it's the same item but larger size. Ive sent statements and contacted both XXXX  and XXXX and XXXX is still reporting in error\", ' contracts', ' yes', ' again XXXX doesn\\'t know anything about me so why would she say that? I asked for her bosses name and she refused.\"', ' mail', ' who I do not socialize with and are telling him to get me to call them.\"', ' I am bringing this complaint before you for investigation before litigation so that I may explain to the judge that I followed all reasonable measures in addressing Transunion refusal to uphold FCRA regulations.\"', ' I put my property on the market to find that the HELOC was still a debt on the property. I contacted Sortis and found out that of the {$18000.00} agreement I had paid {$17000.00}', ' please help', ' that would allow the consumer to effectively transition to the new increased homeowners insurance policy. However', ' and even more types of bad behavior!', ' redeem points for Company travel. ) I was able to transfer points to first account. However', ' which is required. Yet', ' XXXX and my source of income is unearned XXXX with XXXX XXXX\"', ' after I applied for the Walmart credit card', ' which has made this balance transfer more expensive than simply leaving the balance on my prior card.\"', ' XX/XX/2019. He said that my cousin provided my name not as a reference but as a contact person to call should XXXX XXXX have difficulty reaching my cousin. When I asked for a copy of the document providing my contact information as provided by my cousin', ' should not have been returned to Chase', ' but nothing would be done for my account since the interest had already capitalized. They were essentially saying the process is meant to go from phase 1 ( no interest is accruing ) to phase 2 ( interest begins accruing ) to phase 3 ( interest is capitalized )', ' I called the company', \" let 's also mention that I did call them in XX/XX/XXXX after the hurricane hit our area to ask about a forbearance simply because XXXX had automatically placed one on my accounts due to the hurricane. XXXX XXXX offered nothing\", ' I made an online payment myself XX/XX/18 to Synchrony for {$100.00}. A few days later XX/XX/18', ' I called XXXX  XXXX customer service', ' XXXX XXXX 2. XX/XX/XXXX', ' I was a victim of financial fraud of {$1000.00} by a lady named XXXX XXXX from PA XXXX case XXXX', ' which the credit reporting companies tell me that will cause the accounts to say on the credit longer then the 7 year marker.\"', ' please call us at XXXX. We look forward to working with you.\"', ' I in no way expect for those services to be interrupted until if and when I enter into another agreement. I think such behavior is bullying', ' our account was closed', ' but i also get a bill to my house for XXXX dollars which i dont understand. i feel i have been defrauded by this company and have been paying for the last 10 years and my balance has gone up by 59 %. ON many occasions i have been told no', ' XXXX to avoid foreclosure. I asked why the QCD was not accepted', ' and they should be thoroughly investigated.\"', ' I was advised by XXXX XXXX.\"', ' email or call me. I had to contact them after being notified via XXXX XXXX.\"', ' I contacted XXXX to get clarification on these late payments', ' which I had used to transfer money to that same account in a previous wire transfer with no such penalty. Had I known that I was facing a HUGE discrepancy in total payout', ' unverified accounts must be promptly deleted. If you are unable to provide me with a copy of the verifiable proof that you have on file within 30 days for each of the accounts listed bellow then you must remove these accounts from my credit report and remove all none account holding inquiries in my credit report .Please provide me with a copy of an updated and corrected credit report showing these items  removed.\"', ' and won\\'t give personal information to any random company that contacts me.\"', ' how did I finally get accepted? Lo and behold', ' it is not this difficult to add bank accounts from any other major creditor. I believe this company is intentionally making this difficult. My current account will close next month and I will literally have no way to make a payment on my account. I am ready', ' reduce my interest rate', ' telling me shes from XXXX ( she has a notable accent', ' in the modification documents', ' XXXX XXXX. I told her I was seeking legal help with XXXX and to please wait until my complaint against XXXX was addressed. I continue paying XXXX but stopped when XXXX returned the last two payments  I sent them. I felt that going forward with an innocent', ' I was unaware that the steps I had taken to address this debt were insufficient and not timely ( by a matter of mere days ) before this was sent to the creditor. I was completely caught off guard and that is what makes this situation even more concerning. Harassing a person dealing with a XXXX who did not make the decision to put themselves in this debt and has taken every possible step they know to address it within their financial means makes me feel they are taking advantage of my vulnerable position and I am concerned about what and how they are using the information they are trying to get from me.\"', ' XXXX  or XXXX  )', ' I reviewed my credit reports provided by MY FICO. I found the following errors : The XXXX and Equifax payment history on both accounts show XX/XX/XXXX as OK', ' including computer data or a computer program', ' whi ch got closed 4yrs back', ' it should not be assigned to one company after another. In my case 2 debt collectors are showing the same account. The companies are : XXXX XXXX XXXX and XXXX XXXX\"', ' but I also sent it through US mail. On XX/XX/XXXX', ' in simple terms', ' written', ' to ensure the process of transferring my account from XXXX XXXX was underway', ' even if it is completely their fault', ' I was assigned a researcher named XXXX XXXX on XX/XX/XXXX ( it has been over XXXX business days ) and have not been contacted by him to follow up with my inquiries.\"', ' see attached The person I spoke with said they would not remove the PMI', ' TD Bank began accusing me of being in bankruptcy. They locked me out of my mortgage account', ' I assumed that the Bank uses a formal process to authorize ACH withdrawals and request a written authorization or any sort of form to prove that ACH transactions are approved by their clients. Many other merchants who legitimately withdrew monies from our Bank account have followed a formal process to withdraw monies.\"', ' however I am a full-time graduate student reliant on federal loans and low-paying part-time employment', ' it fails to communicate what it is doing. I am left with unexplained bills', ' due to my limited literacy in financial legal terminology', ' given the fact that I have not had any type of XXXX services for 10 years. I requested debt validation in XXXX of XXXX from Enhanced Recovery Company', ' no previous balance', ' I\\'m asking for XXXX XXXX XXXX to provide proof of payment and method of payment made by me as reported to XXXX.\"', ' mi mortgage with XXXX XXXX XXXX XXXX', ' XXXX   XXXX which turned into XXXX XXXX', ' I have not received any correspondence ( calls/emails/ letters ) from Experian oXXXX XXXX XXXX XXXX containing any information that was provided. I would like for Experian to hold this company XXXX XXXX XXXX accountable for their deceptive practices and also perform their own due diligence and remove this negative account from credit report because they didnt actually properly verify that this debt truly belongs to me.\"', ' this entry is erroneous and unverifiable and must be DELETED immediately due to IC Systems forfeiting my rights under consumer law.\"', \" check number and tell me that a conditional credit will be applied so that my account doesn't go past due or\", ' who told me I had to wait until I received new cards to do anything. I called security department', ' I should have a balance of {$950.00}. I want this money returned to me without delay.\"', ' unable to access a customer rep I closed the acct. On XX/XX/XXXX I called Customer Service XXXX and explained to 6 different customer reps ( in which 3 times the reps hung up on me ). That my payment was made timely and I should not be liable if they failed to cash the check and post to my account. I was informed that since the acct was closed I had to made the payment', ' XXXX from XXXX XXXX XXXX XXXX incorrectly diagnosed and suggested that water-heater at our house needs replacement. As we have home-warranty from a company name XXXX', ' unless the original creditor', ' and informed me my payment review is still pending. What pending meant', ' SPS calculated this payment amount without obtaining proof of income from my for XXXX and XXXX which according to my understanding is illegal.\"', ' I submitted to all three credit bureaus a signed and notarized document and certified it to Experian', \" i can not BELIEVE what i was reading. This is a company that's getting things in order\", ' for the first time I was given a Post office Box address to write to about my concerns and this complaint', ' XXXX  XXXX XXXX Customer Care Team -- -- -- -- -- -- -- -- -- -- -- -- Original Message Follows : -- -- -- -- -- -- -- -- -- -- -- -- I never received a letter', \" it turns out it doesn't end until XX/XX/XXXX. They stated someone had submitted a refinance in my name for {$4000.00}. This was not me\", ' dob', ' the loan was given on XXXX by CashCall', ' the issue I am having with XXXX XXXX XXXX is the same issue. I voluntarily gave the car back and they continue to call me a ding my credit for a car I returned. Not only did the dealership receive my car but I signed a voluntary repossession form and gave it back to them. This should no longer report on my credit score as delinquent\"', ' so I\\'m afraid it is either a fake debt collection company or it is a real one that steals my personal information to scam me.\"', \" if not down right illegal. She used the threat of pulling our loan from us if we didn't maintain the rate lock that we were in\", \" you've had : 4 On Time Payments 0 Past due or Delinquent View Full History Contact XXXX XXXX XXXX XXXX XXXX XXXX XXXX XXXX  XXXX XXXX\", ' TILA', ' the borrower timely made both his first and second trial payments as required. Then', ' they have miscalculated the number of my qualifying payments I have made', \" Experian. Please remove any and all fraud alerts and security freezes to my account until such time that I request them on my own. '' On Saturday\", \" XXXX continues to attempt collections on an Abandoned Debt wherein they issued [ 4 ] 1099 's to me and provided the same to the IRS. After XXXX issued the 1099 's\", '000 mile warranty accompanying the service. XXXX XXXX had to completely rebuild the transmission less than four months and one hundred miles later. I had to pay {$5400.00} to XXXX XXXX on XX/XX/XXXX for the same service Here is a summary : My transmission has intermittently not gone into 4th gear for years. Stopping and using the transmission control reset sequence worked to correct this until last summer so we took the XXXX to the mechanic at the top of the road who stated that we needed a new transmission. I looked for transmission rebuild shops and XXXX XXXX XXXX quoted {$3500.00} including a 3-year or 36', ' however inaccurate', ' Mr. XXXX insisted that an additional {$850.00} be held in escrow until the work was completed. To make matters worse', ' XXXX XXXX XXXX | Sr. Account Manager XXXX Direct Number : ( XXXX ) XXXX | Mobile : ( XXXX ) XXXX | Fax Number : ( XXXX ) XXXX XXXX XXXX', ' for it to be a violation of the FCRA.\"', ' I was not told that I would be denied the welcome bonus when I applied for the card', ' and without prior notice to me', ' stating not to worry at all', ' and I reserve the right to pursue further action.\"', ' # XXXX that was the primary checking account before', ' I have examined the statement of facts presented in this letter and to the best of my knowledge', ' Chase has handled this entire situation unfairly', ' misleading me and caused my damages in many ways. Because they made me feel that my rights were not covered and claimed no where I could get my card under protections by federal/state laws. So they made me admited and forced me that I had to pay for all of my fraulent unauthorized transactions.\"', ' much like all others', \" On XX/XX/XXXX I sent a letter that I don't agree and had to open the case again. XX/XX/XXXX and had to resent all my info again because they had to reopen my case as to they. This has been way over the time frame 45 days they gave me as to when this would be resolved\", ' sincerely', ' When i informed her of the information the last rep told me she responded with a dismissive tone and just kept repeating that I would not be getting a check from Wells Fargo and there was nothing they could do. I asked to speak to a supervisor twice before I was transferred and got the same response from the supervisor. I have yet to be given an answer as to why my account was closed.\"', ' was transferred. I reported the regulatory error to the manger. They apologized for the mistake', ' I was told the initial graduation was 8 months. I called in XX/XX/XXXX which was the 8th month', ' kansas XXXX i spoke to them today after i saw this on my credit report', ' hurtful', ' the PNC Representative claims that I faxed the form in', ' and best regards', ' 120 payments of {$560.00} comes to about {$67000.00}. When I consolidated my loans into this PSLF program', ' if the consumer reporting agency ( A ) is a reseller ; ( B ) is not', ' XXXX supervisor stated that the company made 3 robot call warnings to me', ' our account is still frozen', ' I believe having a paper trail with a company I do not trust is better than talking on a recorded line.\"', ' Mortgage', ' the CFPB should stop any agency that it can from abusing private information such as birthdates', ' I am seeking your  assistance on this matter. You can reach me at XXXX or XXXX.\"', \" CA XXXX Phone XXXX I didn't give consent to have my credit pulled and after speaking with XXXX XXXX they agreed that this wasn't a practice that they approved of and opened a Complaint Case : XXXX Against them. I was told by XXXX  that I needed to call the RateGenius back and ask them to remove the inquiry\", ' but there is still no excuse for the POOR customer service and the rudeness my wife and I have received from National Credit Systems - specifically Representative XXXX XXXX at extension XXXX.\"', ' XX/XX/XXXX ( twice ). XXXX/XXXX', ' my card gets closed due to know fault of mine but NOT liking the new rate\"', ' email messages', ' VA XXXX\"', ' I did not receive any notification via email', ' according to my credit report', ' I have received two telephone messages demanding that I call them about this account. I will do so today', ' it puts my debt to income ratio incredibly high and that they will not be able to give me a loan with it showing this way. I contacted XXXX  who agrees that this is incorrect but instead of callng the Credit bureaus to fix it', ' XXXX XXXX submitted yet another dispute letter packet indicating that the information sent by ProCollect does NOT contain any information as the details of this reported debt. The only reference to this reported balance due of {$91.00} is on one page ( very poor quality see attachment ) of the numerous irrelevant documents sent and it merely states that there is a {$50.00} charge for cleaning fees and a {$41.00} charge for final bill. On the line above these charges', ' FCRA Law', ' the PayPal website started glitching so he told me to use the mobile app instead. I downloaded the app and when I went to start the second transaction', \" but none of my payments were even 30 days late. This is so frustrating as it's taken my credit score down 200 points\", ' XXXX XXXX and Chase banks in this matter has harmed me greatly both financially and emotionally. For my own wellbeing', ' Inc . The mortgage payments were transferred by ACH. These complaints are not about the XX/XX/XXXX mortgage that is not paid. This is about returning my money overpaid to Seterus back in XX/XX/XXXX. My bank statements are proof that I was paid to date! I am NOT going to continue to send bank statements to prove to Seterus I am paid. I do this with no one I pay! POST your ACH payments when paid and I want my money returned for the XX/XX/XXXX cashiers check for {$2000.00}. You are not going to keep my money.\"', ' Mr. Cooper is finding ways to take my property as there is lot of equity in it. I was ready and willing to make payments at all times but they refused to take it. They refused to take payment in ec', ' and it has been a frustrating situation to deal with.\"', ' but it is very difficult to get in touch with the Department of Ed', ' and they must now disclose the information of who was/were the individuals that flew the drone ( s )  over our home near the XXXX Airport', ' XXXX and XXXX\"', ' I spent countless hours talking with CPA & XXXX', ' XXXX Government ( loans/grants )', ' oh ya', \" my CLIENT claimed that he wasn't able to use his PayPal account\", ' SPS sent a refund check in the amount of {$1300.00} which is {$620.00} short of the overpayment. We have served SPS with 2 notices of error regarding this matter. SPS fraudulently took money from us that was an overpayment of our Homeowners Insurance when we owed nothing to them as our mortgage and escrow accounts were 100 % current based on their billing. We believe that SPS took {$620.00} in funds', ' expedite or otherwise relieve the tension between the availability of funds and the conclusion of the promotional program. This is a service', ' and I will make sure other consumers know about it as well.\"', ' return receipt letter to XXXX XXXX at Rauch-Milliken referring to my letter of XX/XX/XXXX. Said in this letter', ' but subsequently learned that the company that actually made the calls and breached my right of privacy is XXXX XXXX. As such', \" I received a letter from Citi Cards stating that they couldn't resolve my dispute and will be rebilling me the amount of {$2900.00}. On XX/XX/XXXX\", ' which makes no sense to me. It also says that it was opened in XX/XX/XXXX. However', ' I was contacted by XXXX with a refinance offer where I would get an initial cash-out refinance', ' the XX/XX/XXXX payment was submitted. However', ' One West Bank refused to accept this as validation. They proceeded to tell us', ' SD   XXXX  Inquiry Date : XX/XX/2018\"', ' which the court said would be immediatley cleared asap and XXXX lifted when payment contract was started I want to make sure I am able to go back to work and I want to know if XXXX and Checkr are allowed to do this.\"', ' she received the attached email from another \"\" attorney/collector \\'\\' stating they were collecting on the same debt that CCS had transferred to them. They then called my XXXX year old daughters cell phone and left a recording to which my wife called them back and told them to stop calling and send something in writing for us to respond to. They refused saying letters have already been sent. Again we have received no letters. Today CCS has now reported this unvalidated debt on my credit reports.\"', ' and stated the fact that it was not valid. She submitted documentation of my financial obligation via email. This debt has since been sold to the Financial Corporation of America. They continue to call me in reference to this medical debt that I do not owe. I have also explained the same situation to them in vain.\"', ' etc ] Either the CRAs or XXXX XXXX is lying', ' and am a  preferred customer at Kohls  10 ) If need documentation', ' between XXXX and XX/XX/2018', ' necessarily on a case by case basis', ' the interest rate was initially high at 7 %', ' I called and spoke with XXXX ( # XXXX )', ' dates', ' we can determine if we received the funds. I was advised to fax the information to XXXX', ' a security freeze means a notice placed in a consumer report that prohibits a consumer reporting agency', ' EXHIBIT 2A of XX/XX/XXXX shows \"\" closed {$140.00} past due as of XX/XX/XXXX \\'\\'', ' and we had every right to question the numbers.\"', ' the following accounts do not belong to me and have been removed by the other credit bureaus and deemed fraudulent : XXXX XXXX XXXX XXXX XXXX XXXX XXXX XXXX XXXX XXXX XXXX XXXX XXXX XXXX XXXX XXXX XXXX XXXX XXXX XXXX XXXX XXXX XXXX  XXXX If you do not initiate an investigation regarding my dispute', \" I was shocked to view that even though I hadn't yet made my XX/XX/XXXX payment\", \" with the claim there were no dates of service on the receipt XXXX dates of service don't auto-generate on the receipt\", ' but their voice recorder says they will not take calls and I must email or chat online. I immediately went on chat', ' are breaking the law.\"', ' copy of drivers license and social security card', ' but was expected to have been in debt another 30 years or more ... The loans will never have been repaid. Whoever loaned the money knew the risk ...\"', ' they had my money', ' XXXX  is 2nd ... .New player is XXXX ... out of Pennsylvania..do n\\'t know how to get their report.\"', ' I do not have records of this bank or the account number', ' I\\'m asking for XXXX XXXX XXXX to provide proof of payment and method of payment made by me as reported to Transunion.\"', ' FL XXXX ( XXXX ) XXXX Account Sale Info : ACCOUNT SOLD TO XXXX XXXX XXXX : DISP INVG COMP-CONSUM DISAGRS ; PURCHASED BY ANOTHER LENDER ; >PAID IN FULL/WAS A CHARGE OFF<\"', ' XXXX XXXX XXXX VA XXXX XXXX XXXX XXXX XXXX XXXX XXXX XXXX XXXX XXXX XXXX XXXX XXXX XXXX', ' which historically has been at least 10 days prior to due date.\"', ' on XX/XX/2018', ' and they unfollowed and totally against the Federal Laws', ' I received a letter from the company stating that the information was correct and that I should not have been told they would remove the missed payment from my credit report. They stated they had tried to contact me but my number had been disconnected. This is a fabrication as I have been using the same number for over 20 years and I never received a call from the company ( my phone number was also listed in the complaint ). They provided me a number to customer service if I wanted to discuss more', ' payoff calculations', ' WE WERE TOLD', ' online bills were incomplete', ' a security breach in XXXX', ' XXXX  XXXX XXXX # XXXX', ' to allow time for my responses. On XX/XX/XXXX', ' and asked them to take action to get this inquiry removed from their records and to erase any record of the inquiry with all credit reporting agencies. They assured me they would comply with my request and take whatever steps necessary to resolve the issue', ' we were victims twice - the first by the unknown person who accessed our account', ' once the CD is renewed', ' which is false.\"', ' is entirely too large to scan and upload. if you want to see what was sent to me', ' and I need for Experian to promptly rectify the matter', ' but this apparently will not work if someone at Transunion keep using the Bankruptcy against me every 30 days not and looking at my payment history or card balances.\"', ' FTC fraud report', ' NOTES', ' including the four attachments', ' I am refinancing and this negative collection is driving down my credit score. It\\'s very unfair that consumers get caught in the loop between collection agencies and vendor errors.\"', ' why are updates taking place during normal business hours impeding customers ability to get answers and access to their credit report. That is insane! They a once of the primary credit reporting companies that are used to impact millions of customers financial knowledge and well being daily. That should be unacceptable!\"', ' and the Bank rejected on the basis that I was not the holder of the account', ' but it only allowed for connection to information on how to do things online', ' XXXX XXXX XXXX - {$550.00} XXXX - {$390.00} Total - {$9100.00} Kindest regards', ' ACRA and FDCPA. And notify me when these inaccurate', ' Chase was receiving calls from a person pretending to be me. Chase should have a record of a person calling in from XXXX around the time these charges occurred and attempting to get information about my account Chase removed the charges on XX/XX/XXXX. Then on XX/XX/XXXX Chase reposted all of the charges to my account. I called Chase and they are insisting that I must have made these charges because my card has a chip reader. I did not make any of these charges', ' Enclosures : Identity Theft Report Proof of identity : FTC Notice XXXXo Furnishers of Information [ PDF\"', \" and I'm not sure what else to do at this point. The notice I got denying my claim was not clear at all\", \" I received XXXX cutesy notification that the promo was expiring or that this would be what would be hitting my account. I recently received ( 1 week ) calls from their call team trying to collect money that now the balance is {$3900.00} within 1 month. I called and tried to talk to multiple supervisors and they told me there's nothing they can do. I offered to pay the remaining balance right away and for an interest charge of the remaining balance. Instead they said there's nothing they can do and I had to pay a 3x of what my outstanding actually is. They had XXXX cooperation and very little customer help. Again\", ' NY XXXX\"', ' in case legal action becomes necessary : The documentation you previously provided does not validate this debt according to Fair Debt Collection Practices', ' causing my to have a late payment and negatively impact my credit score for something that was not my fault. In addition', ' the end result for each of the several telephone numbers that I called REPEATEDLY was a recorded message telling me that Experian could not assist me', ' TX XXXX According to the Fair Credit Reporting Act', ' located on XXXX XXXX', ' funds were debited from my checking account in the amount of {$200.00} for XXXX XXXX. I did not notice this until the following month. Knowing I no longer had an account with XXXX since XX/XX/XXXX2018 and the balance of {$70.00} ( +/- ) was paid off in XX/XX/XXXX 2018', ' and feeling betrayed by Chase', ' I would have taken steps up front to make sure not to miss the renewal date. Not being aware of this consequence', \" you've had : 4 On Time Payments 0 Past due or Delinquent View Full History Contact XXXX XXXX XXXX XXXX XXXX XXXX XXXX XXXX XXXXXXXX XXXX\", ' trying to get confirmation of the offer', ' Your unlock code : XXXX Unlock instructions : 1. Power off the device and remove the SIM card. 2. Power on the device. 3. Enter # XXXX', ' OH XXXX I choose to opt-out of your disclosing future information until further notice including the Ful Report and other furnished XXXX XXXX inquires regarding all personal information.\"', ' I was told by Ditech', ' apparently to settle an unrelated dispute for overcharging RENT PAYMENT FEES ( description on my bank statement ) as a result of my contracted payment of {$500.00} per year per listing to cover all XXXX rent payment fees. I calculate {$7900.00} of overpaid rent payment fees.\"', ' I attempted to call Synchrony to make payment arrangements to make some payment on my account. I had received a letter regarding that my account had been forwarded to a collections agency. On XX/XX/18', ' and a month later it was removed from my report. In XX/XX/XXXX my credit score went up by 88 points because the wrongful collections were finally off my account. Then immediately I received notification by my credit report company of yet another collection by a debt collector in Pennsylvania of {$200.00}', ' I would have qualified for PSLF 9 years ago. Not only would I have saved money a monthly basis', ' since Specialized Loan Servicing believe they had nothing to do with my grievances', ' when my house was foreclosed on', ' according to FCRA 609 ( a ) ( 1 ) ( A )', \" American Express encouraged me to work with their car rental claim department on this ( my rep 's name was XXXX XXXX ). She was unable to receive any documents from the rental car company and continued to escalate internally within American Express. Amex told the claim department that they agreed that it was fraud but could not do a charge back since too much time had passed\", ' XXXX XXXX PS : Attachment 1 tracking # XXXX USPS Attachment 2 Ocwen documents.\"', ' NOT my social security number.\"', ' and then', ' the CSR I spoke with told me I had no complaint recourse other than to lodge an internal complaint with Citibank or the XXXX.\"', ' very wrong!!\"', ' Faxes', \" I called US Bank to inquire about when I would expect the remaining money to be refunded. I was informed by US Bank that the invoice they received was for the full {$1300.00}. I immediately contacted the appraiser and requested the invoice. I have worked in the XXXX XXXX in my area for 20 years and had never heard of a single family appraisal costing {$1300.00}. The appraiser told me that he couldn't give me a copy of the invoice\", ' in each case', ' I do not believe that this account was ever 7 Tims 30 days late ; 5 times', ' unless we specifically take steps to opt out. They told me there is a disclosure given to someone who chooses a combined statement. The wording of the disclosure does not make it clear that data for ALL accounts will be shared with an individual who is a joint account holder on only ONE account. I filed a complaint', ' THEREBY TRIGGERING MORE LATE FEES AND INTEREST. In other words', ' the name was XXXX XXXX\"', ' at worst', ' I asked to view the security camera footage which will prove that I was in the bank and my request was denied again. We were left with no choice', ' GA XXXX American First Finance XXXX\"', ' you refer to my taking out 2 cash advances', ' I navigated back to the search results', ' I went to XXXX and was able to obtain a Certified Title History of this vehicle. I realized then', \" Flagstar 's Escrow Department sent us another closing balance\", ' because I called inquiring about my acct Mr XXXX and Mr XXXX', ' and spoke with XXXX about the fraudulent purchases. She said the only way I could report the fraud was to send a fax. She gave me the fax number', ' and sought to have this corrected', ' and paid it off as soon as I was made aware ( through my own investigation after a significant mark on my credit report ). I have made over a decade of on-time payments to XXXX XXXX  and all other financial institutions with which I have done business. I have worked very hard to get my credit score above 800.\"', ' I went to the 5th/3rd bank at XXXX XXXX XXXX', ' by XXXX XXXX I was told I was paying for XXXX. I had already made payments for XXXX', ' which subjects them to actual and punitive damages', ' you MUST RESPOND to my requests via affidavit', ' I XXXX of XXXX after I emailed again', ' with no order in XX/XX/XXXX', ' Capital One is not allowed to discriminate in its lending. That is a violation of federal law.\"', ' because no-one called me about the credit card payment issue', ' or any reason to justify why they pulled my credit. Multiple call attempts and transfers to different departments have resulted in no resolution.\"', ' harassment', ' I still don\\'t have my refund money.\"', ' some of the documents are addressed to her name XXXX.\"', ' contradictory and unfair credit reporting practices due to various reasons including the prior recent history of glitch in their system ( their XXXX systemwide technology upgrade affecting consumers reported ) see Attachment # 4A and # 4B.\"', ' FICO stated my credit score was only XXXX because : Lack of recent installment loan information XXXX XXXX stated my application was denied because : Lack of recent installment loan information XXXX XXXX \\'s actions do not comply with the law.\"', ' as I am not in the agreement with either individual who may be owed.\"', ' including subrogation claims', \" there should not be any mistakes and violation of federal and state law when it comes to 'complete legal name ' in the bank records and financial transactions. I am also going to file the police complaint and also copy to Michigan XXXX 's office and Federal officer. I have attached first page and highlighted the incorrect information\", ' refuse to pay a late fee over their mistake', ' at around XX/XX/XXXX', ' XXXX XXXX   There are unauthorized Inquiries reporting : XXXX ( 2 Times ) XXXX XXXX ( 4 times ) XXXX XXXX   XXXX XXXX XXXX XXXX ( 9 times ) XXXX XXXX XXXXXXXX XXXX XXXX  ( 2 times ) XXXX  ( 2 times ) XXXX XXXX XXXX XXXX XXXX XXXX XXXX XXXX XXXX  ( 3 times ) XXXX XXXX XXXX ( 2 Times ) XXXX XXXX XXXX XXXX\"', ' XXXX XXXX SOC SEC # XXXX DOB XX/XX/XXXX ADDRESS XXXX XXXX XXXX XXXX XXXX XXXX XXXX XXXX', ' XXXX reminded her it was unlawful to charge money without customer authorization. She apologized and told me that the staff member who conducted the activity is no longer working at the company because of this. She asked me to advise her if I would like the money to be refunded to my GreenSky account. On XXXX XXXX I notified her to refund the {$5000.00} to my GreenSky credit account. She agreed and told me she would pass it on to the accounting department', ' Best Regards', ' I immediately called back and spoke with a different representative. She explained that the code indeed should have been automatically applied and must have failed at some point in the process. She placed a note on my account detailing that this {$200.00} sign on bonus is active until XX/XX/XXXX', ' there is a hold on my account. an account I havent used in 8 months ... ..\"', ' OH XXXX ( XXXX ) XXXX\"', ' I started noticing negative remarks on my credit score reports due to this Discover account. Apparently', ' I certify that I have never opened an account with XXXX', ' I received a XXXX XXXX letter from the law firm for Nationstar in Florida regarding Proposed Relocation Assistance', ' but due to Harvey was cancelled. A horrible disaster was actually a godsend for us. In XXXX we still heard nothing. We received our statements and then notices from their attorneys office in XXXX. We have had to file bankruptcy 4 times to stop the sale. We dont even need to file bankruptcy. We are now onto our 3rd law firm to help. In XXXX after numerous complaints being filed with the FTC', ' then when I did he said I needed to pay today a bill for an HSBC credit card. I told him I\\'d never had an HSBC CC and he started yelling at me telling me \"\" Do you expect that the company is just supposed to believe you since you say it isn\\'t yours? Isn\\'t that your SSN number? \\'\\' When I told him again I had never had an HSBC card he said then that it was bought by XXXX XXXX and I had paid {$48.00} a month back in XX/XX/XXXX. I again told him that I never had an HSBC card and he started yelling saying \"\" We\\'re done here', ' I immediately contacted PayPal', ' but I absolutely never received the letter. Furthermore', ' incorrectly excluding the XXXX suffix from my name', ' ( Federal Trade Commission )', ' hard copy paper is seen felt', ' in almost every department we have encountered', \" XXXX for services that were never provided. The amount owed began after the major storm occured and after the lighting strike the home and burned the unit this was not any amount owed before this time. I'm asking for this to be removed from my credit report because XXXX  and XXXX have removed this from my credit report\", ' I have contacted the collection agency myself and have been unable to get them to verify that this is indeed my debt. I DO NOT HAVE A CONTRACT WITH THEM. They have violated my Hippa rights by obtaining my medial information and billing ignorer to collect a debt that they purchased. They have updated my credit report as a \"\" Paid \\'\\' collections and i have never paid them. I would like for them to prove their claim that I legally owe them money and that funds was paid to Transworld Systems Inc. PROVE IT!\"', ' spent hundreds of hours on call', ' middle name and last name as per my legal documents and there should not be any unnecessary spaces and truncated names', ' have them turn over all recorded phone call conversations with me and have them give the signup bonus I have rightfully earned.\"', ' paid a bill late', ' ( 2 ) the card has not been cancelled or downgraded since the account was opened', ' XXXX . has outsourced their mortgage administration to a company called XXXX XXXX XXXX XXXX ', \" I received mail offering a {$400.00} dollar bonus if I opened a Santander checking account. I'd had some bad experiences with other banks\", ' I reached out to the first company', ' Credit Card Fraud Evidence supplied to Wells Fargo', ' they still didnt get the manner handled properly This was so very simple and could have been avoided. All the original area /representative who received the letter needed to do is realize the letter was meant for another company ( private ) and not meant for XXXX XXXX XXXX . Instead', ' PA XXXX XXXX Spoke with XXXX XXXX I spoke with Tranworld approx. 7-8 times to resolve this.\"', \" and I said that couldn't be right\", ' and asked for me to provide a rental agreement or documentation. When I informed him that there is no agreement', ' they are putting $ XXXX/month service charge ( statement attached ) to my account that I didnt give consent to open', ' very threatening.\"', ' CA XXXX ( XXXX ) XXXX Account 2 Listed on XXXX  Credit report Opened XX/XX/2017 Original Creditor Name XXXX XXXX XXXX XXXX XXXX XXXX NCC Business Services\"', ' the Mortgagee may forward a subordination request to : U.S. Department of Housing and Urban Development Home Improvement Branch XXXX XXXX XXXX', ' the payee I issued the check to tried to deposit it electronically. B of A declined the 2nd withdrawal attempt and sent a legal copy of the check to him saying', ' immediate refusal of offering a prestated settlement in lieu of me asking informative questions', ' and have not heard from them to this date. The company is showing in my credit report and is unable to provide written documentation i have requested to me.\"', ' IL XXXX ) and I bought a couple of items in the amount of {$280.00}. The next day I did not want one of my items and wanted to return it ( the total cost of an item was {$190.00} ) but the store declined my item because the item was missing a security tag but they were the ones who took it of when I left the store', ' but I was TRYING to pay my bill and was being told each month that everything was set to work and go through', \" I was handed over to XXXX ( Employee ID : XXXX ) who identified herself as the sole person in charge of making the determination on this account reopen. She said that she couldn't. I asked why. She said it was because I didn't contact them after receiving the letter. But I did. And she shows I contacted them on XX/XX/XXXX online to update my addresses. She then claimed that it wasn't good enough\", ' they suggested to change a water-heater that was not supposed to be replaced. According to WELLS FARGO and VISA customer agreement', ' but they have continued to refuse to resolve the matter.\"', ' I am in the hole with payments', ' but I would like you to pursue shutting them down and putting them out of business. A company that operates through illegal means shouldn\\'t be allowed to continue to victimize people and destroy them financially.\"', ' but no verification of debt was provided to me. They simply returned a finding of valid debt to my credit report.\"', \" they informed me that they sold my loans because I had not made the {$100.00} dollar payment since XXXX months.When I inquired why it hadn't been automatically deducted\", ' they panicked and started claiming that they had asked me and I had confirmed it. I called again and asked to talk to a supervisor', ' but I do know that much. I also know that once that XXXX is issued', ' was not told that by anyone at DEBT HELP INC', ' as I am writing to you', ' feel free to call me at ( XXXX ) - XXXX XXXX\"'] in column 0 during transform",
          "traceback": [
            "\u001b[0;31m---------------------------------------------------------------------------\u001b[0m",
            "\u001b[0;31mValueError\u001b[0m                                Traceback (most recent call last)",
            "\u001b[0;32m<ipython-input-49-941d63719619>\u001b[0m in \u001b[0;36m<cell line: 4>\u001b[0;34m()\u001b[0m\n\u001b[1;32m      2\u001b[0m \u001b[0mone_hot_encoder\u001b[0m \u001b[0;34m=\u001b[0m \u001b[0mOneHotEncoder\u001b[0m\u001b[0;34m(\u001b[0m\u001b[0msparse_output\u001b[0m\u001b[0;34m=\u001b[0m\u001b[0;32mFalse\u001b[0m\u001b[0;34m)\u001b[0m\u001b[0;34m\u001b[0m\u001b[0;34m\u001b[0m\u001b[0m\n\u001b[1;32m      3\u001b[0m \u001b[0mtrain_labels_one_hot\u001b[0m \u001b[0;34m=\u001b[0m \u001b[0mone_hot_encoder\u001b[0m\u001b[0;34m.\u001b[0m\u001b[0mfit_transform\u001b[0m\u001b[0;34m(\u001b[0m\u001b[0mtrain\u001b[0m\u001b[0;34m[\u001b[0m\u001b[0;34m\"Product\"\u001b[0m\u001b[0;34m]\u001b[0m\u001b[0;34m.\u001b[0m\u001b[0mto_numpy\u001b[0m\u001b[0;34m(\u001b[0m\u001b[0;34m)\u001b[0m\u001b[0;34m.\u001b[0m\u001b[0mreshape\u001b[0m\u001b[0;34m(\u001b[0m\u001b[0;34m-\u001b[0m\u001b[0;36m1\u001b[0m\u001b[0;34m,\u001b[0m \u001b[0;36m1\u001b[0m\u001b[0;34m)\u001b[0m\u001b[0;34m)\u001b[0m\u001b[0;34m\u001b[0m\u001b[0;34m\u001b[0m\u001b[0m\n\u001b[0;32m----> 4\u001b[0;31m \u001b[0mtest_labels_one_hot\u001b[0m \u001b[0;34m=\u001b[0m \u001b[0mone_hot_encoder\u001b[0m\u001b[0;34m.\u001b[0m\u001b[0mtransform\u001b[0m\u001b[0;34m(\u001b[0m\u001b[0mtest\u001b[0m\u001b[0;34m[\u001b[0m\u001b[0;34m\"Product\"\u001b[0m\u001b[0;34m]\u001b[0m\u001b[0;34m.\u001b[0m\u001b[0mto_numpy\u001b[0m\u001b[0;34m(\u001b[0m\u001b[0;34m)\u001b[0m\u001b[0;34m.\u001b[0m\u001b[0mreshape\u001b[0m\u001b[0;34m(\u001b[0m\u001b[0;34m-\u001b[0m\u001b[0;36m1\u001b[0m\u001b[0;34m,\u001b[0m \u001b[0;36m1\u001b[0m\u001b[0;34m)\u001b[0m\u001b[0;34m)\u001b[0m\u001b[0;34m\u001b[0m\u001b[0;34m\u001b[0m\u001b[0m\n\u001b[0m",
            "\u001b[0;32m/usr/local/lib/python3.10/dist-packages/sklearn/utils/_set_output.py\u001b[0m in \u001b[0;36mwrapped\u001b[0;34m(self, X, *args, **kwargs)\u001b[0m\n\u001b[1;32m    138\u001b[0m     \u001b[0;34m@\u001b[0m\u001b[0mwraps\u001b[0m\u001b[0;34m(\u001b[0m\u001b[0mf\u001b[0m\u001b[0;34m)\u001b[0m\u001b[0;34m\u001b[0m\u001b[0;34m\u001b[0m\u001b[0m\n\u001b[1;32m    139\u001b[0m     \u001b[0;32mdef\u001b[0m \u001b[0mwrapped\u001b[0m\u001b[0;34m(\u001b[0m\u001b[0mself\u001b[0m\u001b[0;34m,\u001b[0m \u001b[0mX\u001b[0m\u001b[0;34m,\u001b[0m \u001b[0;34m*\u001b[0m\u001b[0margs\u001b[0m\u001b[0;34m,\u001b[0m \u001b[0;34m**\u001b[0m\u001b[0mkwargs\u001b[0m\u001b[0;34m)\u001b[0m\u001b[0;34m:\u001b[0m\u001b[0;34m\u001b[0m\u001b[0;34m\u001b[0m\u001b[0m\n\u001b[0;32m--> 140\u001b[0;31m         \u001b[0mdata_to_wrap\u001b[0m \u001b[0;34m=\u001b[0m \u001b[0mf\u001b[0m\u001b[0;34m(\u001b[0m\u001b[0mself\u001b[0m\u001b[0;34m,\u001b[0m \u001b[0mX\u001b[0m\u001b[0;34m,\u001b[0m \u001b[0;34m*\u001b[0m\u001b[0margs\u001b[0m\u001b[0;34m,\u001b[0m \u001b[0;34m**\u001b[0m\u001b[0mkwargs\u001b[0m\u001b[0;34m)\u001b[0m\u001b[0;34m\u001b[0m\u001b[0;34m\u001b[0m\u001b[0m\n\u001b[0m\u001b[1;32m    141\u001b[0m         \u001b[0;32mif\u001b[0m \u001b[0misinstance\u001b[0m\u001b[0;34m(\u001b[0m\u001b[0mdata_to_wrap\u001b[0m\u001b[0;34m,\u001b[0m \u001b[0mtuple\u001b[0m\u001b[0;34m)\u001b[0m\u001b[0;34m:\u001b[0m\u001b[0;34m\u001b[0m\u001b[0;34m\u001b[0m\u001b[0m\n\u001b[1;32m    142\u001b[0m             \u001b[0;31m# only wrap the first output for cross decomposition\u001b[0m\u001b[0;34m\u001b[0m\u001b[0;34m\u001b[0m\u001b[0m\n",
            "\u001b[0;32m/usr/local/lib/python3.10/dist-packages/sklearn/preprocessing/_encoders.py\u001b[0m in \u001b[0;36mtransform\u001b[0;34m(self, X)\u001b[0m\n\u001b[1;32m    915\u001b[0m             \u001b[0;34m\"infrequent_if_exist\"\u001b[0m\u001b[0;34m,\u001b[0m\u001b[0;34m\u001b[0m\u001b[0;34m\u001b[0m\u001b[0m\n\u001b[1;32m    916\u001b[0m         }\n\u001b[0;32m--> 917\u001b[0;31m         X_int, X_mask = self._transform(\n\u001b[0m\u001b[1;32m    918\u001b[0m             \u001b[0mX\u001b[0m\u001b[0;34m,\u001b[0m\u001b[0;34m\u001b[0m\u001b[0;34m\u001b[0m\u001b[0m\n\u001b[1;32m    919\u001b[0m             \u001b[0mhandle_unknown\u001b[0m\u001b[0;34m=\u001b[0m\u001b[0mself\u001b[0m\u001b[0;34m.\u001b[0m\u001b[0mhandle_unknown\u001b[0m\u001b[0;34m,\u001b[0m\u001b[0;34m\u001b[0m\u001b[0;34m\u001b[0m\u001b[0m\n",
            "\u001b[0;32m/usr/local/lib/python3.10/dist-packages/sklearn/preprocessing/_encoders.py\u001b[0m in \u001b[0;36m_transform\u001b[0;34m(self, X, handle_unknown, force_all_finite, warn_on_unknown)\u001b[0m\n\u001b[1;32m    172\u001b[0m                         \u001b[0;34m\" during transform\"\u001b[0m\u001b[0;34m.\u001b[0m\u001b[0mformat\u001b[0m\u001b[0;34m(\u001b[0m\u001b[0mdiff\u001b[0m\u001b[0;34m,\u001b[0m \u001b[0mi\u001b[0m\u001b[0;34m)\u001b[0m\u001b[0;34m\u001b[0m\u001b[0;34m\u001b[0m\u001b[0m\n\u001b[1;32m    173\u001b[0m                     )\n\u001b[0;32m--> 174\u001b[0;31m                     \u001b[0;32mraise\u001b[0m \u001b[0mValueError\u001b[0m\u001b[0;34m(\u001b[0m\u001b[0mmsg\u001b[0m\u001b[0;34m)\u001b[0m\u001b[0;34m\u001b[0m\u001b[0;34m\u001b[0m\u001b[0m\n\u001b[0m\u001b[1;32m    175\u001b[0m                 \u001b[0;32melse\u001b[0m\u001b[0;34m:\u001b[0m\u001b[0;34m\u001b[0m\u001b[0;34m\u001b[0m\u001b[0m\n\u001b[1;32m    176\u001b[0m                     \u001b[0;32mif\u001b[0m \u001b[0mwarn_on_unknown\u001b[0m\u001b[0;34m:\u001b[0m\u001b[0;34m\u001b[0m\u001b[0;34m\u001b[0m\u001b[0m\n",
            "\u001b[0;31mValueError\u001b[0m: Found unknown categories [' I realized that my XXXX-brand washing machine was no longer draining properly', ' Mr XXXX', ' XXXX XXXX and XXXX XXXX XXXX both continue to report these accounts negatively. The negative reporting is driving my credit score down and I need the information to be updated with the CRAs to reflect that these disputes have been settled and paid in full.\"', ' but that he would send it to the dealership directly so they could contact me. No one from the dealership ever reached out for resolution.\"', ' you charge a significant fee for anyone to make a payment online or by phone', ' Georgia law ( Official Code of Georgia', ' this shipment came in TWO packages on different days. I was not home so XXXX dropped both shipments off at my doorstep ( 2 consecutive days ). I never opened them', ' then cancelled the ( 2 ) online \"\" classes. \\'\\' There were NO \"\" classes \\'\\' it was a total scam. There was NOTHING of value provided to me at all or in anyway', ' which warning that it was really 6 months minus one day.\"', ' PA XXXX XXXX\"', ' if i weren\\'t dirt poor then I guess they might care. They took a month to reissue me a replacement card ; two weeks later i finally got paperwork which i returned on the same day. On the last hour of tje tenth business day they denied my disputes on both occasions Something needs to be done.\"', ' dated 1XX/XX/XXXX2018 was received on XX/XX/XXXX2018 stating the dispute was closed. I called in the next busi..."
          ]
        }
      ]
    },
    {
      "cell_type": "code",
      "source": [
        "train_sentences = train[\"Consumer complaint narrative\"].tolist()\n",
        "test_sentences = test[\"Consumer complaint narrative\"].tolist()"
      ],
      "metadata": {
        "id": "JkPvAB2h2fqd"
      },
      "execution_count": null,
      "outputs": []
    },
    {
      "cell_type": "code",
      "source": [
        "from tensorflow.keras.layers import TextVectorization\n",
        "\n",
        "# Before TensorFlow 2.6\n",
        "# from tensorflow.keras.layers.experimental.preprocessing import TextVectorization\n",
        "\n",
        "text_vectorizer = TextVectorization(max_tokens=50000, # number of words in vocabulary\n",
        "                                    output_sequence_length=55) # desired output length of vectorized sequences"
      ],
      "metadata": {
        "id": "7Z3oU3c72TJg"
      },
      "execution_count": null,
      "outputs": []
    },
    {
      "cell_type": "code",
      "source": [
        "# Create token embedding layer\n",
        "import tensorflow as tf\n",
        "token_embed = tf.keras.layers.Embedding(input_dim=20000, # length of vocabulary\n",
        "                               output_dim=128, # Note: different embedding sizes result in drastically different numbers of parameters to train\n",
        "                               # Use masking to handle variable sequence lengths (save space)\n",
        "                               mask_zero=True,\n",
        "                               name=\"token_embedding\")"
      ],
      "metadata": {
        "id": "Le31fI_228sA"
      },
      "execution_count": null,
      "outputs": []
    },
    {
      "cell_type": "code",
      "source": [
        "train_dataset = tf.data.Dataset.from_tensor_slices((train_sentences, train_labels_one_hot))\n",
        "test_dataset = tf.data.Dataset.from_tensor_slices((test_sentences, test_labels_one_hot))"
      ],
      "metadata": {
        "id": "1LxpD5nD3XGk"
      },
      "execution_count": null,
      "outputs": []
    },
    {
      "cell_type": "code",
      "source": [
        "# Create 1D convolutional model to process sequences\n",
        "inputs = layers.Input(shape=(1,), dtype=tf.string)\n",
        "text_vectors = text_vectorizer(inputs) # vectorize text inputs\n",
        "token_embeddings = token_embed(text_vectors) # create embedding\n",
        "x = layers.Conv1D(64, kernel_size=5, padding=\"same\", activation=\"relu\")(token_embeddings)\n",
        "x = layers.GlobalAveragePooling1D()(x) # condense the output of our feature vector\n",
        "outputs = layers.Dense(num_classes, activation=\"softmax\")(x)\n",
        "model_1 = tf.keras.Model(inputs, outputs)\n",
        "\n",
        "# Compile\n",
        "model_1.compile(loss=\"categorical_crossentropy\", # if your labels are integer form (not one hot) use sparse_categorical_crossentropy\n",
        "                optimizer=tf.keras.optimizers.Adam(),\n",
        "                metrics=[\"accuracy\"])"
      ],
      "metadata": {
        "id": "acSHinD_3eJj"
      },
      "execution_count": null,
      "outputs": []
    },
    {
      "cell_type": "code",
      "source": [
        "model_1_history = model_1.fit(train_dataset,\n",
        "                              steps_per_epoch=int(0.1 * len(train_dataset)), # only fit on 10% of batches for faster training time\n",
        "                              epochs=3,\n",
        "                              validation_data=test_dataset,\n",
        "                              validation_steps=int(0.1 * len(test_dataset))) # only validate on 10% of batches"
      ],
      "metadata": {
        "id": "v2Q6CqBD3i6S"
      },
      "execution_count": null,
      "outputs": []
    },
    {
      "cell_type": "markdown",
      "source": [
        "**❏ Treinar LSTMs em texto existente para gerar texto (como músicas e poesias)**"
      ],
      "metadata": {
        "id": "sgVBpnWLKxZj"
      }
    },
    {
      "cell_type": "markdown",
      "source": [
        "https://www.tensorflow.org/text/tutorials/text_generation?hl=pt-br"
      ],
      "metadata": {
        "id": "ViegMrZ14AoN"
      }
    }
  ]
}
{
  "nbformat": 4,
  "nbformat_minor": 0,
  "metadata": {
    "colab": {
      "provenance": [],
      "gpuType": "A100"
    },
    "kernelspec": {
      "name": "python3",
      "display_name": "Python 3"
    },
    "language_info": {
      "name": "python"
    },
    "accelerator": "GPU"
  },
  "cells": [
    {
      "cell_type": "markdown",
      "source": [
        "# Introdução"
      ],
      "metadata": {
        "id": "BVZ6uns1yR3V"
      }
    },
    {
      "cell_type": "markdown",
      "source": [
        "Este notebook foi feito por Gabriel Matz visando o estudo dirigido para a prova de certificação oficial para o Tensorflow. A descrição da prova está no seguinte link:\n",
        "https://www.tensorflow.org/certificate?hl=pt-br.\n",
        "\n",
        "Utilizei como base os seguintes notebooks(além de sites variados e stack overflow para pequenas consultas):\n",
        "\n",
        "1- https://github.com/mrdbourke/tensorflow-deep-learning\n",
        "\n",
        "2-https://github.com/williamcwi/DeepLearning.AI-TensorFlow-Developer-Professional-Certificate"
      ],
      "metadata": {
        "id": "fkoP8fIRybRc"
      }
    },
    {
      "cell_type": "markdown",
      "source": [
        "O conteúdo deste primeiro notebook engloba a primeira parte de exigências da prova do Tensorflow, que estão descritas abaixo:\n",
        "\n",
        "\"\n",
        "(1) Habilidades de Desenvolvedor TensorFlow\n",
        "\n",
        "Você precisa demonstrar que entende como desenvolver programas de software usando TensorFlow e que consegue encontrar as informações necessárias para trabalhar como um profissional de aprendizado de máquina. Você precisa:\n",
        "\n",
        "❏ Saber programar em Python, resolver problemas em Python e compilar e executar programas Python no PyCharm.\n",
        "\n",
        "❏ Saber como encontrar informações sobre as APIs do TensorFlow, incluindo como encontrar guias e referências de API em tensorflow.org.\n",
        "\n",
        "❏ Saber como depurar, investigar e resolver mensagens de erro provenientes da API do TensorFlow.\n",
        "\n",
        "❏ Saber como procurar além do tensorflow.org, quando necessário, para resolver suas dúvidas sobre o TensorFlow.\n",
        "\n",
        "❏ Saber como criar modelos de aprendizado de máquina usando TensorFlow, onde o tamanho do modelo seja razoável para o problema sendo resolvido.\n",
        "\n",
        "❏ Saber como salvar modelos de aprendizado de máquina e verificar o tamanho do arquivo do modelo.\n",
        "\n",
        "❏ Entender as discrepâncias de compatibilidade entre diferentes versões do TensorFlow.\""
      ],
      "metadata": {
        "id": "cJ6_E6C6y8eX"
      }
    },
    {
      "cell_type": "markdown",
      "source": [
        "# Desenvolvimento"
      ],
      "metadata": {
        "id": "VIx1u53U0Me6"
      }
    },
    {
      "cell_type": "code",
      "source": [
        "import tensorflow as tf\n",
        "\n",
        "print(tf.__version__)"
      ],
      "metadata": {
        "colab": {
          "base_uri": "https://localhost:8080/"
        },
        "id": "s4G2MLp35_tX",
        "outputId": "bbbb05b6-558b-4d43-b226-b7e99752e547"
      },
      "execution_count": null,
      "outputs": [
        {
          "output_type": "stream",
          "name": "stdout",
          "text": [
            "2.15.0\n"
          ]
        }
      ]
    },
    {
      "cell_type": "markdown",
      "source": [
        "**\"❏ Saber programar em Python, resolver problemas em Python e compilar e executar programas Python no PyCharm.\"**\n",
        "\n",
        "Para realizar a prova é necessário a IDE do Pycharm.\n",
        "\n",
        "Link download: https://www.jetbrains.com/pycharm/download/?section=windows"
      ],
      "metadata": {
        "id": "CKhZGPOU1TFg"
      }
    },
    {
      "cell_type": "markdown",
      "source": [
        "**\"❏ Saber como encontrar informações sobre as APIs do TensorFlow, incluindo como encontrar guias e referências de API em tensorflow.org.\"**"
      ],
      "metadata": {
        "id": "gvKOiXY-1K4I"
      }
    },
    {
      "cell_type": "markdown",
      "source": [
        "https://www.tensorflow.org/api_docs/python/\n",
        "\n",
        "Lista todas as funções e bibliotecas que podem ser úteis"
      ],
      "metadata": {
        "id": "YeTkYHk61m1b"
      }
    },
    {
      "cell_type": "markdown",
      "source": [
        "**\"❏ Saber como depurar, investigar e resolver mensagens de erro provenientes da API do TensorFlow.\"**"
      ],
      "metadata": {
        "id": "0U_4SsF32ZRK"
      }
    },
    {
      "cell_type": "markdown",
      "source": [
        "O Tensorflow oferece diversas ferramentas de debugging, cito aqui as 2 que achei mais úteis:"
      ],
      "metadata": {
        "id": "7ZQS8aJA2raB"
      }
    },
    {
      "cell_type": "markdown",
      "source": [
        "1- tf.print"
      ],
      "metadata": {
        "id": "z3Opyam26MoT"
      }
    },
    {
      "cell_type": "markdown",
      "source": [
        "O argumento output_stream indica para onde será enviado a mensagem, como stdout,stderr, algum arquivo..."
      ],
      "metadata": {
        "id": "18iEyd_y7EE0"
      }
    },
    {
      "cell_type": "code",
      "source": [
        "import sys\n",
        "@tf.function\n",
        "def f():\n",
        "    tensor = tf.range(10)\n",
        "    tf.print(tensor,\n",
        "             output_stream=sys.stdout)\n",
        "    return tensor\n",
        "\n",
        "range_tensor = f()"
      ],
      "metadata": {
        "id": "CJAqOBgl2ScE",
        "colab": {
          "base_uri": "https://localhost:8080/"
        },
        "outputId": "7c0b1504-5886-4531-9e7d-2fe2eafa3e72"
      },
      "execution_count": null,
      "outputs": [
        {
          "output_type": "stream",
          "name": "stdout",
          "text": [
            "[0 1 2 ... 7 8 9]\n"
          ]
        }
      ]
    },
    {
      "cell_type": "markdown",
      "source": [
        "2- tf.debugging"
      ],
      "metadata": {
        "id": "voL1N3e77N4R"
      }
    },
    {
      "cell_type": "markdown",
      "source": [
        "Contém uma série de funções úteis para debugging simples.\n",
        "\n",
        " https://www.tensorflow.org/api_docs/python/tf/debugging"
      ],
      "metadata": {
        "id": "giWfT9FO9CTG"
      }
    },
    {
      "cell_type": "code",
      "source": [
        "# Exemplo\n",
        "def check_size(x):\n",
        "  with tf.control_dependencies([\n",
        "      tf.debugging.assert_equal(tf.size(x), 3,\n",
        "                      message='Bad tensor size')]):\n",
        "    return x\n",
        "check_size(tf.ones([2, 3], tf.float32))"
      ],
      "metadata": {
        "colab": {
          "base_uri": "https://localhost:8080/",
          "height": 445
        },
        "id": "Ul6B8rN07RVY",
        "outputId": "940ce776-2f8f-4c58-d169-a70dfedcb2ca"
      },
      "execution_count": null,
      "outputs": [
        {
          "output_type": "error",
          "ename": "InvalidArgumentError",
          "evalue": "Bad tensor size\nCondition x == y did not hold.\nFirst 1 elements of x:\n[6]\nFirst 1 elements of y:\n[3]",
          "traceback": [
            "\u001b[0;31m---------------------------------------------------------------------------\u001b[0m",
            "\u001b[0;31mInvalidArgumentError\u001b[0m                      Traceback (most recent call last)",
            "\u001b[0;32m<ipython-input-3-e75b81188d17>\u001b[0m in \u001b[0;36m<cell line: 7>\u001b[0;34m()\u001b[0m\n\u001b[1;32m      5\u001b[0m                       message='Bad tensor size')]):\n\u001b[1;32m      6\u001b[0m     \u001b[0;32mreturn\u001b[0m \u001b[0mx\u001b[0m\u001b[0;34m\u001b[0m\u001b[0;34m\u001b[0m\u001b[0m\n\u001b[0;32m----> 7\u001b[0;31m \u001b[0mcheck_size\u001b[0m\u001b[0;34m(\u001b[0m\u001b[0mtf\u001b[0m\u001b[0;34m.\u001b[0m\u001b[0mones\u001b[0m\u001b[0;34m(\u001b[0m\u001b[0;34m[\u001b[0m\u001b[0;36m2\u001b[0m\u001b[0;34m,\u001b[0m \u001b[0;36m3\u001b[0m\u001b[0;34m]\u001b[0m\u001b[0;34m,\u001b[0m \u001b[0mtf\u001b[0m\u001b[0;34m.\u001b[0m\u001b[0mfloat32\u001b[0m\u001b[0;34m)\u001b[0m\u001b[0;34m)\u001b[0m\u001b[0;34m\u001b[0m\u001b[0;34m\u001b[0m\u001b[0m\n\u001b[0m",
            "\u001b[0;32m<ipython-input-3-e75b81188d17>\u001b[0m in \u001b[0;36mcheck_size\u001b[0;34m(x)\u001b[0m\n\u001b[1;32m      2\u001b[0m \u001b[0;32mdef\u001b[0m \u001b[0mcheck_size\u001b[0m\u001b[0;34m(\u001b[0m\u001b[0mx\u001b[0m\u001b[0;34m)\u001b[0m\u001b[0;34m:\u001b[0m\u001b[0;34m\u001b[0m\u001b[0;34m\u001b[0m\u001b[0m\n\u001b[1;32m      3\u001b[0m   with tf.control_dependencies([\n\u001b[0;32m----> 4\u001b[0;31m       tf.debugging.assert_equal(tf.size(x), 3,\n\u001b[0m\u001b[1;32m      5\u001b[0m                       message='Bad tensor size')]):\n\u001b[1;32m      6\u001b[0m     \u001b[0;32mreturn\u001b[0m \u001b[0mx\u001b[0m\u001b[0;34m\u001b[0m\u001b[0;34m\u001b[0m\u001b[0m\n",
            "\u001b[0;32m/usr/local/lib/python3.10/dist-packages/tensorflow/python/util/traceback_utils.py\u001b[0m in \u001b[0;36merror_handler\u001b[0;34m(*args, **kwargs)\u001b[0m\n\u001b[1;32m    151\u001b[0m     \u001b[0;32mexcept\u001b[0m \u001b[0mException\u001b[0m \u001b[0;32mas\u001b[0m \u001b[0me\u001b[0m\u001b[0;34m:\u001b[0m\u001b[0;34m\u001b[0m\u001b[0;34m\u001b[0m\u001b[0m\n\u001b[1;32m    152\u001b[0m       \u001b[0mfiltered_tb\u001b[0m \u001b[0;34m=\u001b[0m \u001b[0m_process_traceback_frames\u001b[0m\u001b[0;34m(\u001b[0m\u001b[0me\u001b[0m\u001b[0;34m.\u001b[0m\u001b[0m__traceback__\u001b[0m\u001b[0;34m)\u001b[0m\u001b[0;34m\u001b[0m\u001b[0;34m\u001b[0m\u001b[0m\n\u001b[0;32m--> 153\u001b[0;31m       \u001b[0;32mraise\u001b[0m \u001b[0me\u001b[0m\u001b[0;34m.\u001b[0m\u001b[0mwith_traceback\u001b[0m\u001b[0;34m(\u001b[0m\u001b[0mfiltered_tb\u001b[0m\u001b[0;34m)\u001b[0m \u001b[0;32mfrom\u001b[0m \u001b[0;32mNone\u001b[0m\u001b[0;34m\u001b[0m\u001b[0;34m\u001b[0m\u001b[0m\n\u001b[0m\u001b[1;32m    154\u001b[0m     \u001b[0;32mfinally\u001b[0m\u001b[0;34m:\u001b[0m\u001b[0;34m\u001b[0m\u001b[0;34m\u001b[0m\u001b[0m\n\u001b[1;32m    155\u001b[0m       \u001b[0;32mdel\u001b[0m \u001b[0mfiltered_tb\u001b[0m\u001b[0;34m\u001b[0m\u001b[0;34m\u001b[0m\u001b[0m\n",
            "\u001b[0;32m/usr/local/lib/python3.10/dist-packages/tensorflow/python/ops/check_ops.py\u001b[0m in \u001b[0;36m_binary_assert\u001b[0;34m(sym, opname, op_func, static_func, x, y, data, summarize, message, name)\u001b[0m\n\u001b[1;32m    486\u001b[0m         \u001b[0mdata\u001b[0m \u001b[0;34m=\u001b[0m \u001b[0;34m[\u001b[0m\u001b[0mmessage\u001b[0m\u001b[0;34m]\u001b[0m \u001b[0;34m+\u001b[0m \u001b[0mlist\u001b[0m\u001b[0;34m(\u001b[0m\u001b[0mdata\u001b[0m\u001b[0;34m)\u001b[0m\u001b[0;34m\u001b[0m\u001b[0;34m\u001b[0m\u001b[0m\n\u001b[1;32m    487\u001b[0m \u001b[0;34m\u001b[0m\u001b[0m\n\u001b[0;32m--> 488\u001b[0;31m       raise errors.InvalidArgumentError(\n\u001b[0m\u001b[1;32m    489\u001b[0m           \u001b[0mnode_def\u001b[0m\u001b[0;34m=\u001b[0m\u001b[0;32mNone\u001b[0m\u001b[0;34m,\u001b[0m\u001b[0;34m\u001b[0m\u001b[0;34m\u001b[0m\u001b[0m\n\u001b[1;32m    490\u001b[0m           \u001b[0mop\u001b[0m\u001b[0;34m=\u001b[0m\u001b[0;32mNone\u001b[0m\u001b[0;34m,\u001b[0m\u001b[0;34m\u001b[0m\u001b[0;34m\u001b[0m\u001b[0m\n",
            "\u001b[0;31mInvalidArgumentError\u001b[0m: Bad tensor size\nCondition x == y did not hold.\nFirst 1 elements of x:\n[6]\nFirst 1 elements of y:\n[3]"
          ]
        }
      ]
    },
    {
      "cell_type": "markdown",
      "source": [
        "**\"❏ Saber como procurar além do tensorflow.org, quando necessário, para resolver suas dúvidas sobre o TensorFlow.\"**"
      ],
      "metadata": {
        "id": "camdA3rx_FnQ"
      }
    },
    {
      "cell_type": "markdown",
      "source": [
        "Links úteis para dúvidas:\n",
        "\n",
        "1- Comunidade do tensorflow: https://www.tensorflow.org/community?hl=pt-br\n",
        "\n",
        "2- Stack overflow: https://stackoverflow.com/\n",
        "\n",
        "3- Git do Tensorflow: https://github.com/tensorflow/tensorflow"
      ],
      "metadata": {
        "id": "GRQWVtMu_4kx"
      }
    },
    {
      "cell_type": "markdown",
      "source": [
        "\n",
        "**\"❏ Saber como criar modelos de aprendizado de máquina usando TensorFlow, onde o tamanho do modelo seja razoável para o problema sendo resolvido.\"**\n"
      ],
      "metadata": {
        "id": "6xoLKqJ8_e3l"
      }
    },
    {
      "cell_type": "markdown",
      "source": [
        "Será tratado nos próximos notebooks."
      ],
      "metadata": {
        "id": "7WxLHpPwAyFw"
      }
    },
    {
      "cell_type": "markdown",
      "source": [
        "**\"❏ Saber como salvar modelos de aprendizado de máquina e verificar o tamanho do arquivo do modelo.\"**"
      ],
      "metadata": {
        "id": "ccrVLlyH_ubM"
      }
    },
    {
      "cell_type": "markdown",
      "source": [
        "Existem 3 formas de salvar modelos com o tensorflow, exemplos práticos ficarão para os próximos notebooks.\n",
        "\n",
        "https://www.tensorflow.org/tutorials/keras/save_and_load?hl=pt-br"
      ],
      "metadata": {
        "id": "d4GW-KeCBTaw"
      }
    },
    {
      "cell_type": "markdown",
      "source": [
        "1- .save\n",
        "\n",
        "Gera uma cópia na forma SavedModel. Para entender melhor as vantagens e desvantagens:\n",
        "\n",
        "https://www.tensorflow.org/guide/saved_model?hl=pt-br\n",
        "\n",
        "É um formato único ao Tensorflow, portanto não compatível com outros frameworks."
      ],
      "metadata": {
        "id": "-klk9zjXBbYZ"
      }
    },
    {
      "cell_type": "markdown",
      "source": [
        "2- .hdf5\n",
        "\n",
        "Forma padronizada de salvar grandes quantidades de dados, compatível com outros frameworks"
      ],
      "metadata": {
        "id": "V9QcEVq_BtM1"
      }
    },
    {
      "cell_type": "markdown",
      "source": [
        "3- Salvar só os pesos\n",
        "Será tratado nos próximos notebooks."
      ],
      "metadata": {
        "id": "y6jaT8VPDyTc"
      }
    },
    {
      "cell_type": "markdown",
      "source": [
        "\n",
        "**\"❏ Entender as discrepâncias de compatibilidade entre diferentes versões do TensorFlow.\"**"
      ],
      "metadata": {
        "id": "ejMHu2V0_x_p"
      }
    },
    {
      "cell_type": "markdown",
      "source": [
        "O Tensorflow passou por muitas mudanças durante os últimos 5 anos, então é muito comum encontrar códigos de 2/3 anos atrás que não funcionam mais. Busque sempre referências de 2022 pra frente.\n",
        "\n",
        "Para mais informações leia a API."
      ],
      "metadata": {
        "id": "Hd39HjqWET5y"
      }
    },
    {
      "cell_type": "markdown",
      "source": [
        "**Extra: TensorFlowPlaygroung**"
      ],
      "metadata": {
        "id": "Bv1zXfCA24Sx"
      }
    },
    {
      "cell_type": "markdown",
      "source": [
        "https://playground.tensorflow.org/\n",
        "\n",
        "Excelente ferramenta para quem está começando a aprender redes neurais."
      ],
      "metadata": {
        "id": "3c5EEDcM254n"
      }
    },
    {
      "cell_type": "markdown",
      "source": [
        "# Trabalhando com tensores e matrizes\n",
        "\n"
      ],
      "metadata": {
        "id": "94-zg6UUF-DZ"
      }
    },
    {
      "cell_type": "markdown",
      "source": [
        "Utilizar tensores com o tensorflow oferece uma vantagem quando comparado com o numpy: a capacidade de utilizar GPUs. Os dois frameworks trabalham bem juntos, tendo diversas funções a mesma sintaxe. Nesta seção irei listar as funções mais importantes.\n"
      ],
      "metadata": {
        "id": "OSWJ54fEHJw1"
      }
    },
    {
      "cell_type": "code",
      "source": [
        "import numpy as np"
      ],
      "metadata": {
        "id": "pX0sfzO2NWCN"
      },
      "execution_count": null,
      "outputs": []
    },
    {
      "cell_type": "markdown",
      "source": [
        "**Tensores constantes**\n",
        "\n",
        "Como o próprio nome diz, seus valores são imutáveis."
      ],
      "metadata": {
        "id": "BM-KZC53Ikcv"
      }
    },
    {
      "cell_type": "code",
      "source": [
        "# Matriz simples com tf.constant\n",
        "matriz = tf.constant([[7., 0.],\n",
        "                      [1., 10.]])\n",
        "matriz"
      ],
      "metadata": {
        "colab": {
          "base_uri": "https://localhost:8080/"
        },
        "id": "w3bpt9lnHPxN",
        "outputId": "a494b0d0-5ae0-4f7f-b409-d260dc17d0a4"
      },
      "execution_count": null,
      "outputs": [
        {
          "output_type": "execute_result",
          "data": {
            "text/plain": [
              "<tf.Tensor: shape=(2, 2), dtype=float32, numpy=\n",
              "array([[ 7.,  0.],\n",
              "       [ 1., 10.]], dtype=float32)>"
            ]
          },
          "metadata": {},
          "execution_count": 7
        }
      ]
    },
    {
      "cell_type": "code",
      "source": [
        "# Verificar dimensões\n",
        "matriz.ndim"
      ],
      "metadata": {
        "colab": {
          "base_uri": "https://localhost:8080/"
        },
        "id": "opUsgK1NH5Be",
        "outputId": "0336635c-9d45-4c17-8647-18a565d95a42"
      },
      "execution_count": null,
      "outputs": [
        {
          "output_type": "execute_result",
          "data": {
            "text/plain": [
              "2"
            ]
          },
          "metadata": {},
          "execution_count": 8
        }
      ]
    },
    {
      "cell_type": "code",
      "source": [
        "# Definir o tipo de dados pode ser útil para otimização. Por padrão é int 32 ou float32.\n",
        "matriz_2 = tf.constant([[10., 7., 9.],\n",
        "                        [8., 1., 0.]],\n",
        "                        dtype=tf.float16) # especificando o dtype\n",
        "matriz_2"
      ],
      "metadata": {
        "colab": {
          "base_uri": "https://localhost:8080/"
        },
        "id": "qxyIuoMHIXlS",
        "outputId": "980d286b-c6cf-4416-a33a-35561091694c"
      },
      "execution_count": null,
      "outputs": [
        {
          "output_type": "execute_result",
          "data": {
            "text/plain": [
              "<tf.Tensor: shape=(2, 3), dtype=float16, numpy=\n",
              "array([[10.,  7.,  9.],\n",
              "       [ 8.,  1.,  0.]], dtype=float16)>"
            ]
          },
          "metadata": {},
          "execution_count": 9
        }
      ]
    },
    {
      "cell_type": "code",
      "source": [
        "# Tensor de 3 dimensões = matriz 3D :O\n",
        "tensor = tf.constant([[[1, 2, 3],\n",
        "                       [4, 5, 6]],\n",
        "                      [[7, 8, 9],\n",
        "                       [10, 11, 12]],\n",
        "                      [[13, 14, 15],\n",
        "                       [16, 17, 18]]])\n",
        "tensor"
      ],
      "metadata": {
        "colab": {
          "base_uri": "https://localhost:8080/"
        },
        "id": "vVSmntKoJjMN",
        "outputId": "a37d048b-cc8f-4ab0-cf18-e85b87bbc75c"
      },
      "execution_count": null,
      "outputs": [
        {
          "output_type": "execute_result",
          "data": {
            "text/plain": [
              "<tf.Tensor: shape=(3, 2, 3), dtype=int32, numpy=\n",
              "array([[[ 1,  2,  3],\n",
              "        [ 4,  5,  6]],\n",
              "\n",
              "       [[ 7,  8,  9],\n",
              "        [10, 11, 12]],\n",
              "\n",
              "       [[13, 14, 15],\n",
              "        [16, 17, 18]]], dtype=int32)>"
            ]
          },
          "metadata": {},
          "execution_count": 10
        }
      ]
    },
    {
      "cell_type": "code",
      "source": [
        "# Tensor de zeros\n",
        "tf.zeros(shape=(3, 8))"
      ],
      "metadata": {
        "colab": {
          "base_uri": "https://localhost:8080/"
        },
        "id": "Bx3Hy8iQPi_y",
        "outputId": "0ba3205c-f61d-45b4-b5fe-086df6e447a8"
      },
      "execution_count": null,
      "outputs": [
        {
          "output_type": "execute_result",
          "data": {
            "text/plain": [
              "<tf.Tensor: shape=(3, 8), dtype=float32, numpy=\n",
              "array([[0., 0., 0., 0., 0., 0., 0., 0.],\n",
              "       [0., 0., 0., 0., 0., 0., 0., 0.],\n",
              "       [0., 0., 0., 0., 0., 0., 0., 0.]], dtype=float32)>"
            ]
          },
          "metadata": {},
          "execution_count": 11
        }
      ]
    },
    {
      "cell_type": "code",
      "source": [
        "# Tensor de 1\n",
        "tf.ones(shape=(3, 1))"
      ],
      "metadata": {
        "colab": {
          "base_uri": "https://localhost:8080/"
        },
        "id": "B5XPUDL0PlOA",
        "outputId": "f0b6a027-6387-4452-9e3f-fc529522a478"
      },
      "execution_count": null,
      "outputs": [
        {
          "output_type": "execute_result",
          "data": {
            "text/plain": [
              "<tf.Tensor: shape=(3, 1), dtype=float32, numpy=\n",
              "array([[1.],\n",
              "       [1.],\n",
              "       [1.]], dtype=float32)>"
            ]
          },
          "metadata": {},
          "execution_count": 12
        }
      ]
    },
    {
      "cell_type": "markdown",
      "source": [
        "**Tensores variáveis**\n",
        "\n",
        "Como o próprio nome diz, seus valores são mutáveis."
      ],
      "metadata": {
        "id": "pkL0xmxNLTZt"
      }
    },
    {
      "cell_type": "code",
      "source": [
        "tensor_2= tf.Variable([[1., 2.],\n",
        "                       [0., 0.],\n",
        "                       [4., 4.]])\n",
        "# É necessário usar .assign para mudar o valor\n",
        "tensor_2[1].assign(2)\n",
        "tensor_2.numpy()"
      ],
      "metadata": {
        "colab": {
          "base_uri": "https://localhost:8080/"
        },
        "id": "u7E19yGlLWMl",
        "outputId": "77f310a4-d4d1-4366-81f5-af242db1f7dd"
      },
      "execution_count": null,
      "outputs": [
        {
          "output_type": "execute_result",
          "data": {
            "text/plain": [
              "array([[1., 2.],\n",
              "       [2., 2.],\n",
              "       [4., 4.]], dtype=float32)"
            ]
          },
          "metadata": {},
          "execution_count": 13
        }
      ]
    },
    {
      "cell_type": "code",
      "source": [
        "tensor_2.assign_add([[1., 2.], [0., 0. ], [1., 1.]]) # adiciona elemento por elemento"
      ],
      "metadata": {
        "colab": {
          "base_uri": "https://localhost:8080/"
        },
        "id": "fBYjRV_TX8kP",
        "outputId": "46367035-2071-43ea-9ee6-cd3f076d0c5c"
      },
      "execution_count": null,
      "outputs": [
        {
          "output_type": "execute_result",
          "data": {
            "text/plain": [
              "<tf.Variable 'UnreadVariable' shape=(3, 2) dtype=float32, numpy=\n",
              "array([[2., 4.],\n",
              "       [2., 2.],\n",
              "       [5., 5.]], dtype=float32)>"
            ]
          },
          "metadata": {},
          "execution_count": 14
        }
      ]
    },
    {
      "cell_type": "markdown",
      "source": [
        "**Tensores randômicos**"
      ],
      "metadata": {
        "id": "JCYOX26ROD5V"
      }
    },
    {
      "cell_type": "code",
      "source": [
        "# Caso você queira que os resultados se mantenham reproduzíveis, não se esqueça de usar uma seed\n",
        "random_1 = tf.random.Generator.from_seed(1) # seed\n",
        "random_1 = random_1.normal(shape=(3, 5)) # usando distribuição normal\n",
        "random_2 = tf.random.Generator.from_seed(1)\n",
        "random_2 = random_2.normal(shape=(3, 5))\n",
        "\n",
        "random_1, random_2"
      ],
      "metadata": {
        "colab": {
          "base_uri": "https://localhost:8080/"
        },
        "id": "zk9DEaZYOIUN",
        "outputId": "336cab00-0129-47a5-c22c-32ae356ca510"
      },
      "execution_count": null,
      "outputs": [
        {
          "output_type": "execute_result",
          "data": {
            "text/plain": [
              "(<tf.Tensor: shape=(3, 5), dtype=float32, numpy=\n",
              " array([[ 0.43842277, -0.53439844, -0.07710262,  1.5658045 , -0.1012345 ],\n",
              "        [-0.2744976 ,  1.4204658 ,  1.2609464 , -0.43640924, -1.9633987 ],\n",
              "        [-0.06452483, -1.056841  ,  1.0019135 ,  0.67351365,  0.06987712]],\n",
              "       dtype=float32)>,\n",
              " <tf.Tensor: shape=(3, 5), dtype=float32, numpy=\n",
              " array([[ 0.43842277, -0.53439844, -0.07710262,  1.5658045 , -0.1012345 ],\n",
              "        [-0.2744976 ,  1.4204658 ,  1.2609464 , -0.43640924, -1.9633987 ],\n",
              "        [-0.06452483, -1.056841  ,  1.0019135 ,  0.67351365,  0.06987712]],\n",
              "       dtype=float32)>)"
            ]
          },
          "metadata": {},
          "execution_count": 15
        }
      ]
    },
    {
      "cell_type": "markdown",
      "source": [
        "**Shuffle**"
      ],
      "metadata": {
        "id": "aWzt-6fFO3Qu"
      }
    },
    {
      "cell_type": "markdown",
      "source": [
        "Pode ser útil em data augmentation(aumento de dados)"
      ],
      "metadata": {
        "id": "6AUzWzxSO7d8"
      }
    },
    {
      "cell_type": "code",
      "source": [
        "tf.random.shuffle(random_1, seed=1)"
      ],
      "metadata": {
        "colab": {
          "base_uri": "https://localhost:8080/"
        },
        "id": "7FDiZjHAO4wl",
        "outputId": "eb4df8b3-dbfd-42eb-b1c3-f354ea8b5977"
      },
      "execution_count": null,
      "outputs": [
        {
          "output_type": "execute_result",
          "data": {
            "text/plain": [
              "<tf.Tensor: shape=(3, 5), dtype=float32, numpy=\n",
              "array([[ 0.43842277, -0.53439844, -0.07710262,  1.5658045 , -0.1012345 ],\n",
              "       [-0.06452483, -1.056841  ,  1.0019135 ,  0.67351365,  0.06987712],\n",
              "       [-0.2744976 ,  1.4204658 ,  1.2609464 , -0.43640924, -1.9633987 ]],\n",
              "      dtype=float32)>"
            ]
          },
          "metadata": {},
          "execution_count": 16
        }
      ]
    },
    {
      "cell_type": "markdown",
      "source": [
        "**Indexing e outras informações**"
      ],
      "metadata": {
        "id": "Kc--R4PNP_Rh"
      }
    },
    {
      "cell_type": "code",
      "source": [
        "# \"Geometria\" do tensor\n",
        "random_1.shape, random_1.ndim, tf.size(random_1)"
      ],
      "metadata": {
        "colab": {
          "base_uri": "https://localhost:8080/"
        },
        "id": "YWL32lzSQR9H",
        "outputId": "efc69f30-73a2-4449-81bb-da114b2edf0b"
      },
      "execution_count": null,
      "outputs": [
        {
          "output_type": "execute_result",
          "data": {
            "text/plain": [
              "(TensorShape([3, 5]), 2, <tf.Tensor: shape=(), dtype=int32, numpy=15>)"
            ]
          },
          "metadata": {},
          "execution_count": 17
        }
      ]
    },
    {
      "cell_type": "code",
      "source": [
        "# Trabalhar com índices é igual ao Numpy\n",
        "random_1[:2, :4]"
      ],
      "metadata": {
        "colab": {
          "base_uri": "https://localhost:8080/"
        },
        "id": "kH_7Hjo1Qp2D",
        "outputId": "e1ab148d-0d8e-41d4-e7ff-04544b844726"
      },
      "execution_count": null,
      "outputs": [
        {
          "output_type": "execute_result",
          "data": {
            "text/plain": [
              "<tf.Tensor: shape=(2, 4), dtype=float32, numpy=\n",
              "array([[ 0.43842277, -0.53439844, -0.07710262,  1.5658045 ],\n",
              "       [-0.2744976 ,  1.4204658 ,  1.2609464 , -0.43640924]],\n",
              "      dtype=float32)>"
            ]
          },
          "metadata": {},
          "execution_count": 18
        }
      ]
    },
    {
      "cell_type": "code",
      "source": [
        "# Para expandir dimensões\n",
        "tf.expand_dims(random_1, axis=2)"
      ],
      "metadata": {
        "colab": {
          "base_uri": "https://localhost:8080/"
        },
        "id": "ew4_4V-qQtzL",
        "outputId": "3ef32ca8-d6e3-421c-c919-b58c853335b0"
      },
      "execution_count": null,
      "outputs": [
        {
          "output_type": "execute_result",
          "data": {
            "text/plain": [
              "<tf.Tensor: shape=(3, 5, 1), dtype=float32, numpy=\n",
              "array([[[ 0.43842277],\n",
              "        [-0.53439844],\n",
              "        [-0.07710262],\n",
              "        [ 1.5658045 ],\n",
              "        [-0.1012345 ]],\n",
              "\n",
              "       [[-0.2744976 ],\n",
              "        [ 1.4204658 ],\n",
              "        [ 1.2609464 ],\n",
              "        [-0.43640924],\n",
              "        [-1.9633987 ]],\n",
              "\n",
              "       [[-0.06452483],\n",
              "        [-1.056841  ],\n",
              "        [ 1.0019135 ],\n",
              "        [ 0.67351365],\n",
              "        [ 0.06987712]]], dtype=float32)>"
            ]
          },
          "metadata": {},
          "execution_count": 19
        }
      ]
    },
    {
      "cell_type": "markdown",
      "source": [
        "**Operações com tensores**"
      ],
      "metadata": {
        "id": "ZBmidBRtRUcs"
      }
    },
    {
      "cell_type": "code",
      "source": [
        "# Básicas\n",
        "random_1 + 1, random_1*10, random_1 - 2"
      ],
      "metadata": {
        "id": "qQkFHS2QR63m",
        "colab": {
          "base_uri": "https://localhost:8080/"
        },
        "outputId": "ac8ba62e-583d-4d5f-e4e3-075469ef9bc7"
      },
      "execution_count": null,
      "outputs": [
        {
          "output_type": "execute_result",
          "data": {
            "text/plain": [
              "(<tf.Tensor: shape=(3, 5), dtype=float32, numpy=\n",
              " array([[ 1.4384228 ,  0.46560156,  0.9228974 ,  2.5658045 ,  0.8987655 ],\n",
              "        [ 0.7255024 ,  2.420466  ,  2.2609463 ,  0.56359076, -0.9633987 ],\n",
              "        [ 0.9354752 , -0.05684102,  2.0019135 ,  1.6735137 ,  1.0698771 ]],\n",
              "       dtype=float32)>,\n",
              " <tf.Tensor: shape=(3, 5), dtype=float32, numpy=\n",
              " array([[  4.3842278 ,  -5.3439846 ,  -0.77102613,  15.658045  ,\n",
              "          -1.0123451 ],\n",
              "        [ -2.744976  ,  14.2046585 ,  12.609464  ,  -4.3640924 ,\n",
              "         -19.633987  ],\n",
              "        [ -0.6452483 , -10.56841   ,  10.019135  ,   6.7351365 ,\n",
              "           0.6987712 ]], dtype=float32)>,\n",
              " <tf.Tensor: shape=(3, 5), dtype=float32, numpy=\n",
              " array([[-1.5615772 , -2.5343986 , -2.0771027 , -0.43419552, -2.1012344 ],\n",
              "        [-2.2744975 , -0.5795342 , -0.7390536 , -2.4364092 , -3.9633987 ],\n",
              "        [-2.064525  , -3.056841  , -0.99808645, -1.3264863 , -1.9301229 ]],\n",
              "       dtype=float32)>)"
            ]
          },
          "metadata": {},
          "execution_count": 20
        }
      ]
    },
    {
      "cell_type": "code",
      "source": [
        "# Pode ser usado também as funções próprias do tensorflow\n",
        "tf.multiply(random_1, 10)"
      ],
      "metadata": {
        "colab": {
          "base_uri": "https://localhost:8080/"
        },
        "id": "hHJXxYswR8ct",
        "outputId": "d20f92b3-b56d-424b-ed2b-59a11a33a410"
      },
      "execution_count": null,
      "outputs": [
        {
          "output_type": "execute_result",
          "data": {
            "text/plain": [
              "<tf.Tensor: shape=(3, 5), dtype=float32, numpy=\n",
              "array([[  4.3842278 ,  -5.3439846 ,  -0.77102613,  15.658045  ,\n",
              "         -1.0123451 ],\n",
              "       [ -2.744976  ,  14.2046585 ,  12.609464  ,  -4.3640924 ,\n",
              "        -19.633987  ],\n",
              "       [ -0.6452483 , -10.56841   ,  10.019135  ,   6.7351365 ,\n",
              "          0.6987712 ]], dtype=float32)>"
            ]
          },
          "metadata": {},
          "execution_count": 21
        }
      ]
    },
    {
      "cell_type": "code",
      "source": [
        "# As matrizes tem tamanhos incompativeis para mult. Para ajeitar o tamanho:\n",
        "random_2=tf.reshape(random_2, shape=(5, 3))\n",
        "random_2"
      ],
      "metadata": {
        "id": "9bB02M0HS879",
        "colab": {
          "base_uri": "https://localhost:8080/"
        },
        "outputId": "c8d6deda-4d9b-423b-9fbe-ac4646bd5557"
      },
      "execution_count": null,
      "outputs": [
        {
          "output_type": "execute_result",
          "data": {
            "text/plain": [
              "<tf.Tensor: shape=(5, 3), dtype=float32, numpy=\n",
              "array([[ 0.43842277, -0.53439844, -0.07710262],\n",
              "       [ 1.5658045 , -0.1012345 , -0.2744976 ],\n",
              "       [ 1.4204658 ,  1.2609464 , -0.43640924],\n",
              "       [-1.9633987 , -0.06452483, -1.056841  ],\n",
              "       [ 1.0019135 ,  0.67351365,  0.06987712]], dtype=float32)>"
            ]
          },
          "metadata": {},
          "execution_count": 24
        }
      ]
    },
    {
      "cell_type": "code",
      "source": [
        "tf.matmul(random_1, random_2)"
      ],
      "metadata": {
        "id": "0th4L8aSTIlr"
      },
      "execution_count": null,
      "outputs": []
    },
    {
      "cell_type": "code",
      "source": [
        "# Transposição\n",
        "tf.transpose(random_1)"
      ],
      "metadata": {
        "colab": {
          "base_uri": "https://localhost:8080/"
        },
        "id": "DcrXqGjtTRfl",
        "outputId": "be2b0593-bae4-49eb-8a4a-9717a89ef634"
      },
      "execution_count": null,
      "outputs": [
        {
          "output_type": "execute_result",
          "data": {
            "text/plain": [
              "<tf.Tensor: shape=(5, 3), dtype=float32, numpy=\n",
              "array([[ 0.43842277, -0.2744976 , -0.06452483],\n",
              "       [-0.53439844,  1.4204658 , -1.056841  ],\n",
              "       [-0.07710262,  1.2609464 ,  1.0019135 ],\n",
              "       [ 1.5658045 , -0.43640924,  0.67351365],\n",
              "       [-0.1012345 , -1.9633987 ,  0.06987712]], dtype=float32)>"
            ]
          },
          "metadata": {},
          "execution_count": 26
        }
      ]
    },
    {
      "cell_type": "code",
      "source": [
        "tf.sqrt(tf.abs(random_1)) # raiz quadrada"
      ],
      "metadata": {
        "colab": {
          "base_uri": "https://localhost:8080/"
        },
        "id": "rEa54cK7XZwm",
        "outputId": "2c3b28b3-9895-4adf-c62d-283c0ea4efb4"
      },
      "execution_count": null,
      "outputs": [
        {
          "output_type": "execute_result",
          "data": {
            "text/plain": [
              "<tf.Tensor: shape=(3, 5), dtype=float32, numpy=\n",
              "array([[0.662135  , 0.7310256 , 0.27767357, 1.2513211 , 0.3181737 ],\n",
              "       [0.5239252 , 1.1918329 , 1.1229187 , 0.66061276, 1.4012133 ],\n",
              "       [0.25401738, 1.0280278 , 1.0009563 , 0.8206788 , 0.2643428 ]],\n",
              "      dtype=float32)>"
            ]
          },
          "metadata": {},
          "execution_count": 27
        }
      ]
    },
    {
      "cell_type": "markdown",
      "source": [
        "**Mudança de dados**"
      ],
      "metadata": {
        "id": "we62F-NZUtnx"
      }
    },
    {
      "cell_type": "code",
      "source": [
        "A= tf.constant([1, 2])\n",
        "A"
      ],
      "metadata": {
        "colab": {
          "base_uri": "https://localhost:8080/"
        },
        "id": "T1tymw3qTa6C",
        "outputId": "30068c97-5aa0-4fa8-d12b-76feaa5ef8e2"
      },
      "execution_count": null,
      "outputs": [
        {
          "output_type": "execute_result",
          "data": {
            "text/plain": [
              "<tf.Tensor: shape=(2,), dtype=int32, numpy=array([1, 2], dtype=int32)>"
            ]
          },
          "metadata": {},
          "execution_count": 28
        }
      ]
    },
    {
      "cell_type": "code",
      "source": [
        "B= tf.cast(A, dtype=tf.float16) # Vai ser útil mudar o dtype posteriormente\n",
        "B"
      ],
      "metadata": {
        "colab": {
          "base_uri": "https://localhost:8080/"
        },
        "id": "AJdAil-uU81G",
        "outputId": "4205263b-afba-4110-9052-274a15176d02"
      },
      "execution_count": null,
      "outputs": [
        {
          "output_type": "execute_result",
          "data": {
            "text/plain": [
              "<tf.Tensor: shape=(2,), dtype=float16, numpy=array([1., 2.], dtype=float16)>"
            ]
          },
          "metadata": {},
          "execution_count": 30
        }
      ]
    },
    {
      "cell_type": "markdown",
      "source": [
        "**Máximos, mínimos e módulo**\n"
      ],
      "metadata": {
        "id": "7jxtH6knVJwN"
      }
    },
    {
      "cell_type": "code",
      "source": [
        "A"
      ],
      "metadata": {
        "colab": {
          "base_uri": "https://localhost:8080/"
        },
        "id": "Z386ON5iVfOh",
        "outputId": "b7d894b4-ac51-46e2-bf0b-fbe4c9fc169e"
      },
      "execution_count": null,
      "outputs": [
        {
          "output_type": "execute_result",
          "data": {
            "text/plain": [
              "<tf.Tensor: shape=(2,), dtype=int32, numpy=array([1, 2], dtype=int32)>"
            ]
          },
          "metadata": {},
          "execution_count": 31
        }
      ]
    },
    {
      "cell_type": "code",
      "source": [
        "tf.abs(A) # valor absoluto"
      ],
      "metadata": {
        "colab": {
          "base_uri": "https://localhost:8080/"
        },
        "id": "399xLoFnVwsN",
        "outputId": "3592a609-f087-49e3-82d0-250ed7e02979"
      },
      "execution_count": null,
      "outputs": [
        {
          "output_type": "execute_result",
          "data": {
            "text/plain": [
              "<tf.Tensor: shape=(2,), dtype=int32, numpy=array([1, 2], dtype=int32)>"
            ]
          },
          "metadata": {},
          "execution_count": 32
        }
      ]
    },
    {
      "cell_type": "code",
      "source": [
        "tf.reduce_max(A) # máximo global"
      ],
      "metadata": {
        "colab": {
          "base_uri": "https://localhost:8080/"
        },
        "id": "PNcGbEe2WUb4",
        "outputId": "9557536c-7652-49f5-8d3f-5dec823521cc"
      },
      "execution_count": null,
      "outputs": [
        {
          "output_type": "execute_result",
          "data": {
            "text/plain": [
              "<tf.Tensor: shape=(), dtype=int32, numpy=2>"
            ]
          },
          "metadata": {},
          "execution_count": 33
        }
      ]
    },
    {
      "cell_type": "code",
      "source": [
        "tf.reduce_min(A) # mínimo global"
      ],
      "metadata": {
        "colab": {
          "base_uri": "https://localhost:8080/"
        },
        "id": "8lCFXW6RWYBv",
        "outputId": "d076f7db-4880-4527-8c57-8c2035ddb280"
      },
      "execution_count": null,
      "outputs": [
        {
          "output_type": "execute_result",
          "data": {
            "text/plain": [
              "<tf.Tensor: shape=(), dtype=int32, numpy=1>"
            ]
          },
          "metadata": {},
          "execution_count": 34
        }
      ]
    },
    {
      "cell_type": "code",
      "source": [
        "tf.reduce_mean(A) # média"
      ],
      "metadata": {
        "colab": {
          "base_uri": "https://localhost:8080/"
        },
        "id": "_v15WNpMWYgf",
        "outputId": "f8fb9820-0366-474d-f0ad-abe2cb4e11c6"
      },
      "execution_count": null,
      "outputs": [
        {
          "output_type": "execute_result",
          "data": {
            "text/plain": [
              "<tf.Tensor: shape=(), dtype=int32, numpy=1>"
            ]
          },
          "metadata": {},
          "execution_count": 35
        }
      ]
    },
    {
      "cell_type": "code",
      "source": [
        "tf.reduce_sum(A) # soma dos elementos"
      ],
      "metadata": {
        "colab": {
          "base_uri": "https://localhost:8080/"
        },
        "id": "20HJniXIWY1P",
        "outputId": "624cd216-b0b3-41bc-844b-57341cf7ec08"
      },
      "execution_count": null,
      "outputs": [
        {
          "output_type": "execute_result",
          "data": {
            "text/plain": [
              "<tf.Tensor: shape=(), dtype=int32, numpy=3>"
            ]
          },
          "metadata": {},
          "execution_count": 36
        }
      ]
    },
    {
      "cell_type": "code",
      "source": [
        "tf.argmax(A) #posição do máximo"
      ],
      "metadata": {
        "colab": {
          "base_uri": "https://localhost:8080/"
        },
        "id": "2g5KX6VZXAlB",
        "outputId": "09201345-1bf3-43ee-d8ac-9b6bfb5dd356"
      },
      "execution_count": null,
      "outputs": [
        {
          "output_type": "execute_result",
          "data": {
            "text/plain": [
              "<tf.Tensor: shape=(), dtype=int64, numpy=1>"
            ]
          },
          "metadata": {},
          "execution_count": 37
        }
      ]
    },
    {
      "cell_type": "code",
      "source": [
        "tf.argmin(A) #posição do mínimo"
      ],
      "metadata": {
        "colab": {
          "base_uri": "https://localhost:8080/"
        },
        "id": "hgFdMkDnXCA4",
        "outputId": "0a27f273-7f38-42c8-c6c9-b23908d9d1f6"
      },
      "execution_count": null,
      "outputs": [
        {
          "output_type": "execute_result",
          "data": {
            "text/plain": [
              "<tf.Tensor: shape=(), dtype=int64, numpy=0>"
            ]
          },
          "metadata": {},
          "execution_count": 38
        }
      ]
    },
    {
      "cell_type": "markdown",
      "source": [
        "**Squeeze**"
      ],
      "metadata": {
        "id": "Uy6ZCBbUXdK0"
      }
    },
    {
      "cell_type": "markdown",
      "source": [
        "Retira dimensões = 1"
      ],
      "metadata": {
        "id": "BSJjR9upk1KY"
      }
    },
    {
      "cell_type": "code",
      "source": [
        "C = tf.constant(np.random.randint(0, 1000, 50), shape=(1, 1, 1, 50))\n",
        "C.shape, C.ndim"
      ],
      "metadata": {
        "colab": {
          "base_uri": "https://localhost:8080/"
        },
        "id": "Tgg5GLBSXepz",
        "outputId": "26cfaf92-73d0-4cdf-8152-a91da450fceb"
      },
      "execution_count": null,
      "outputs": [
        {
          "output_type": "execute_result",
          "data": {
            "text/plain": [
              "(TensorShape([1, 1, 1, 50]), 4)"
            ]
          },
          "metadata": {},
          "execution_count": 39
        }
      ]
    },
    {
      "cell_type": "code",
      "source": [
        "C_squeezed = tf.squeeze(C)\n",
        "C_squeezed.shape, C_squeezed.ndim"
      ],
      "metadata": {
        "colab": {
          "base_uri": "https://localhost:8080/"
        },
        "id": "gfQ9FwgXXoyq",
        "outputId": "002becb3-1a8c-4b6e-cb1a-9fae4af924dd"
      },
      "execution_count": null,
      "outputs": [
        {
          "output_type": "execute_result",
          "data": {
            "text/plain": [
              "(TensorShape([50]), 1)"
            ]
          },
          "metadata": {},
          "execution_count": 40
        }
      ]
    },
    {
      "cell_type": "markdown",
      "source": [
        "**Decorador**"
      ],
      "metadata": {
        "id": "ECXAJVgoYziQ"
      }
    },
    {
      "cell_type": "markdown",
      "source": [
        "Para entender as vantagens do decorador, leia abaixo:\n",
        "https://www.tensorflow.org/guide/function?hl=pt-br"
      ],
      "metadata": {
        "id": "koyj_qbRY_Tk"
      }
    },
    {
      "cell_type": "markdown",
      "source": [
        "Basicamente:\n",
        "A função dessa forma gera gráficos, que capturados fornecem dois benefícios:\n",
        "\n",
        "1- Aceleração significativa na execução.\n",
        "\n",
        "2- Exportar esses gráficos, usando tf.saved_model , para executar em outros sistemas como um servidor ou um dispositivo móvel , sem necessidade de instalação do Python."
      ],
      "metadata": {
        "id": "w8AO5uOGlZ6C"
      }
    },
    {
      "cell_type": "code",
      "source": [
        "@tf.function\n",
        "def tf_function(x, y):\n",
        "  return x ** 2 + y\n"
      ],
      "metadata": {
        "id": "odtXHHX5Y2Im"
      },
      "execution_count": null,
      "outputs": []
    }
  ]
}